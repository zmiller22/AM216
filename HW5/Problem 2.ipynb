{
 "cells": [
  {
   "cell_type": "markdown",
   "metadata": {
    "colab_type": "text",
    "id": "buOgyXKnslhM"
   },
   "source": [
    "# Problem 1. Model inference with graphical model\n",
    "\n",
    "A graphical model provides a visual overview of inderdepedency structures of random variables to compactly represent their joint distribution.\n",
    "\n",
    "In this problem, your task is to discover the model of data generating process for the following graphical model. Before proceeding, see \"Graphical model\" part of \"Going Bayesian\" section notebook for review of notations."
   ]
  },
  {
   "cell_type": "code",
   "execution_count": 25,
   "metadata": {
    "colab": {
     "base_uri": "https://localhost:8080/",
     "height": 34
    },
    "colab_type": "code",
    "id": "LRYoJVKfvVsn",
    "outputId": "e7eb591a-9dc6-43ca-9321-8db2abebb248"
   },
   "outputs": [],
   "source": [
    "import numpy as np\n",
    "\n",
    "import tensorflow as tf\n",
    "import tensorflow_probability as tfp\n",
    "tfd = tfp.distributions\n",
    "\n",
    "import daft\n",
    "import matplotlib.pyplot as plt"
   ]
  },
  {
   "cell_type": "code",
   "execution_count": 2,
   "metadata": {
    "colab": {
     "base_uri": "https://localhost:8080/",
     "height": 418
    },
    "colab_type": "code",
    "id": "cNjVY7vIp7F1",
    "outputId": "3702b0b8-9327-41a0-9283-fb304c977472"
   },
   "outputs": [
    {
     "data": {
      "image/png": "[encoded data removed]",
      "text/plain": [
       "<Figure size 472.441x377.953 with 1 Axes>"
      ]
     },
     "metadata": {},
     "output_type": "display_data"
    }
   ],
   "source": [
    "pgm = daft.PGM(shape=(5,4))\n",
    "\n",
    "# Add nodes\n",
    "pgm.add_node(daft.Node(\"a\", r\"$a$\", 1, 3.5, observed=True))\n",
    "pgm.add_node(daft.Node(\"b_i\", r\"$b_i$\", 1, 2, observed=True))\n",
    "pgm.add_node(daft.Node(\"c_ij\", r\"$c_{ij}$\", 4, 2, observed=True))\n",
    "pgm.add_node(daft.Node(\"d\", r\"$d$\", 4, 3.5, observed=True))\n",
    "\n",
    "# Add in the edges\n",
    "pgm.add_edge(\"a\", \"b_i\")\n",
    "pgm.add_edge(\"b_i\", \"c_ij\")\n",
    "pgm.add_edge(\"d\", \"c_ij\")\n",
    "\n",
    "# Add a plate\n",
    "pgm.add_plate(daft.Plate([3.25, 1.25, 1.5, 1.5], label=r'$j=1 \\cdots 10$'))\n",
    "pgm.add_plate(daft.Plate([0.1, 1, 4.8, 2], label=r'$i=1, 2$'))\n",
    "\n",
    "\n",
    "# Render an image\n",
    "pgm.render()\n",
    "pgm.figure.dpi = 120"
   ]
  },
  {
   "cell_type": "markdown",
   "metadata": {
    "colab_type": "text",
    "id": "bRtHyYG_y3t-"
   },
   "source": [
    "### (a): Write down the factored expression of *joint* distribution specified by this graphical model."
   ]
  },
  {
   "cell_type": "markdown",
   "metadata": {
    "colab_type": "text",
    "id": "ifsQrDzTqHC4"
   },
   "source": [
    "***Your answer here:***\n",
    "\n",
    "$P(a,b_i,c_{i,j},d)=P(c_{i,j}|b_i,d)P(b_i|a)P(a,d)$"
   ]
  },
  {
   "cell_type": "markdown",
   "metadata": {
    "colab_type": "text",
    "id": "HV6cLtIz0eld"
   },
   "source": [
    "Random variables in this model are drawn from `Normal`, `Exponential`, `Gamma`, and `Beta` distributions, but we are not telling you which random variabble is drawn from which. So, you will have to define `JointDistribution` model with different permutations of distributions, optimize the model parameter via MLE, and choose the model with the largest data likelihood. "
   ]
  },
  {
   "cell_type": "markdown",
   "metadata": {
    "colab_type": "text",
    "id": "O2U6DHnMoMxz"
   },
   "source": [
    "Here is an example to help you get started."
   ]
  },
  {
   "cell_type": "markdown",
   "metadata": {
    "colab_type": "text",
    "id": "x11AaDqSqNo9"
   },
   "source": [
    "### Neal's funnel\n",
    "\n",
    "$p(x,y,z)=\\mathcal{N}(z|-1.5, 3) \\ \\mathcal{N}(x|0, \\exp(z/4))\\ \\mathcal{N}(x|0, 1.2\\exp(z/4))$\n"
   ]
  },
  {
   "cell_type": "code",
   "execution_count": 3,
   "metadata": {
    "colab": {
     "base_uri": "https://localhost:8080/",
     "height": 283
    },
    "colab_type": "code",
    "id": "fxXqhFluy2od",
    "outputId": "9cc537e2-5d7e-49e3-8204-38d3526c2880"
   },
   "outputs": [
    {
     "data": {
      "image/png": "[encoded data removed]",
      "text/plain": [
       "<Figure size 354.331x236.22 with 1 Axes>"
      ]
     },
     "metadata": {},
     "output_type": "display_data"
    }
   ],
   "source": [
    "pgm = daft.PGM(shape=(3,2))\n",
    "\n",
    "# Add nodes\n",
    "pgm.add_node(daft.Node(\"z\", r\"$z$\", 1, 1.5, observed=True))\n",
    "pgm.add_node(daft.Node(\"x\", r\"$x$\", 1.5, 0.5, observed=True))\n",
    "pgm.add_node(daft.Node(\"y\", r\"$y$\", 2.5, 0.5, observed=True))\n",
    "\n",
    "# Add in the edges\n",
    "pgm.add_edge(\"z\", \"x\")\n",
    "pgm.add_edge(\"z\", \"y\")\n",
    "\n",
    "# Render an image\n",
    "pgm.render()\n",
    "pgm.figure.dpi = 150"
   ]
  },
  {
   "cell_type": "markdown",
   "metadata": {
    "colab_type": "text",
    "id": "iUbr-VOarUyL"
   },
   "source": [
    "You can specify variable name using `JointDistributionNamed` class."
   ]
  },
  {
   "cell_type": "code",
   "execution_count": 4,
   "metadata": {
    "colab": {
     "base_uri": "https://localhost:8080/",
     "height": 34
    },
    "colab_type": "code",
    "id": "WELzNnF_qnGi",
    "outputId": "b03a1bde-ddd6-4eff-ee66-65fd8ad9c842"
   },
   "outputs": [
    {
     "data": {
      "text/plain": [
       "dict_keys(['z', 'y', 'x'])"
      ]
     },
     "execution_count": 4,
     "metadata": {},
     "output_type": "execute_result"
    }
   ],
   "source": [
    "# Joint distribution of Neal's funnel\n",
    "joint = tfd.JointDistributionNamed(dict(\n",
    "    z=          tfd.Normal(loc=-1.5, scale=3.), \n",
    "    x=lambda z: tfd.Normal(loc=0., scale=tf.exp(z/4)), \n",
    "    y=lambda z: tfd.Normal(loc=0., scale=1.2*tf.exp(z/4)), \n",
    "))\n",
    "\n",
    "joint.sample(1000).keys()"
   ]
  },
  {
   "cell_type": "markdown",
   "metadata": {
    "colab_type": "text",
    "id": "AMMpv3Ci_eX4"
   },
   "source": [
    "**Hint**: When defining the dependency of $c$ on $b$, you will obtain two sets of random variable $c$'s (i.e., $c_{1j}$ and $c_{2j}$). You can tell Tensorflow probability to interpret these as a single random varialbe with `Independent` distribution class. Here is an example:"
   ]
  },
  {
   "cell_type": "code",
   "execution_count": 5,
   "metadata": {
    "colab": {
     "base_uri": "https://localhost:8080/",
     "height": 34
    },
    "colab_type": "code",
    "id": "ZNzGTjZtB9uH",
    "outputId": "f3757e7b-714d-404c-8f45-80123e0c06e2"
   },
   "outputs": [
    {
     "data": {
      "text/plain": [
       "TensorShape([100, 2])"
      ]
     },
     "execution_count": 5,
     "metadata": {},
     "output_type": "execute_result"
    }
   ],
   "source": [
    "# two independent random variables\n",
    "rv1 = tfd.Normal(loc=-1., scale=0.1)\n",
    "rv2 = tfd.Normal(loc=1., scale=0.5)\n",
    "\n",
    "# single random variable\n",
    "rv = tfd.Independent(\n",
    "    distribution=tfd.Normal(loc=[-1., 1], scale=[0.1, 0.5])\n",
    ")\n",
    "\n",
    "rv_samples = rv.sample(100)\n",
    "rv_samples.shape # this will have 2x100 dimension"
   ]
  },
  {
   "cell_type": "markdown",
   "metadata": {
    "colab_type": "text",
    "id": "sisESnXE0L-v"
   },
   "source": [
    "Consider the following graphical model where\n",
    "\n",
    "$\\begin{align*}\n",
    "  a &\\sim \\text{Beta}(a|5, 5) \\\\\n",
    "  b_i &\\sim \\text{Exp}(b_i|3) \\\\\n",
    "  c_{ij} &\\sim \\text{LogNormal}(c_{ij}|b_i, a) \\\\\n",
    "  \\end{align*}$"
   ]
  },
  {
   "cell_type": "code",
   "execution_count": 6,
   "metadata": {
    "colab": {
     "base_uri": "https://localhost:8080/",
     "height": 418
    },
    "colab_type": "code",
    "id": "EP5VpHNv0TVl",
    "outputId": "ff559c36-7963-4e1b-f283-d1e6a28f94b6"
   },
   "outputs": [
    {
     "data": {
      "image/png": "[encoded data removed]",
      "text/plain": [
       "<Figure size 472.441x377.953 with 1 Axes>"
      ]
     },
     "metadata": {},
     "output_type": "display_data"
    }
   ],
   "source": [
    "pgm = daft.PGM(shape=(5,4))\n",
    "\n",
    "# Add nodes\n",
    "pgm.add_node(daft.Node(\"b_i\", r\"$b_i$\", 1, 2, observed=True))\n",
    "pgm.add_node(daft.Node(\"c_ij\", r\"$c_{ij}$\", 4, 2, observed=True))\n",
    "pgm.add_node(daft.Node(\"a\", r\"$a$\", 4, 3.5, observed=True))\n",
    "\n",
    "# Add in the edges\n",
    "pgm.add_edge(\"b_i\", \"c_ij\")\n",
    "pgm.add_edge(\"a\", \"c_ij\")\n",
    "\n",
    "# Add a plate\n",
    "pgm.add_plate(daft.Plate([3.25, 1.25, 1.5, 1.5], label=r'$j=1 \\cdots 5$'))\n",
    "pgm.add_plate(daft.Plate([0.1, 1, 4.8, 2], label=r'$i=1, 3$'))\n",
    "\n",
    "\n",
    "# Render an image\n",
    "pgm.render()\n",
    "pgm.figure.dpi = 120"
   ]
  },
  {
   "cell_type": "markdown",
   "metadata": {
    "colab_type": "text",
    "id": "df5pqx1g2f1L"
   },
   "source": [
    "Following codes show how we can use `Independent` and `Sample` classes to represent $b_i$ and $c_{ij}$ inside the plates. "
   ]
  },
  {
   "cell_type": "code",
   "execution_count": 7,
   "metadata": {
    "colab": {
     "base_uri": "https://localhost:8080/",
     "height": 68
    },
    "colab_type": "code",
    "id": "k9JYjXJd3xzW",
    "outputId": "952fba73-354b-4c5e-9cf1-99adab8b7397"
   },
   "outputs": [
    {
     "name": "stdout",
     "output_type": "stream",
     "text": [
      "b_i (100, 3)\n",
      "a (100,)\n",
      "c_ij (100, 3, 5)\n"
     ]
    }
   ],
   "source": [
    "joint = tfd.JointDistributionNamed(dict(\n",
    "    # a\n",
    "    a = tfd.Beta(5, 5),\n",
    "\n",
    "    # we sample b thrice using \"Sample\" \n",
    "    b_i = tfd.Sample(\n",
    "        distribution=tfd.Exponential(3), \n",
    "        sample_shape=3,\n",
    "    ),\n",
    "\n",
    "    # and use these b's for the mean of LogNormal c\n",
    "    c_ij = lambda a, b_i: tfd.Sample(\n",
    "        distribution=tfd.LogNormal(loc=b_i, scale=tf.transpose([a, a, a])),\n",
    "        sample_shape=5,   \n",
    "    )\n",
    "))\n",
    "\n",
    "samples = joint.sample(100)\n",
    "for rv_name, rv_sample in samples.items():\n",
    "    print(rv_name, rv_sample.shape)"
   ]
  },
  {
   "cell_type": "markdown",
   "metadata": {
    "colab_type": "text",
    "id": "UAnd4oLB8yiz"
   },
   "source": [
    "Following code seems to be working, but if you try to evaluate `log_prob`..."
   ]
  },
  {
   "cell_type": "code",
   "execution_count": 8,
   "metadata": {
    "colab": {
     "base_uri": "https://localhost:8080/",
     "height": 222
    },
    "colab_type": "code",
    "id": "1uEU5jgv8tAv",
    "outputId": "b503b010-a867-4ced-ffbf-2b21680f0e73",
    "scrolled": true
   },
   "outputs": [],
   "source": [
    "#tf.reduce_mean(joint.log_prob(samples))"
   ]
  },
  {
   "cell_type": "markdown",
   "metadata": {
    "colab_type": "text",
    "id": "7uJA8L7F877O"
   },
   "source": [
    "We see this error because there are three independent sets of $c$'s, and our `joint` doesn't see them as different realizatation of one random variable. We can fix this by making `LogNormal` as `Indendent` distribution as follow."
   ]
  },
  {
   "cell_type": "code",
   "execution_count": 9,
   "metadata": {
    "colab": {
     "base_uri": "https://localhost:8080/",
     "height": 34
    },
    "colab_type": "code",
    "id": "bXynR53Y86wD",
    "outputId": "5f6841c0-991d-4298-d096-21037843c966"
   },
   "outputs": [
    {
     "data": {
      "text/plain": [
       "<tf.Tensor: shape=(), dtype=float32, numpy=-14.001047>"
      ]
     },
     "execution_count": 9,
     "metadata": {},
     "output_type": "execute_result"
    }
   ],
   "source": [
    "joint_with_independent_LogNormal = tfd.JointDistributionNamed(dict(\n",
    "    # a\n",
    "    a = tfd.Beta(5, 5),\n",
    "\n",
    "    # we sample b thrice using \"Sample\" \n",
    "    b_i = tfd.Sample(\n",
    "        distribution=tfd.Exponential(3), \n",
    "        sample_shape=3,\n",
    "    ),\n",
    "\n",
    "    # and use these b's for the mean of LogNormal c\n",
    "    c_ij = lambda a, b_i: tfd.Independent(\n",
    "        tfd.Sample(distribution=tfd.LogNormal(loc=b_i, scale=tf.transpose([a, a, a])),\n",
    "                  sample_shape=5,\n",
    "        )   \n",
    "    )\n",
    "))\n",
    "\n",
    "tf.reduce_mean(joint_with_independent_LogNormal.log_prob(samples))"
   ]
  },
  {
   "cell_type": "markdown",
   "metadata": {
    "colab_type": "text",
    "id": "i_T_18LJEGBG"
   },
   "source": [
    "### (b). Infer this model! \n",
    "\n",
    "Once you decide on your model, generate 10,000 samples from your model, [pickle](https://wiki.python.org/moin/UsingPickle) them, and **upload it on Canvas** (We won't use Kaggle this week)."
   ]
  },
  {
   "cell_type": "code",
   "execution_count": 89,
   "metadata": {
    "colab": {},
    "colab_type": "code",
    "id": "SbUfeFY3HsM8"
   },
   "outputs": [
    {
     "name": "stdout",
     "output_type": "stream",
     "text": [
      "RV1 shape: (10000,)\n",
      "RV2 shape: (10000, 2)\n",
      "RV3 shape: (10000,)\n",
      "RV4 shape: (10000, 2, 10)\n"
     ]
    }
   ],
   "source": [
    "# Read in the data and visualize\n",
    "data = np.load('np_samples.pickle', allow_pickle=True)\n",
    "print('RV1 shape:', data['rv1s'].shape)\n",
    "print('RV2 shape:', data['rv2s'].shape)\n",
    "print('RV3 shape:', data['rv3s'].shape)\n",
    "print('RV4 shape:', data['rv4s'].shape)\n",
    "\n",
    "rv1_data = data['rv1s']\n",
    "rv2_data = data['rv2s']\n",
    "rv3_data = data['rv3s']\n",
    "rv4_data = data['rv4s']"
   ]
  },
  {
   "cell_type": "code",
   "execution_count": 90,
   "metadata": {},
   "outputs": [
    {
     "data": {
      "image/png": "[encoded data removed]",
      "text/plain": [
       "<Figure size 720x1080 with 4 Axes>"
      ]
     },
     "metadata": {
      "needs_background": "light"
     },
     "output_type": "display_data"
    }
   ],
   "source": [
    "fig, ax = plt.subplots(4, figsize=(10,15))\n",
    "fig.suptitle('RV histograms')\n",
    "ax[0].hist(data['rv1s'], bins=100)\n",
    "ax[0].set_title('RV1')\n",
    "ax[1].hist(data['rv2s'][:,0], bins=100)\n",
    "ax[1].set_title('RV2')\n",
    "ax[2].hist(data['rv3s'], bins=100)\n",
    "ax[2].set_title('RV3')\n",
    "ax[3].hist(data['rv4s'][:,0,2], bins=100)\n",
    "ax[3].set_title('RV4')\n",
    "plt.show()"
   ]
  },
  {
   "cell_type": "markdown",
   "metadata": {},
   "source": [
    "Looking at the shapes of the data, we can see that RV1 and RV3 are $a$ and $d$, though we don't know which is which. We also know that RV2 is $b$ and RV4 is $c$. $a$ looks like it could either be Gamma or Beta distributed, while $d$ could be also be Gamma or Beta. $c$ has negative values, and since none of the other distributions do, this must mean that $c$ is normally distributed. Finally, that leaves $b$ as the exponentially distributed variable. Therefore, we have four model structures that we can test. However, we can take a short cut by checking whether RV2 is strongly coorelated with RV1 or RV3, which would give us a hint as to which is more likely to be $a$. Checking below..."
   ]
  },
  {
   "cell_type": "code",
   "execution_count": 108,
   "metadata": {},
   "outputs": [
    {
     "name": "stdout",
     "output_type": "stream",
     "text": [
      "Mean corr of RV2 with RV1: -0.21670346\n",
      "Mean corr of RV2 with RV3: 0.00338922418\n"
     ]
    }
   ],
   "source": [
    "corr_1_0 = tfp.stats.correlation(rv2_data[:,0], rv1_data, sample_axis=0, event_axis=None)\n",
    "corr_1_1 = tfp.stats.correlation(rv2_data[:,1], rv1_data, sample_axis=0, event_axis=None)\n",
    "\n",
    "corr_3_0 = tfp.stats.correlation(rv2_data[:,0], rv3_data, sample_axis=0, event_axis=None)\n",
    "corr_3_1 = tfp.stats.correlation(rv2_data[:,1], rv3_data, sample_axis=0, event_axis=None)\n",
    "\n",
    "tf.print('Mean corr of RV2 with RV1:', tf.reduce_mean([corr_1_0, corr_1_1]))\n",
    "tf.print('Mean corr of RV2 with RV3:', tf.reduce_mean([corr_3_0, corr_3_1]))"
   ]
  },
  {
   "cell_type": "markdown",
   "metadata": {},
   "source": [
    "Looking at the coorelations, we can see that RV1 is much more likely to be $a$ than RV3. So know we have uncovered the structure of the graph, and only have to detirmine whether $a$ is Gamma or Beta distributed (which will immediatly tell us about b). However, we still don't know *how* the random variables are related. For example, how is the output of $a$ incorporated into $b$? Well the correlation is negative, meaning that hgiher values of $b$ are associated with lower values of $a$ and vice-versa. Let's look at what happends when we multiply $a\\times b$, if $b$ is using $a$ as its rate parameter, then we would expect to see the mean of the resulting values to be 1. Checking below..."
   ]
  },
  {
   "cell_type": "code",
   "execution_count": 121,
   "metadata": {},
   "outputs": [
    {
     "name": "stdout",
     "output_type": "stream",
     "text": [
      "Mean: 1.00703228\n"
     ]
    }
   ],
   "source": [
    "a_times_b = tf.stack([tf.multiply(rv2_data[:,0], rv1_data), tf.multiply(rv2_data[:,1], rv1_data)])\n",
    "tf.print(\"Mean:\", tf.reduce_mean(a_times_b))"
   ]
  },
  {
   "cell_type": "markdown",
   "metadata": {},
   "source": [
    "This is indeed what we see, so we have strong evidence that $b$ takes its rate parameter from the output of $a$. Next, we want to test how $c$ is connected to $b$ and $d$. We can see if $c$ takes one of these in as a its location parameter and the other as its scale parameter. To test if $d$ or $b$ is the mean of $c$, we can subtract each from $c$ and see if we get a vector of values centered around 0. Similarly, dividing $c$ by $d$ or $b$ tells us if either is being used as the scale parameter if the resulting vector has a standard deviation of 1. Doing this below.."
   ]
  },
  {
   "cell_type": "code",
   "execution_count": 143,
   "metadata": {},
   "outputs": [
    {
     "name": "stdout",
     "output_type": "stream",
     "text": [
      "c minus d mean: 0.282194227\n",
      "c minus b mean: 0.00132942584\n",
      "\n",
      "c divided by d std: 9.30062866\n",
      "c divided by b std: 811.51178\n"
     ]
    }
   ],
   "source": [
    "c_minus_d = rv4_data[:,0,0]-rv3_data\n",
    "c_minus_b = rv4_data[:,0,0]-rv2_data[:,0]\n",
    "\n",
    "# might want to make one model that takes 1/9 of this\n",
    "c_dividedby_d = c_minus_d/rv3_data\n",
    "c_dividedby_b = c_minus_b/rv2_data[:,0]\n",
    "\n",
    "tf.print('c minus d mean:', tf.reduce_mean(c_minus_d))\n",
    "tf.print('c minus b mean:', tf.reduce_mean(c_minus_b))\n",
    "print()\n",
    "tf.print('c divided by d std:', tf.math.reduce_std(c_dividedby_d))\n",
    "tf.print('c divided by b std:', tf.math.reduce_std(c_dividedby_b))"
   ]
  },
  {
   "cell_type": "code",
   "execution_count": null,
   "metadata": {},
   "outputs": [],
   "source": [
    "Looking at the above outputs, it look"
   ]
  },
  {
   "cell_type": "code",
   "execution_count": 127,
   "metadata": {},
   "outputs": [
    {
     "data": {
      "text/plain": [
       "<tf.Tensor: shape=(), dtype=float32, numpy=0.0013294258>"
      ]
     },
     "execution_count": 127,
     "metadata": {},
     "output_type": "execute_result"
    }
   ],
   "source": [
    "tf.reduce_mean(c_minus_b)"
   ]
  },
  {
   "cell_type": "code",
   "execution_count": 118,
   "metadata": {},
   "outputs": [
    {
     "data": {
      "text/plain": [
       "<tf.Tensor: shape=(), dtype=float32, numpy=1.0113884>"
      ]
     },
     "execution_count": 118,
     "metadata": {},
     "output_type": "execute_result"
    }
   ],
   "source": [
    "tf.reduce_mean(tf.multiply(rv2_data[:,0], rv1_data))\n"
   ]
  },
  {
   "cell_type": "code",
   "execution_count": 117,
   "metadata": {},
   "outputs": [
    {
     "data": {
      "text/plain": [
       "<tf.Tensor: shape=(), dtype=float32, numpy=0.52384955>"
      ]
     },
     "execution_count": 117,
     "metadata": {},
     "output_type": "execute_result"
    }
   ],
   "source": [
    "tf.reduce_mean(rv2_data)"
   ]
  },
  {
   "cell_type": "code",
   "execution_count": null,
   "metadata": {},
   "outputs": [],
   "source": [
    "def get_distribution(z_mean, z_var, x_a, x_b, y_a, y_b):\n",
    "  guess_sum_of_distributions = tfd.JointDistributionNamed(dict(\n",
    "      z=tfd.Normal(loc=z_mean, scale=z_var),\n",
    "      x= lambda z: tfd.Normal(loc=0., scale=x_a*tf.exp(z/x_b)),\n",
    "      y= lambda z: tfd.Normal(loc=0., scale=y_a*tf.exp(z/y_b)),\n",
    "  ))\n",
    "  return guess_sum_of_distributions\n",
    "\n",
    "def get_loss(a,b,c,d,e,f):\n",
    "  guess = get_distribution(a,b,c,d,e,f)\n",
    "  return tf.reduce_mean(guess.log_prob(tf_samples))\n",
    "\n",
    "\n",
    "joint_with_independent_LogNormal = tfd.JointDistributionNamed(dict(\n",
    "    # a\n",
    "    a = tfd.Beta(5, 5),\n",
    "\n",
    "    # we sample b thrice using \"Sample\" \n",
    "    b_i = tfd.Sample(\n",
    "        distribution=tfd.Exponential(3), \n",
    "        sample_shape=3,\n",
    "    ),\n",
    "\n",
    "    # and use these b's for the mean of LogNormal c\n",
    "    c_ij = lambda a, b_i: tfd.Independent(\n",
    "        tfd.Sample(distribution=tfd.LogNormal(loc=b_i, scale=tf.transpose([a, a, a])),\n",
    "                  sample_shape=5,\n",
    "        )   \n",
    "    )\n",
    "))\n",
    "\n",
    "tf.reduce_mean(joint_with_independent_LogNormal.log_prob(samples))"
   ]
  },
  {
   "cell_type": "code",
   "execution_count": 161,
   "metadata": {},
   "outputs": [
    {
     "ename": "ValueError",
     "evalue": "Arguments `loc` and `scale` must have compatible shapes; loc.shape=(2,), scale.shape=(10,).",
     "output_type": "error",
     "traceback": [
      "\u001b[0;31m---------------------------------------------------------------------------\u001b[0m",
      "\u001b[0;31mValueError\u001b[0m                                Traceback (most recent call last)",
      "\u001b[0;32m~/anaconda3/envs/am216/lib/python3.7/site-packages/tensorflow_probability/python/distributions/normal.py\u001b[0m in \u001b[0;36m_parameter_control_dependencies\u001b[0;34m(self, is_init)\u001b[0m\n\u001b[1;32m    234\u001b[0m       \u001b[0;32mtry\u001b[0m\u001b[0;34m:\u001b[0m\u001b[0;34m\u001b[0m\u001b[0;34m\u001b[0m\u001b[0m\n\u001b[0;32m--> 235\u001b[0;31m         \u001b[0mself\u001b[0m\u001b[0;34m.\u001b[0m\u001b[0m_batch_shape\u001b[0m\u001b[0;34m(\u001b[0m\u001b[0;34m)\u001b[0m\u001b[0;34m\u001b[0m\u001b[0;34m\u001b[0m\u001b[0m\n\u001b[0m\u001b[1;32m    236\u001b[0m       \u001b[0;32mexcept\u001b[0m \u001b[0mValueError\u001b[0m\u001b[0;34m:\u001b[0m\u001b[0;34m\u001b[0m\u001b[0;34m\u001b[0m\u001b[0m\n",
      "\u001b[0;32m~/anaconda3/envs/am216/lib/python3.7/site-packages/tensorflow_probability/python/distributions/normal.py\u001b[0m in \u001b[0;36m_batch_shape\u001b[0;34m(self)\u001b[0m\n\u001b[1;32m    172\u001b[0m   \u001b[0;32mdef\u001b[0m \u001b[0m_batch_shape\u001b[0m\u001b[0;34m(\u001b[0m\u001b[0mself\u001b[0m\u001b[0;34m)\u001b[0m\u001b[0;34m:\u001b[0m\u001b[0;34m\u001b[0m\u001b[0;34m\u001b[0m\u001b[0m\n\u001b[0;32m--> 173\u001b[0;31m     \u001b[0;32mreturn\u001b[0m \u001b[0mtf\u001b[0m\u001b[0;34m.\u001b[0m\u001b[0mbroadcast_static_shape\u001b[0m\u001b[0;34m(\u001b[0m\u001b[0mself\u001b[0m\u001b[0;34m.\u001b[0m\u001b[0mloc\u001b[0m\u001b[0;34m.\u001b[0m\u001b[0mshape\u001b[0m\u001b[0;34m,\u001b[0m \u001b[0mself\u001b[0m\u001b[0;34m.\u001b[0m\u001b[0mscale\u001b[0m\u001b[0;34m.\u001b[0m\u001b[0mshape\u001b[0m\u001b[0;34m)\u001b[0m\u001b[0;34m\u001b[0m\u001b[0;34m\u001b[0m\u001b[0m\n\u001b[0m\u001b[1;32m    174\u001b[0m \u001b[0;34m\u001b[0m\u001b[0m\n",
      "\u001b[0;32m~/anaconda3/envs/am216/lib/python3.7/site-packages/tensorflow_core/python/ops/array_ops.py\u001b[0m in \u001b[0;36mbroadcast_static_shape\u001b[0;34m(shape_x, shape_y)\u001b[0m\n\u001b[1;32m    479\u001b[0m   \"\"\"\n\u001b[0;32m--> 480\u001b[0;31m   \u001b[0;32mreturn\u001b[0m \u001b[0mcommon_shapes\u001b[0m\u001b[0;34m.\u001b[0m\u001b[0mbroadcast_shape\u001b[0m\u001b[0;34m(\u001b[0m\u001b[0mshape_x\u001b[0m\u001b[0;34m,\u001b[0m \u001b[0mshape_y\u001b[0m\u001b[0;34m)\u001b[0m\u001b[0;34m\u001b[0m\u001b[0;34m\u001b[0m\u001b[0m\n\u001b[0m\u001b[1;32m    481\u001b[0m \u001b[0;34m\u001b[0m\u001b[0m\n",
      "\u001b[0;32m~/anaconda3/envs/am216/lib/python3.7/site-packages/tensorflow_core/python/framework/common_shapes.py\u001b[0m in \u001b[0;36mbroadcast_shape\u001b[0;34m(shape_x, shape_y)\u001b[0m\n\u001b[1;32m    106\u001b[0m     raise ValueError(\"Incompatible shapes for broadcasting: %s and %s\"\n\u001b[0;32m--> 107\u001b[0;31m                      % (shape_x, shape_y))\n\u001b[0m\u001b[1;32m    108\u001b[0m   \u001b[0;32mreturn\u001b[0m \u001b[0mtensor_shape\u001b[0m\u001b[0;34m.\u001b[0m\u001b[0mTensorShape\u001b[0m\u001b[0;34m(\u001b[0m\u001b[0mreturn_dims\u001b[0m\u001b[0;34m)\u001b[0m\u001b[0;34m\u001b[0m\u001b[0;34m\u001b[0m\u001b[0m\n",
      "\u001b[0;31mValueError\u001b[0m: Incompatible shapes for broadcasting: (2,) and (10,)",
      "\nDuring handling of the above exception, another exception occurred:\n",
      "\u001b[0;31mValueError\u001b[0m                                Traceback (most recent call last)",
      "\u001b[0;32m<ipython-input-161-5919fa215de4>\u001b[0m in \u001b[0;36m<module>\u001b[0;34m\u001b[0m\n\u001b[1;32m     17\u001b[0m \u001b[0;34m\u001b[0m\u001b[0m\n\u001b[1;32m     18\u001b[0m \u001b[0mtest\u001b[0m \u001b[0;34m=\u001b[0m \u001b[0mmodel_dist_1\u001b[0m\u001b[0;34m(\u001b[0m\u001b[0ma_params\u001b[0m\u001b[0;34m=\u001b[0m\u001b[0;34m[\u001b[0m\u001b[0;36m1\u001b[0m\u001b[0;34m,\u001b[0m\u001b[0;36m1\u001b[0m\u001b[0;34m]\u001b[0m\u001b[0;34m,\u001b[0m \u001b[0md_params\u001b[0m\u001b[0;34m=\u001b[0m\u001b[0;34m[\u001b[0m\u001b[0;36m1\u001b[0m\u001b[0;34m,\u001b[0m\u001b[0;36m1\u001b[0m\u001b[0;34m]\u001b[0m\u001b[0;34m)\u001b[0m\u001b[0;34m\u001b[0m\u001b[0;34m\u001b[0m\u001b[0m\n\u001b[0;32m---> 19\u001b[0;31m \u001b[0mtest\u001b[0m\u001b[0;34m.\u001b[0m\u001b[0mlog_prob\u001b[0m\u001b[0;34m(\u001b[0m\u001b[0mdata\u001b[0m\u001b[0;34m)\u001b[0m\u001b[0;34m\u001b[0m\u001b[0;34m\u001b[0m\u001b[0m\n\u001b[0m\u001b[1;32m     20\u001b[0m \u001b[0;31m#tf.reduce_mean(test.log_prob(data))\u001b[0m\u001b[0;34m\u001b[0m\u001b[0;34m\u001b[0m\u001b[0;34m\u001b[0m\u001b[0m\n\u001b[1;32m     21\u001b[0m \u001b[0;34m\u001b[0m\u001b[0m\n",
      "\u001b[0;32m~/anaconda3/envs/am216/lib/python3.7/site-packages/tensorflow_probability/python/distributions/distribution.py\u001b[0m in \u001b[0;36mlog_prob\u001b[0;34m(self, value, name, **kwargs)\u001b[0m\n\u001b[1;32m    872\u001b[0m         \u001b[0mvalues\u001b[0m \u001b[0mof\u001b[0m \u001b[0mtype\u001b[0m\u001b[0;31m \u001b[0m\u001b[0;31m`\u001b[0m\u001b[0mself\u001b[0m\u001b[0;34m.\u001b[0m\u001b[0mdtype\u001b[0m\u001b[0;31m`\u001b[0m\u001b[0;34m.\u001b[0m\u001b[0;34m\u001b[0m\u001b[0;34m\u001b[0m\u001b[0m\n\u001b[1;32m    873\u001b[0m     \"\"\"\n\u001b[0;32m--> 874\u001b[0;31m     \u001b[0;32mreturn\u001b[0m \u001b[0mself\u001b[0m\u001b[0;34m.\u001b[0m\u001b[0m_call_log_prob\u001b[0m\u001b[0;34m(\u001b[0m\u001b[0mvalue\u001b[0m\u001b[0;34m,\u001b[0m \u001b[0mname\u001b[0m\u001b[0;34m,\u001b[0m \u001b[0;34m**\u001b[0m\u001b[0mkwargs\u001b[0m\u001b[0;34m)\u001b[0m\u001b[0;34m\u001b[0m\u001b[0;34m\u001b[0m\u001b[0m\n\u001b[0m\u001b[1;32m    875\u001b[0m \u001b[0;34m\u001b[0m\u001b[0m\n\u001b[1;32m    876\u001b[0m   \u001b[0;32mdef\u001b[0m \u001b[0m_call_prob\u001b[0m\u001b[0;34m(\u001b[0m\u001b[0mself\u001b[0m\u001b[0;34m,\u001b[0m \u001b[0mvalue\u001b[0m\u001b[0;34m,\u001b[0m \u001b[0mname\u001b[0m\u001b[0;34m,\u001b[0m \u001b[0;34m**\u001b[0m\u001b[0mkwargs\u001b[0m\u001b[0;34m)\u001b[0m\u001b[0;34m:\u001b[0m\u001b[0;34m\u001b[0m\u001b[0;34m\u001b[0m\u001b[0m\n",
      "\u001b[0;32m~/anaconda3/envs/am216/lib/python3.7/site-packages/tensorflow_probability/python/distributions/joint_distribution.py\u001b[0m in \u001b[0;36m_call_log_prob\u001b[0;34m(self, value, name)\u001b[0m\n\u001b[1;32m    320\u001b[0m   \u001b[0;32mdef\u001b[0m \u001b[0m_call_log_prob\u001b[0m\u001b[0;34m(\u001b[0m\u001b[0mself\u001b[0m\u001b[0;34m,\u001b[0m \u001b[0mvalue\u001b[0m\u001b[0;34m,\u001b[0m \u001b[0mname\u001b[0m\u001b[0;34m)\u001b[0m\u001b[0;34m:\u001b[0m\u001b[0;34m\u001b[0m\u001b[0;34m\u001b[0m\u001b[0m\n\u001b[1;32m    321\u001b[0m     \u001b[0;32mwith\u001b[0m \u001b[0mself\u001b[0m\u001b[0;34m.\u001b[0m\u001b[0m_name_and_control_scope\u001b[0m\u001b[0;34m(\u001b[0m\u001b[0mname\u001b[0m\u001b[0;34m)\u001b[0m\u001b[0;34m:\u001b[0m\u001b[0;34m\u001b[0m\u001b[0;34m\u001b[0m\u001b[0m\n\u001b[0;32m--> 322\u001b[0;31m       \u001b[0;32mreturn\u001b[0m \u001b[0mself\u001b[0m\u001b[0;34m.\u001b[0m\u001b[0m_log_prob\u001b[0m\u001b[0;34m(\u001b[0m\u001b[0mvalue\u001b[0m\u001b[0;34m)\u001b[0m\u001b[0;34m\u001b[0m\u001b[0;34m\u001b[0m\u001b[0m\n\u001b[0m\u001b[1;32m    323\u001b[0m \u001b[0;34m\u001b[0m\u001b[0m\n\u001b[1;32m    324\u001b[0m   \u001b[0;32mdef\u001b[0m \u001b[0m_call_sample_n\u001b[0m\u001b[0;34m(\u001b[0m\u001b[0mself\u001b[0m\u001b[0;34m,\u001b[0m \u001b[0msample_shape\u001b[0m\u001b[0;34m,\u001b[0m \u001b[0mseed\u001b[0m\u001b[0;34m,\u001b[0m \u001b[0mname\u001b[0m\u001b[0;34m,\u001b[0m \u001b[0mvalue\u001b[0m\u001b[0;34m=\u001b[0m\u001b[0;32mNone\u001b[0m\u001b[0;34m)\u001b[0m\u001b[0;34m:\u001b[0m\u001b[0;34m\u001b[0m\u001b[0;34m\u001b[0m\u001b[0m\n",
      "\u001b[0;32m~/anaconda3/envs/am216/lib/python3.7/site-packages/tensorflow_probability/python/distributions/joint_distribution.py\u001b[0m in \u001b[0;36m_log_prob\u001b[0;34m(self, value)\u001b[0m\n\u001b[1;32m    275\u001b[0m \u001b[0;34m\u001b[0m\u001b[0m\n\u001b[1;32m    276\u001b[0m   \u001b[0;32mdef\u001b[0m \u001b[0m_log_prob\u001b[0m\u001b[0;34m(\u001b[0m\u001b[0mself\u001b[0m\u001b[0;34m,\u001b[0m \u001b[0mvalue\u001b[0m\u001b[0;34m)\u001b[0m\u001b[0;34m:\u001b[0m\u001b[0;34m\u001b[0m\u001b[0;34m\u001b[0m\u001b[0m\n\u001b[0;32m--> 277\u001b[0;31m     \u001b[0m_\u001b[0m\u001b[0;34m,\u001b[0m \u001b[0mxs\u001b[0m \u001b[0;34m=\u001b[0m \u001b[0mself\u001b[0m\u001b[0;34m.\u001b[0m\u001b[0m_map_measure_over_dists\u001b[0m\u001b[0;34m(\u001b[0m\u001b[0;34m'log_prob'\u001b[0m\u001b[0;34m,\u001b[0m \u001b[0mvalue\u001b[0m\u001b[0;34m)\u001b[0m\u001b[0;34m\u001b[0m\u001b[0;34m\u001b[0m\u001b[0m\n\u001b[0m\u001b[1;32m    278\u001b[0m     \u001b[0;32mreturn\u001b[0m \u001b[0msum\u001b[0m\u001b[0;34m(\u001b[0m\u001b[0mxs\u001b[0m\u001b[0;34m)\u001b[0m\u001b[0;34m\u001b[0m\u001b[0;34m\u001b[0m\u001b[0m\n\u001b[1;32m    279\u001b[0m \u001b[0;34m\u001b[0m\u001b[0m\n",
      "\u001b[0;32m~/anaconda3/envs/am216/lib/python3.7/site-packages/tensorflow_probability/python/distributions/joint_distribution.py\u001b[0m in \u001b[0;36m_map_measure_over_dists\u001b[0;34m(self, attr, value)\u001b[0m\n\u001b[1;32m    291\u001b[0m     \u001b[0;32mif\u001b[0m \u001b[0many\u001b[0m\u001b[0;34m(\u001b[0m\u001b[0mx\u001b[0m \u001b[0;32mis\u001b[0m \u001b[0;32mNone\u001b[0m \u001b[0;32mfor\u001b[0m \u001b[0mx\u001b[0m \u001b[0;32min\u001b[0m \u001b[0mtf\u001b[0m\u001b[0;34m.\u001b[0m\u001b[0mnest\u001b[0m\u001b[0;34m.\u001b[0m\u001b[0mflatten\u001b[0m\u001b[0;34m(\u001b[0m\u001b[0mvalue\u001b[0m\u001b[0;34m)\u001b[0m\u001b[0;34m)\u001b[0m\u001b[0;34m:\u001b[0m\u001b[0;34m\u001b[0m\u001b[0;34m\u001b[0m\u001b[0m\n\u001b[1;32m    292\u001b[0m       \u001b[0;32mraise\u001b[0m \u001b[0mValueError\u001b[0m\u001b[0;34m(\u001b[0m\u001b[0;34m'No `value` part can be `None`; saw: {}.'\u001b[0m\u001b[0;34m.\u001b[0m\u001b[0mformat\u001b[0m\u001b[0;34m(\u001b[0m\u001b[0mvalue\u001b[0m\u001b[0;34m)\u001b[0m\u001b[0;34m)\u001b[0m\u001b[0;34m\u001b[0m\u001b[0;34m\u001b[0m\u001b[0m\n\u001b[0;32m--> 293\u001b[0;31m     \u001b[0mds\u001b[0m\u001b[0;34m,\u001b[0m \u001b[0mxs\u001b[0m \u001b[0;34m=\u001b[0m \u001b[0mself\u001b[0m\u001b[0;34m.\u001b[0m\u001b[0m_call_flat_sample_distributions\u001b[0m\u001b[0;34m(\u001b[0m\u001b[0mvalue\u001b[0m\u001b[0;34m=\u001b[0m\u001b[0mvalue\u001b[0m\u001b[0;34m)\u001b[0m\u001b[0;34m\u001b[0m\u001b[0;34m\u001b[0m\u001b[0m\n\u001b[0m\u001b[1;32m    294\u001b[0m     return ds, maybe_check_wont_broadcast(\n\u001b[1;32m    295\u001b[0m         \u001b[0;34m(\u001b[0m\u001b[0mgetattr\u001b[0m\u001b[0;34m(\u001b[0m\u001b[0md\u001b[0m\u001b[0;34m,\u001b[0m \u001b[0mattr\u001b[0m\u001b[0;34m)\u001b[0m\u001b[0;34m(\u001b[0m\u001b[0mx\u001b[0m\u001b[0;34m)\u001b[0m \u001b[0;32mfor\u001b[0m \u001b[0md\u001b[0m\u001b[0;34m,\u001b[0m \u001b[0mx\u001b[0m \u001b[0;32min\u001b[0m \u001b[0mzip\u001b[0m\u001b[0;34m(\u001b[0m\u001b[0mds\u001b[0m\u001b[0;34m,\u001b[0m \u001b[0mxs\u001b[0m\u001b[0;34m)\u001b[0m\u001b[0;34m)\u001b[0m\u001b[0;34m,\u001b[0m\u001b[0;34m\u001b[0m\u001b[0;34m\u001b[0m\u001b[0m\n",
      "\u001b[0;32m~/anaconda3/envs/am216/lib/python3.7/site-packages/tensorflow_probability/python/distributions/joint_distribution.py\u001b[0m in \u001b[0;36m_call_flat_sample_distributions\u001b[0;34m(self, sample_shape, seed, value)\u001b[0m\n\u001b[1;32m    309\u001b[0m     \u001b[0;32mif\u001b[0m \u001b[0mvalue\u001b[0m \u001b[0;32mis\u001b[0m \u001b[0;32mnot\u001b[0m \u001b[0;32mNone\u001b[0m\u001b[0;34m:\u001b[0m\u001b[0;34m\u001b[0m\u001b[0;34m\u001b[0m\u001b[0m\n\u001b[1;32m    310\u001b[0m       \u001b[0mvalue\u001b[0m \u001b[0;34m=\u001b[0m \u001b[0mself\u001b[0m\u001b[0;34m.\u001b[0m\u001b[0m_model_flatten\u001b[0m\u001b[0;34m(\u001b[0m\u001b[0mvalue\u001b[0m\u001b[0;34m)\u001b[0m\u001b[0;34m\u001b[0m\u001b[0;34m\u001b[0m\u001b[0m\n\u001b[0;32m--> 311\u001b[0;31m     \u001b[0mds\u001b[0m\u001b[0;34m,\u001b[0m \u001b[0mxs\u001b[0m \u001b[0;34m=\u001b[0m \u001b[0mself\u001b[0m\u001b[0;34m.\u001b[0m\u001b[0m_flat_sample_distributions\u001b[0m\u001b[0;34m(\u001b[0m\u001b[0msample_shape\u001b[0m\u001b[0;34m,\u001b[0m \u001b[0mseed\u001b[0m\u001b[0;34m,\u001b[0m \u001b[0mvalue\u001b[0m\u001b[0;34m)\u001b[0m\u001b[0;34m\u001b[0m\u001b[0;34m\u001b[0m\u001b[0m\n\u001b[0m\u001b[1;32m    312\u001b[0m     \u001b[0;32mif\u001b[0m \u001b[0;32mnot\u001b[0m \u001b[0mvalue\u001b[0m\u001b[0;34m:\u001b[0m\u001b[0;34m\u001b[0m\u001b[0;34m\u001b[0m\u001b[0m\n\u001b[1;32m    313\u001b[0m       \u001b[0mself\u001b[0m\u001b[0;34m.\u001b[0m\u001b[0m_most_recently_built_distributions\u001b[0m \u001b[0;34m=\u001b[0m \u001b[0mtuple\u001b[0m\u001b[0;34m(\u001b[0m\u001b[0mds\u001b[0m\u001b[0;34m)\u001b[0m\u001b[0;34m\u001b[0m\u001b[0;34m\u001b[0m\u001b[0m\n",
      "\u001b[0;32m~/anaconda3/envs/am216/lib/python3.7/site-packages/tensorflow_probability/python/distributions/joint_distribution_sequential.py\u001b[0m in \u001b[0;36m_flat_sample_distributions\u001b[0;34m(self, sample_shape, seed, value)\u001b[0m\n\u001b[1;32m    234\u001b[0m     for i, (dist_fn, args) in enumerate(zip(self._dist_fn_wrapped,\n\u001b[1;32m    235\u001b[0m                                             self._dist_fn_args)):\n\u001b[0;32m--> 236\u001b[0;31m       \u001b[0mds\u001b[0m\u001b[0;34m.\u001b[0m\u001b[0mappend\u001b[0m\u001b[0;34m(\u001b[0m\u001b[0mdist_fn\u001b[0m\u001b[0;34m(\u001b[0m\u001b[0;34m*\u001b[0m\u001b[0mxs\u001b[0m\u001b[0;34m[\u001b[0m\u001b[0;34m:\u001b[0m\u001b[0mi\u001b[0m\u001b[0;34m]\u001b[0m\u001b[0;34m)\u001b[0m\u001b[0;34m)\u001b[0m  \u001b[0;31m# Chain rule of probability.\u001b[0m\u001b[0;34m\u001b[0m\u001b[0;34m\u001b[0m\u001b[0m\n\u001b[0m\u001b[1;32m    237\u001b[0m       \u001b[0;32mif\u001b[0m \u001b[0mxs\u001b[0m\u001b[0;34m[\u001b[0m\u001b[0mi\u001b[0m\u001b[0;34m]\u001b[0m \u001b[0;32mis\u001b[0m \u001b[0;32mNone\u001b[0m\u001b[0;34m:\u001b[0m\u001b[0;34m\u001b[0m\u001b[0;34m\u001b[0m\u001b[0m\n\u001b[1;32m    238\u001b[0m         \u001b[0;31m# TODO(b/129364796): We should ignore args prefixed with `_`; this\u001b[0m\u001b[0;34m\u001b[0m\u001b[0;34m\u001b[0m\u001b[0;34m\u001b[0m\u001b[0m\n",
      "\u001b[0;32m~/anaconda3/envs/am216/lib/python3.7/site-packages/tensorflow_probability/python/distributions/joint_distribution_named.py\u001b[0m in \u001b[0;36m_fn\u001b[0;34m(*xs)\u001b[0m\n\u001b[1;32m    252\u001b[0m     \u001b[0;32mdef\u001b[0m \u001b[0m_fn\u001b[0m\u001b[0;34m(\u001b[0m\u001b[0;34m*\u001b[0m\u001b[0mxs\u001b[0m\u001b[0;34m)\u001b[0m\u001b[0;34m:\u001b[0m\u001b[0;34m\u001b[0m\u001b[0;34m\u001b[0m\u001b[0m\n\u001b[1;32m    253\u001b[0m       \u001b[0mkwargs\u001b[0m \u001b[0;34m=\u001b[0m \u001b[0mdict\u001b[0m\u001b[0;34m(\u001b[0m\u001b[0;34m[\u001b[0m\u001b[0;34m(\u001b[0m\u001b[0mk\u001b[0m\u001b[0;34m,\u001b[0m \u001b[0mv\u001b[0m\u001b[0;34m)\u001b[0m \u001b[0;32mfor\u001b[0m \u001b[0mk\u001b[0m\u001b[0;34m,\u001b[0m \u001b[0mv\u001b[0m \u001b[0;32min\u001b[0m \u001b[0mzip\u001b[0m\u001b[0;34m(\u001b[0m\u001b[0mdist_fn_name\u001b[0m\u001b[0;34m,\u001b[0m \u001b[0mxs\u001b[0m\u001b[0;34m)\u001b[0m \u001b[0;32mif\u001b[0m \u001b[0mk\u001b[0m \u001b[0;32min\u001b[0m \u001b[0margs\u001b[0m\u001b[0;34m]\u001b[0m\u001b[0;34m)\u001b[0m\u001b[0;34m\u001b[0m\u001b[0;34m\u001b[0m\u001b[0m\n\u001b[0;32m--> 254\u001b[0;31m       \u001b[0;32mreturn\u001b[0m \u001b[0mdist_fn\u001b[0m\u001b[0;34m(\u001b[0m\u001b[0;34m**\u001b[0m\u001b[0mkwargs\u001b[0m\u001b[0;34m)\u001b[0m\u001b[0;34m\u001b[0m\u001b[0;34m\u001b[0m\u001b[0m\n\u001b[0m\u001b[1;32m    255\u001b[0m     \u001b[0;32mreturn\u001b[0m \u001b[0m_fn\u001b[0m\u001b[0;34m\u001b[0m\u001b[0;34m\u001b[0m\u001b[0m\n\u001b[1;32m    256\u001b[0m   \u001b[0mnamed_makers\u001b[0m \u001b[0;34m=\u001b[0m \u001b[0m_convert_to_dict\u001b[0m\u001b[0;34m(\u001b[0m\u001b[0mnamed_makers\u001b[0m\u001b[0;34m)\u001b[0m\u001b[0;34m\u001b[0m\u001b[0;34m\u001b[0m\u001b[0m\n",
      "\u001b[0;32m<ipython-input-161-5919fa215de4>\u001b[0m in \u001b[0;36m<lambda>\u001b[0;34m(b_i, d)\u001b[0m\n\u001b[1;32m     10\u001b[0m         \u001b[0md\u001b[0m \u001b[0;34m=\u001b[0m \u001b[0mgamma_dist\u001b[0m\u001b[0;34m(\u001b[0m\u001b[0md_params\u001b[0m\u001b[0;34m[\u001b[0m\u001b[0;36m0\u001b[0m\u001b[0;34m]\u001b[0m\u001b[0;34m,\u001b[0m \u001b[0md_params\u001b[0m\u001b[0;34m[\u001b[0m\u001b[0;36m1\u001b[0m\u001b[0;34m]\u001b[0m\u001b[0;34m)\u001b[0m\u001b[0;34m,\u001b[0m\u001b[0;34m\u001b[0m\u001b[0;34m\u001b[0m\u001b[0m\n\u001b[1;32m     11\u001b[0m         \u001b[0mb_i\u001b[0m \u001b[0;34m=\u001b[0m \u001b[0;32mlambda\u001b[0m \u001b[0ma\u001b[0m\u001b[0;34m:\u001b[0m \u001b[0mtfd\u001b[0m\u001b[0;34m.\u001b[0m\u001b[0mSample\u001b[0m\u001b[0;34m(\u001b[0m\u001b[0mdistribution\u001b[0m\u001b[0;34m=\u001b[0m\u001b[0mexpo_dist\u001b[0m\u001b[0;34m(\u001b[0m\u001b[0ma\u001b[0m\u001b[0;34m)\u001b[0m\u001b[0;34m,\u001b[0m \u001b[0msample_shape\u001b[0m\u001b[0;34m=\u001b[0m\u001b[0;34m(\u001b[0m\u001b[0;36m2\u001b[0m\u001b[0;34m)\u001b[0m\u001b[0;34m)\u001b[0m\u001b[0;34m,\u001b[0m \u001b[0;31m# don't use Independent since only 1 param\u001b[0m\u001b[0;34m\u001b[0m\u001b[0;34m\u001b[0m\u001b[0m\n\u001b[0;32m---> 12\u001b[0;31m         c_ij = lambda b_i, d: tfd.Independent(tfd.Sample(distribution=norm_dist(b_i, tf.transpose(10*[d])), \n\u001b[0m\u001b[1;32m     13\u001b[0m                                                       sample_shape=(2,10))\n\u001b[1;32m     14\u001b[0m                                           )       \n",
      "\u001b[0;32m<ipython-input-161-5919fa215de4>\u001b[0m in \u001b[0;36m<lambda>\u001b[0;34m(loc, scale)\u001b[0m\n\u001b[0;32m----> 1\u001b[0;31m \u001b[0mnorm_dist\u001b[0m \u001b[0;34m=\u001b[0m \u001b[0;32mlambda\u001b[0m \u001b[0mloc\u001b[0m\u001b[0;34m,\u001b[0m \u001b[0mscale\u001b[0m\u001b[0;34m:\u001b[0m \u001b[0mtfd\u001b[0m\u001b[0;34m.\u001b[0m\u001b[0mNormal\u001b[0m\u001b[0;34m(\u001b[0m\u001b[0mloc\u001b[0m\u001b[0;34m=\u001b[0m\u001b[0mloc\u001b[0m\u001b[0;34m,\u001b[0m \u001b[0mscale\u001b[0m\u001b[0;34m=\u001b[0m\u001b[0mscale\u001b[0m\u001b[0;34m)\u001b[0m\u001b[0;34m\u001b[0m\u001b[0;34m\u001b[0m\u001b[0m\n\u001b[0m\u001b[1;32m      2\u001b[0m \u001b[0mexpo_dist\u001b[0m \u001b[0;34m=\u001b[0m \u001b[0;32mlambda\u001b[0m \u001b[0mrate\u001b[0m\u001b[0;34m:\u001b[0m \u001b[0mtfd\u001b[0m\u001b[0;34m.\u001b[0m\u001b[0mExponential\u001b[0m\u001b[0;34m(\u001b[0m\u001b[0mrate\u001b[0m\u001b[0;34m=\u001b[0m\u001b[0mrate\u001b[0m\u001b[0;34m)\u001b[0m\u001b[0;34m\u001b[0m\u001b[0;34m\u001b[0m\u001b[0m\n\u001b[1;32m      3\u001b[0m \u001b[0mgamma_dist\u001b[0m \u001b[0;34m=\u001b[0m \u001b[0;32mlambda\u001b[0m \u001b[0malpha\u001b[0m\u001b[0;34m,\u001b[0m \u001b[0mbeta\u001b[0m\u001b[0;34m:\u001b[0m \u001b[0mtfd\u001b[0m\u001b[0;34m.\u001b[0m\u001b[0mGamma\u001b[0m\u001b[0;34m(\u001b[0m\u001b[0mconcentration\u001b[0m\u001b[0;34m=\u001b[0m\u001b[0malpha\u001b[0m\u001b[0;34m,\u001b[0m \u001b[0mrate\u001b[0m\u001b[0;34m=\u001b[0m\u001b[0mbeta\u001b[0m\u001b[0;34m)\u001b[0m\u001b[0;34m\u001b[0m\u001b[0;34m\u001b[0m\u001b[0m\n\u001b[1;32m      4\u001b[0m \u001b[0mbeta_dist\u001b[0m \u001b[0;34m=\u001b[0m \u001b[0;32mlambda\u001b[0m \u001b[0malpha\u001b[0m\u001b[0;34m,\u001b[0m \u001b[0mbeta\u001b[0m\u001b[0;34m:\u001b[0m \u001b[0mtfd\u001b[0m\u001b[0;34m.\u001b[0m\u001b[0mBeta\u001b[0m\u001b[0;34m(\u001b[0m\u001b[0mconcentration1\u001b[0m\u001b[0;34m=\u001b[0m\u001b[0malpha\u001b[0m\u001b[0;34m,\u001b[0m \u001b[0mconcentration0\u001b[0m\u001b[0;34m=\u001b[0m\u001b[0mbeta\u001b[0m\u001b[0;34m)\u001b[0m\u001b[0;34m\u001b[0m\u001b[0;34m\u001b[0m\u001b[0m\n\u001b[1;32m      5\u001b[0m \u001b[0;34m\u001b[0m\u001b[0m\n",
      "\u001b[0;32m<decorator-gen-231>\u001b[0m in \u001b[0;36m__init__\u001b[0;34m(self, loc, scale, validate_args, allow_nan_stats, name)\u001b[0m\n",
      "\u001b[0;32m~/anaconda3/envs/am216/lib/python3.7/site-packages/tensorflow_probability/python/distributions/distribution.py\u001b[0m in \u001b[0;36mwrapped_init\u001b[0;34m(***failed resolving arguments***)\u001b[0m\n\u001b[1;32m    274\u001b[0m       \u001b[0;31m# called, here is the place to do it.\u001b[0m\u001b[0;34m\u001b[0m\u001b[0;34m\u001b[0m\u001b[0;34m\u001b[0m\u001b[0m\n\u001b[1;32m    275\u001b[0m       \u001b[0mself_\u001b[0m\u001b[0;34m.\u001b[0m\u001b[0m_parameters\u001b[0m \u001b[0;34m=\u001b[0m \u001b[0;32mNone\u001b[0m\u001b[0;34m\u001b[0m\u001b[0;34m\u001b[0m\u001b[0m\n\u001b[0;32m--> 276\u001b[0;31m       \u001b[0mdefault_init\u001b[0m\u001b[0;34m(\u001b[0m\u001b[0mself_\u001b[0m\u001b[0;34m,\u001b[0m \u001b[0;34m*\u001b[0m\u001b[0margs\u001b[0m\u001b[0;34m,\u001b[0m \u001b[0;34m**\u001b[0m\u001b[0mkwargs\u001b[0m\u001b[0;34m)\u001b[0m\u001b[0;34m\u001b[0m\u001b[0;34m\u001b[0m\u001b[0m\n\u001b[0m\u001b[1;32m    277\u001b[0m       \u001b[0;31m# Note: if we ever want to override things set in `self` by subclass\u001b[0m\u001b[0;34m\u001b[0m\u001b[0;34m\u001b[0m\u001b[0;34m\u001b[0m\u001b[0m\n\u001b[1;32m    278\u001b[0m       \u001b[0;31m# `__init__`, here is the place to do it.\u001b[0m\u001b[0;34m\u001b[0m\u001b[0;34m\u001b[0m\u001b[0;34m\u001b[0m\u001b[0m\n",
      "\u001b[0;32m~/anaconda3/envs/am216/lib/python3.7/site-packages/tensorflow_probability/python/distributions/normal.py\u001b[0m in \u001b[0;36m__init__\u001b[0;34m(self, loc, scale, validate_args, allow_nan_stats, name)\u001b[0m\n\u001b[1;32m    143\u001b[0m           \u001b[0mallow_nan_stats\u001b[0m\u001b[0;34m=\u001b[0m\u001b[0mallow_nan_stats\u001b[0m\u001b[0;34m,\u001b[0m\u001b[0;34m\u001b[0m\u001b[0;34m\u001b[0m\u001b[0m\n\u001b[1;32m    144\u001b[0m           \u001b[0mparameters\u001b[0m\u001b[0;34m=\u001b[0m\u001b[0mparameters\u001b[0m\u001b[0;34m,\u001b[0m\u001b[0;34m\u001b[0m\u001b[0;34m\u001b[0m\u001b[0m\n\u001b[0;32m--> 145\u001b[0;31m           name=name)\n\u001b[0m\u001b[1;32m    146\u001b[0m \u001b[0;34m\u001b[0m\u001b[0m\n\u001b[1;32m    147\u001b[0m   \u001b[0;34m@\u001b[0m\u001b[0mstaticmethod\u001b[0m\u001b[0;34m\u001b[0m\u001b[0;34m\u001b[0m\u001b[0m\n",
      "\u001b[0;32m~/anaconda3/envs/am216/lib/python3.7/site-packages/tensorflow_probability/python/distributions/distribution.py\u001b[0m in \u001b[0;36m__init__\u001b[0;34m(self, dtype, reparameterization_type, validate_args, allow_nan_stats, parameters, graph_parents, name)\u001b[0m\n\u001b[1;32m    492\u001b[0m     \u001b[0mself\u001b[0m\u001b[0;34m.\u001b[0m\u001b[0m_graph_parents\u001b[0m \u001b[0;34m=\u001b[0m \u001b[0mgraph_parents\u001b[0m\u001b[0;34m\u001b[0m\u001b[0;34m\u001b[0m\u001b[0m\n\u001b[1;32m    493\u001b[0m     self._initial_parameter_control_dependencies = tuple(\n\u001b[0;32m--> 494\u001b[0;31m         \u001b[0md\u001b[0m \u001b[0;32mfor\u001b[0m \u001b[0md\u001b[0m \u001b[0;32min\u001b[0m \u001b[0mself\u001b[0m\u001b[0;34m.\u001b[0m\u001b[0m_parameter_control_dependencies\u001b[0m\u001b[0;34m(\u001b[0m\u001b[0mis_init\u001b[0m\u001b[0;34m=\u001b[0m\u001b[0;32mTrue\u001b[0m\u001b[0;34m)\u001b[0m\u001b[0;34m\u001b[0m\u001b[0;34m\u001b[0m\u001b[0m\n\u001b[0m\u001b[1;32m    495\u001b[0m         if d is not None)\n\u001b[1;32m    496\u001b[0m     \u001b[0;32mif\u001b[0m \u001b[0mself\u001b[0m\u001b[0;34m.\u001b[0m\u001b[0m_initial_parameter_control_dependencies\u001b[0m\u001b[0;34m:\u001b[0m\u001b[0;34m\u001b[0m\u001b[0;34m\u001b[0m\u001b[0m\n",
      "\u001b[0;32m~/anaconda3/envs/am216/lib/python3.7/site-packages/tensorflow_probability/python/distributions/normal.py\u001b[0m in \u001b[0;36m_parameter_control_dependencies\u001b[0;34m(self, is_init)\u001b[0m\n\u001b[1;32m    238\u001b[0m             \u001b[0;34m'Arguments `loc` and `scale` must have compatible shapes; '\u001b[0m\u001b[0;34m\u001b[0m\u001b[0;34m\u001b[0m\u001b[0m\n\u001b[1;32m    239\u001b[0m             'loc.shape={}, scale.shape={}.'.format(\n\u001b[0;32m--> 240\u001b[0;31m                 self.loc.shape, self.scale.shape))\n\u001b[0m\u001b[1;32m    241\u001b[0m       \u001b[0;31m# We don't bother checking the shapes in the dynamic case because\u001b[0m\u001b[0;34m\u001b[0m\u001b[0;34m\u001b[0m\u001b[0;34m\u001b[0m\u001b[0m\n\u001b[1;32m    242\u001b[0m       \u001b[0;31m# all member functions access both arguments anyway.\u001b[0m\u001b[0;34m\u001b[0m\u001b[0;34m\u001b[0m\u001b[0;34m\u001b[0m\u001b[0m\n",
      "\u001b[0;31mValueError\u001b[0m: Arguments `loc` and `scale` must have compatible shapes; loc.shape=(2,), scale.shape=(10,)."
     ]
    }
   ],
   "source": [
    "norm_dist = lambda loc, scale: tfd.Normal(loc=loc, scale=scale)\n",
    "expo_dist = lambda rate: tfd.Exponential(rate=rate)\n",
    "gamma_dist = lambda alpha, beta: tfd.Gamma(concentration=alpha, rate=beta)\n",
    "beta_dist = lambda alpha, beta: tfd.Beta(concentration1=alpha, concentration0=beta)\n",
    "\n",
    "# RV1 is a and Beta => RV3 is d and Gamma\n",
    "def model_dist_1(a_params, d_params):\n",
    "    est_dist = tfd.JointDistributionNamed(dict( \n",
    "        a = beta_dist(a_params[0], a_params[1]),\n",
    "        d = gamma_dist(d_params[0], d_params[1]),\n",
    "        b_i = lambda a: tfd.Sample(distribution=expo_dist(a), sample_shape=(2)), # don't use Independent since only 1 param\n",
    "        c_ij = lambda b_i, d: tfd.Independent(tfd.Sample(distribution=norm_dist(b_i, tf.transpose(10*[d])), \n",
    "                                                      sample_shape=(2,10))\n",
    "                                          )       \n",
    "        ))\n",
    "    return est_dist\n",
    "\n",
    "test = model_dist_1(a_params=[1,1], d_params=[1,1])\n",
    "test.log_prob(data)\n",
    "#tf.reduce_mean(test.log_prob(data))\n",
    "    \n",
    "    \n",
    "# # RV1 is a and Gamma => RV3 is d and Beta\n",
    "# def model_dist_2(a_params, b_params, c_params, d_params):\n",
    "    \n",
    "\n",
    "# # def get_distribution(norm_params, expo_params, gamma_params, beta_params):\n",
    "# #     est_dist = tfd.JointDistributionNamed(dict(\n",
    "# #     ))"
   ]
  },
  {
   "cell_type": "code",
   "execution_count": 153,
   "metadata": {},
   "outputs": [
    {
     "data": {
      "text/plain": [
       "<tf.Tensor: shape=(), dtype=float32, numpy=0.13178419>"
      ]
     },
     "execution_count": 153,
     "metadata": {},
     "output_type": "execute_result"
    }
   ],
   "source": [
    "beta_dist(1, 1).sample()"
   ]
  },
  {
   "cell_type": "code",
   "execution_count": null,
   "metadata": {},
   "outputs": [],
   "source": []
  },
  {
   "cell_type": "code",
   "execution_count": 83,
   "metadata": {},
   "outputs": [],
   "source": [
    "# corr[i, j] is the sample correlation between x[:, i, j] and y[:, i, j].\n",
    "corr = tfp.stats.correlation(x, y, sample_axis=0, event_axis=None)\n",
    "\n",
    "# corr_matrix[i, m, n] is the sample correlation of x[:, i, m] and y[:, i, n]\n",
    "corr_matrix = tfp.stats.correlation(x, y, sample_axis=0, event_axis=-1)\n"
   ]
  },
  {
   "cell_type": "code",
   "execution_count": 85,
   "metadata": {},
   "outputs": [
    {
     "data": {
      "text/plain": [
       "<tf.Tensor: shape=(2, 3), dtype=float32, numpy=\n",
       "array([[ 0.02286513, -0.15181404,  0.06636407],\n",
       "       [-0.02835085, -0.04497292, -0.1897917 ]], dtype=float32)>"
      ]
     },
     "execution_count": 85,
     "metadata": {},
     "output_type": "execute_result"
    }
   ],
   "source": [
    "corr"
   ]
  }
 ],
 "metadata": {
  "accelerator": "GPU",
  "colab": {
   "collapsed_sections": [],
   "name": "Copy of PS5",
   "provenance": []
  },
  "kernelspec": {
   "display_name": "Python 3",
   "language": "python",
   "name": "python3"
  },
  "language_info": {
   "codemirror_mode": {
    "name": "ipython",
    "version": 3
   },
   "file_extension": ".py",
   "mimetype": "text/x-python",
   "name": "python",
   "nbconvert_exporter": "python",
   "pygments_lexer": "ipython3",
   "version": "3.7.6"
  }
 },
 "nbformat": 4,
 "nbformat_minor": 4
}
