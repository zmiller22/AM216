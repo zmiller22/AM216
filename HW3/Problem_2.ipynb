{
 "cells": [
  {
   "cell_type": "markdown",
   "metadata": {
    "colab_type": "text",
    "id": "WFJl8PiJnEZ0"
   },
   "source": [
    "# Problem 2. Finding Neptune before seeing it."
   ]
  },
  {
   "cell_type": "markdown",
   "metadata": {
    "colab_type": "text",
    "id": "cTnp2pcwko-K"
   },
   "source": [
    "https://en.wikipedia.org/wiki/Discovery_of_Neptune\n",
    "\n",
    "The planet Neptune was mathematically predicted before it was directly observed. With a prediction by Urbain Le Verrier, telescopic observations confirming the existence of a major planet were made on the night of September 23–24, 1846, at the Berlin Observatory, by astronomer Johann Gottfried Galle (assisted by Heinrich Louis d'Arrest), working from Le Verrier's calculations. It was a sensational moment of 19th-century science, and dramatic confirmation of Newtonian gravitational theory. In François Arago's apt phrase, Le Verrier had discovered a planet \"with the point of his pen\".\n",
    "\n",
    "In this home Problem, we are letting you to discover Neptune in a Sun-Uranus-Neptune system using `jax`. We will start with a single-planet practice\n",
    "\n"
   ]
  },
  {
   "cell_type": "code",
   "execution_count": 2,
   "metadata": {
    "ExecuteTime": {
     "end_time": "2020-02-14T20:19:58.226329Z",
     "start_time": "2020-02-14T20:19:58.218175Z"
    },
    "colab": {},
    "colab_type": "code",
    "id": "LVbTgK8ree88"
   },
   "outputs": [],
   "source": [
    "import numpy as onp\n",
    "import jax.numpy as np\n",
    "from jax.experimental.ode import build_odeint, odeint\n",
    "from jax import grad\n",
    "from jax import jit\n",
    "import matplotlib.pyplot as plt\n",
    "import numpy as onp"
   ]
  },
  {
   "cell_type": "markdown",
   "metadata": {
    "colab_type": "text",
    "id": "RKpRcqpNdPFX"
   },
   "source": [
    "## (a) Consider a two-body Uranus-Sun system. Suppose the Uranus' orbital around sun has a farthest point with $d_{US} = 0.25$. At this point, the Uranus travels at $v_U = 4$. Load the data from `orbit_data_2B.txt` and use `jax` to find out what is the mass of the Sun $m_S$.\n",
    "\n",
    "The time period within which the data is simulated is between $0$ and $0.4$.\n",
    "The recommended initial guess of the mass is somewhere from $0$ to $10$."
   ]
  },
  {
   "cell_type": "code",
   "execution_count": 3,
   "metadata": {
    "ExecuteTime": {
     "end_time": "2020-02-14T03:45:15.328734Z",
     "start_time": "2020-02-14T03:45:15.326208Z"
    },
    "colab": {},
    "colab_type": "code",
    "id": "9z1xzr2Mhnn0"
   },
   "outputs": [],
   "source": [
    "d_US = 0.25"
   ]
  },
  {
   "cell_type": "markdown",
   "metadata": {},
   "source": [
    "The two-body Newton's equation of motion written in an `odeint` compatible form"
   ]
  },
  {
   "cell_type": "code",
   "execution_count": 4,
   "metadata": {
    "ExecuteTime": {
     "end_time": "2020-02-14T03:45:16.211576Z",
     "start_time": "2020-02-14T03:45:16.182079Z"
    },
    "colab": {},
    "colab_type": "code",
    "id": "6CGEa4TwHDMP"
   },
   "outputs": [],
   "source": [
    "# What is the coord part of this input? It worked with the real orbit_data. Also what is the output? With the \n",
    "# real orbit_data it output a 4x4 array\n",
    "def newton_2(coord, t, m_S):\n",
    "    x = coord[:2]\n",
    "    y = coord[2:4]\n",
    "    r = np.sqrt(x[0]**2+y[0]**2)\n",
    "    ax = -(x[0]/r)*m_S/r**2\n",
    "    ay = -(y[0]/r)*m_S/r**2\n",
    "    return np.array([x[1], ax, y[1], ay])"
   ]
  },
  {
   "cell_type": "markdown",
   "metadata": {},
   "source": [
    "Load the two-body data. The data is in the format of $(x, v_x, y, v_y)$ where $v$ is the velocity."
   ]
  },
  {
   "cell_type": "code",
   "execution_count": 5,
   "metadata": {
    "ExecuteTime": {
     "end_time": "2020-02-14T20:20:28.036699Z",
     "start_time": "2020-02-14T20:20:28.030571Z"
    },
    "colab": {},
    "colab_type": "code",
    "id": "f0jJ4RgRkP_e"
   },
   "outputs": [],
   "source": [
    "orbit_data = onp.loadtxt('./orbit_data_2B.txt')"
   ]
  },
  {
   "cell_type": "markdown",
   "metadata": {
    "colab_type": "text",
    "id": "giirycZsoJrV"
   },
   "source": [
    "This is how the orbit looks like"
   ]
  },
  {
   "cell_type": "code",
   "execution_count": 6,
   "metadata": {
    "ExecuteTime": {
     "end_time": "2020-02-14T03:45:18.563102Z",
     "start_time": "2020-02-14T03:45:18.400322Z"
    },
    "colab": {
     "base_uri": "https://localhost:8080/",
     "height": 282
    },
    "colab_type": "code",
    "id": "GXjL_ZY3X7GQ",
    "outputId": "adb7f575-f952-4743-f121-83287501019f"
   },
   "outputs": [
    {
     "data": {
      "text/plain": [
       "<matplotlib.collections.PathCollection at 0x7f54d4778810>"
      ]
     },
     "execution_count": 6,
     "metadata": {},
     "output_type": "execute_result"
    },
    {
     "data": {
      "image/png": "[encoded data removed]",
      "text/plain": [
       "<Figure size 432x288 with 1 Axes>"
      ]
     },
     "metadata": {
      "needs_background": "light"
     },
     "output_type": "display_data"
    }
   ],
   "source": [
    "plt.plot(orbit_data[:,0],orbit_data[:,2],'.--')\n",
    "plt.scatter([0],[0])\n",
    "plt.show()"
   ]
  },
  {
   "cell_type": "markdown",
   "metadata": {
    "colab_type": "text",
    "id": "xxshEpW9vdmF"
   },
   "source": [
    "### Solution to (a)"
   ]
  },
  {
   "cell_type": "code",
   "execution_count": 7,
   "metadata": {
    "ExecuteTime": {
     "end_time": "2020-02-14T03:37:51.488150Z",
     "start_time": "2020-02-14T03:37:51.482733Z"
    },
    "colab": {},
    "colab_type": "code",
    "id": "GrGQUmXxZt9N"
   },
   "outputs": [],
   "source": [
    "### Solution here ###\n",
    "# Get the odeint form of newton_2\n",
    "newton_2_odeint = build_odeint(newton_2)\n",
    "\n",
    "# Get the correct orbit and time vector\n",
    "real_orbit = orbit_data\n",
    "t = onp.linspace(0,0.4,100)\n"
   ]
  },
  {
   "cell_type": "code",
   "execution_count": 8,
   "metadata": {},
   "outputs": [],
   "source": [
    "# Define the loss function\n",
    "def loss_1(m_S_est):\n",
    "    return np.sum((newton_2_odeint(real_orbit[0,:], t, m_S_est).reshape(-1)-real_orbit.reshape(-1))**2)\n"
   ]
  },
  {
   "cell_type": "code",
   "execution_count": 33,
   "metadata": {},
   "outputs": [
    {
     "name": "stdout",
     "output_type": "stream",
     "text": [
      "Converged on iteration 98 with m_S estimate 7.000003\n"
     ]
    }
   ],
   "source": [
    "# Calculate the gradient w.r.t. m_S\n",
    "m_S_grad = jit(grad(loss_1))\n",
    "\n",
    "# Give an estimate for m_S\n",
    "m_S_est = 9.0\n",
    "\n",
    "# Define a learning rate\n",
    "lr_m_S = 0.00001\n",
    "\n",
    "# Perform the optimization\n",
    "iter_count = 0\n",
    "m_S_list = [m_S_est]\n",
    "loss_1_list = [loss_1(m_S_est)]\n",
    "while True:\n",
    "    m_S_est -= lr_m_S * m_S_grad(m_S_est)\n",
    "    m_S_list.append(m_S_est)\n",
    "    loss_1_list.append(loss_1(m_S_est))\n",
    "    iter_count += 1\n",
    "    \n",
    "    if onp.abs(m_S_list[-2]-m_S_list[-1]) < 10e-10 and onp.abs(loss_1_list[-2]-loss_1_list[-1]) < 10e-10:\n",
    "        print(\"Converged on iteration\", iter_count, \"with m_S estimate\", m_S_est)\n",
    "        break\n",
    "        \n",
    "    elif iter_count > 10000:\n",
    "        print(\"Failed to converge in 10000 iterations\")\n",
    "        break\n",
    "        \n",
    "    else: continue"
   ]
  },
  {
   "cell_type": "code",
   "execution_count": 34,
   "metadata": {},
   "outputs": [],
   "source": [
    "test_orbit = newton_2_odeint(real_orbit[0,:], t, m_S_list[-1])"
   ]
  },
  {
   "cell_type": "code",
   "execution_count": 35,
   "metadata": {},
   "outputs": [
    {
     "data": {
      "image/png": "[encoded data removed]",
      "text/plain": [
       "<Figure size 432x288 with 1 Axes>"
      ]
     },
     "metadata": {
      "needs_background": "light"
     },
     "output_type": "display_data"
    }
   ],
   "source": [
    "plt.plot(test_orbit[:,0],test_orbit[:,2],'.--')\n",
    "plt.scatter([0],[0])\n",
    "plt.plot(orbit_data[:,0],orbit_data[:,2],'.--')\n",
    "plt.scatter([0],[0])\n",
    "plt.show()"
   ]
  },
  {
   "cell_type": "markdown",
   "metadata": {
    "colab_type": "text",
    "id": "v65xiCryDcOZ"
   },
   "source": [
    "## (b) Now we consider the three body system including the Sun, Uranus and Neptune. You will be given\n",
    "\n",
    "*   A short trajectory of Uranus `orbit_data_3B.txt`. The time period within which the data is simulated is between $0$ and $0.05$.\n",
    "*   Mass $m_U$. Distance from the Uranus to the Sun at the starting point $r_{U}$.\n",
    "\n",
    "and you will predict\n",
    "*   The mass of Neptune $m_N$\n",
    "*   The distance from Neptune to the Sun at the starting point $r_{N}$\n",
    "\n",
    "More configuration of the sustem:\n",
    "*   The Sun is fixed at $(0,0)$\n",
    "*   The starting positions of the Uranus and the Neptune are $(r_U, 0)$ and $(r_N, 0)$.\n",
    "*   Uranus and Neptune are put quite close to each other in order for the influence between Uranus and Neptune to show up quickly.\n",
    "*   In this question, the velocities are set to $\\sqrt{M/r_0}$, which is the velocity of a circular orbital when feeling only the gravity from the sun. You can find it in the following code but you do not need to do any modification.\n",
    "\n",
    "**Report your findings to Kaggle!**\n",
    "\n",
    "The recommended initial guess of the mass is somewhere from $5$ to $15$.\n",
    "The recommended initial guess of the orbit radius is somewhere from $2$ to $5$."
   ]
  },
  {
   "cell_type": "code",
   "execution_count": null,
   "metadata": {
    "ExecuteTime": {
     "end_time": "2020-02-14T03:45:21.791855Z",
     "start_time": "2020-02-14T03:45:21.789160Z"
    },
    "colab": {},
    "colab_type": "code",
    "id": "Hx56QVo-p-1m"
   },
   "outputs": [],
   "source": [
    "m_U = 8.681 \n",
    "m_S = 7*10**4 \n",
    "r_U = 1.784 "
   ]
  },
  {
   "cell_type": "markdown",
   "metadata": {},
   "source": [
    "The two-body Newton's equation of motion written in an `odeint` compatible form"
   ]
  },
  {
   "cell_type": "code",
   "execution_count": null,
   "metadata": {
    "ExecuteTime": {
     "end_time": "2020-02-14T03:45:22.591792Z",
     "start_time": "2020-02-14T03:45:22.582613Z"
    },
    "colab": {},
    "colab_type": "code",
    "id": "pRezsa_jg_BW"
   },
   "outputs": [],
   "source": [
    "def grav(m1,m2,r):\n",
    "    return m1*m2/r**2\n",
    "def newton_3(coord, t, m_N, r_N):\n",
    "    x_U = coord[:2] # x is actually x and dx/dt\n",
    "    y_U = coord[2:4]\n",
    "    x_N = coord[4:6]\n",
    "    y_N = coord[6:8]\n",
    "    r_U = np.sqrt(x_U[0]**2+y_U[0]**2)\n",
    "    r_N = np.sqrt(x_N[0]**2+y_N[0]**2)\n",
    "    x_UN = x_N - x_U\n",
    "    y_UN = y_N - y_U    \n",
    "    r_UN = np.sqrt((x_UN[0])**2+(y_UN[0])**2)\n",
    "    \n",
    "    fx_U = -(x_U[0]/r_U)*grav(m_U, m_S, r_U) + (x_UN[0]/r_UN)*grav(m_U, m_N, r_UN)\n",
    "    fy_U = -(y_U[0]/r_U)*grav(m_U, m_S, r_U) + (y_UN[0]/r_UN)*grav(m_U, m_N, r_UN)    \n",
    "    fx_N = -(x_N[0]/r_N)*grav(m_N, m_S, r_N) - (x_UN[0]/r_UN)*grav(m_U, m_N, r_UN)\n",
    "    fy_N = -(y_N[0]/r_N)*grav(m_N, m_S, r_N) - (y_UN[0]/r_UN)*grav(m_U, m_N, r_UN)\n",
    "    return np.array([x_U[1], fx_U/m_U, y_U[1], fy_U/m_U, x_N[1], fx_N/m_N, y_N[1], fy_N/m_N])\n",
    "def circle_v(m_center, r0):\n",
    "  # get the velocity that makes a planet's orbit a sphere. \n",
    "  # It should be a save velocity for us to use to make legitimate simulation.\n",
    "    return  np.sqrt(m_center/r0)"
   ]
  },
  {
   "cell_type": "markdown",
   "metadata": {},
   "source": [
    "The orbit data is in the format of $(x, v_x, y, v_y)$ where $v$ stands for the velocity of Uranus."
   ]
  },
  {
   "cell_type": "code",
   "execution_count": 36,
   "metadata": {
    "ExecuteTime": {
     "end_time": "2020-02-17T01:06:09.044300Z",
     "start_time": "2020-02-17T01:06:08.895295Z"
    }
   },
   "outputs": [],
   "source": [
    "import numpy as onp"
   ]
  },
  {
   "cell_type": "code",
   "execution_count": 37,
   "metadata": {
    "ExecuteTime": {
     "end_time": "2020-02-17T01:06:53.743235Z",
     "start_time": "2020-02-17T01:06:53.740017Z"
    },
    "colab": {},
    "colab_type": "code",
    "id": "GuHDtYtWiFB0"
   },
   "outputs": [],
   "source": [
    "orbit_data = onp.loadtxt('./orbit_data_3B.txt')"
   ]
  },
  {
   "cell_type": "markdown",
   "metadata": {
    "colab_type": "text",
    "id": "vuad1E_cvP2v"
   },
   "source": [
    "See that the orbit is not closed? Because it is pulled by the Neptune.\n",
    "Now go get Neptune!"
   ]
  },
  {
   "cell_type": "code",
   "execution_count": 38,
   "metadata": {
    "ExecuteTime": {
     "end_time": "2020-02-14T03:45:24.802482Z",
     "start_time": "2020-02-14T03:45:24.658266Z"
    },
    "colab": {
     "base_uri": "https://localhost:8080/",
     "height": 282
    },
    "colab_type": "code",
    "id": "Cwf4RmHbpz4a",
    "outputId": "09daee68-e1e9-4beb-f016-1cc7e62cdc6a"
   },
   "outputs": [
    {
     "data": {
      "text/plain": [
       "<matplotlib.collections.PathCollection at 0x7f54c8182e10>"
      ]
     },
     "execution_count": 38,
     "metadata": {},
     "output_type": "execute_result"
    },
    {
     "data": {
      "image/png": "[encoded data removed]",
      "text/plain": [
       "<Figure size 432x288 with 1 Axes>"
      ]
     },
     "metadata": {
      "needs_background": "light"
     },
     "output_type": "display_data"
    }
   ],
   "source": [
    "plt.plot(orbit_data[:,0],orbit_data[:,2],'.--')\n",
    "plt.scatter([0],[0])"
   ]
  },
  {
   "cell_type": "markdown",
   "metadata": {
    "colab_type": "text",
    "id": "Kac-y2OxvY0S"
   },
   "source": [
    "### Solution to (b)"
   ]
  },
  {
   "cell_type": "code",
   "execution_count": null,
   "metadata": {
    "colab": {},
    "colab_type": "code",
    "id": "pH9FiASBqaVk"
   },
   "outputs": [],
   "source": [
    "# Solution here"
   ]
  },
  {
   "cell_type": "markdown",
   "metadata": {
    "colab": {},
    "colab_type": "code",
    "id": "HLzAQ5bDwnQt"
   },
   "source": [
    "Report your findings to kaggle!"
   ]
  },
  {
   "cell_type": "code",
   "execution_count": null,
   "metadata": {},
   "outputs": [],
   "source": []
  }
 ],
 "metadata": {
  "accelerator": "GPU",
  "colab": {
   "collapsed_sections": [],
   "name": "Problem 2 Solution.ipynb",
   "provenance": []
  },
  "kernelspec": {
   "display_name": "Python 3",
   "language": "python",
   "name": "python3"
  },
  "language_info": {
   "codemirror_mode": {
    "name": "ipython",
    "version": 3
   },
   "file_extension": ".py",
   "mimetype": "text/x-python",
   "name": "python",
   "nbconvert_exporter": "python",
   "pygments_lexer": "ipython3",
   "version": "3.7.6"
  }
 },
 "nbformat": 4,
 "nbformat_minor": 1
}
