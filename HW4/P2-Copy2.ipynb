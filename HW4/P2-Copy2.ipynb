{
 "cells": [
  {
   "cell_type": "markdown",
   "metadata": {
    "colab_type": "text",
    "id": "KaOV8WHFZYQy"
   },
   "source": [
    "## Loading the Inception model from the [Applications of Keras](https://keras.io/applications/) or [Transfer learning with a pretrained ConvNet](https://www.tensorflow.org/tutorials/images/transfer_learning)\n",
    "Keras Applications are deep learning models that are made available alongside pre-trained weights. These models can be used for prediction, feature extraction, and fine-tuning.\n",
    "\n",
    "Weights are downloaded automatically when instantiating a model."
   ]
  },
  {
   "cell_type": "markdown",
   "metadata": {
    "colab_type": "text",
    "id": "mt8Ilz-KZYQ6"
   },
   "source": [
    "## (a) The Ising Model – try your show that the square lattice data can be trained perfectly using the embeddings of Inception.\n",
    "\n",
    "Get the embeddings first, then build a classifier"
   ]
  },
  {
   "cell_type": "markdown",
   "metadata": {},
   "source": [
    "Solution to (a):"
   ]
  },
  {
   "cell_type": "code",
   "execution_count": 1,
   "metadata": {},
   "outputs": [],
   "source": [
    "import numpy as np\n",
    "from numpy.random import rand\n",
    "import matplotlib.pyplot as plt\n",
    "\n",
    "import jax.numpy as jnp\n",
    "from jax import jit, vmap\n",
    "\n",
    "import tensorflow as tf\n",
    "import tensorflow_datasets as tfds\n",
    "import tensorflow.keras as keras\n",
    "\n",
    "import sklearn\n",
    "from sklearn.model_selection import train_test_split\n",
    "from sklearn.manifold import TSNE\n",
    "from sklearn.decomposition import PCA\n",
    "\n",
    "\n",
    "from tensorflow.keras.models import Sequential\n",
    "from tensorflow.keras.layers import BatchNormalization\n",
    "from tensorflow.keras.layers import Conv2D\n",
    "from tensorflow.keras.layers import MaxPooling2D\n",
    "from tensorflow.keras.layers import Activation\n",
    "from tensorflow.keras.layers import Flatten\n",
    "from tensorflow.keras.layers import Dropout\n",
    "from tensorflow.keras.layers import Dense\n",
    "from tensorflow.keras import optimizers\n",
    "\n",
    "import gc\n",
    "from numba import cuda"
   ]
  },
  {
   "cell_type": "code",
   "execution_count": 2,
   "metadata": {},
   "outputs": [
    {
     "data": {
      "text/plain": [
       "[PhysicalDevice(name='/physical_device:GPU:0', device_type='GPU')]"
      ]
     },
     "execution_count": 2,
     "metadata": {},
     "output_type": "execute_result"
    }
   ],
   "source": [
    "# Check that tf is running on gpu\n",
    "tf.config.list_physical_devices('GPU')"
   ]
  },
  {
   "cell_type": "code",
   "execution_count": 3,
   "metadata": {},
   "outputs": [],
   "source": [
    "# make sure \n",
    "#tf.compat.v2.enable_eager_execution()"
   ]
  },
  {
   "cell_type": "code",
   "execution_count": 4,
   "metadata": {},
   "outputs": [],
   "source": [
    "# Import the data and shape it for training\n",
    "with tf.device('/CPU:0'):\n",
    "\n",
    "    N = 250\n",
    "    nx, ny = 32, 32\n",
    "\n",
    "    Xsq = np.ndarray((4*N,nx,ny,1))\n",
    "    ysq = np.ndarray(4*N)\n",
    "\n",
    "    for i in np.arange(N):\n",
    "        Xsq[i + 0*N] = np.loadtxt(\"./square_T1/square_T1/{:03d}\".format(i), delimiter=\",\").reshape(nx,ny,1)\n",
    "        ysq[i + 0*N] = 0\n",
    "        Xsq[i + 1*N] = np.loadtxt(\"./square_T2/square_T2/{:03d}\".format(i), delimiter=\",\").reshape(nx,ny,1)\n",
    "        ysq[i + 1*N] = 1\n",
    "        Xsq[i + 2*N] = np.loadtxt(\"./square_T3/square_T3/{:03d}\".format(i), delimiter=\",\").reshape(nx,ny,1)\n",
    "        ysq[i + 2*N] = 2\n",
    "        Xsq[i + 3*N] = np.loadtxt(\"./square_T4/square_T4/{:03d}\".format(i), delimiter=\",\").reshape(nx,ny,1)\n",
    "        ysq[i + 3*N] = 3\n",
    "    \n",
    "    # create train/test splits\n",
    "    Xsq_train, Xsq_test, ysq_train, ysq_test = train_test_split(Xsq, ysq, test_size=0.2, random_state=0)\n",
    "    \n",
    "    # Reshape the data for input into transfer model\n",
    "    Xsq_train, Xsq_test = np.repeat(Xsq_train, 8, 1), np.repeat(Xsq_test, 8, 1)\n",
    "    Xsq_train, Xsq_test = np.repeat(Xsq_train, 8, 2), np.repeat(Xsq_test, 8, 2)\n",
    "    Xsq_train, Xsq_test = np.repeat(Xsq_train, 3, 3), np.repeat(Xsq_test, 3, 3)\n",
    "    #Xsq_train, Xsq_test = tf.cast(Xsq_train, tf.float32), tf.cast(Xsq_test, tf.float32)"
   ]
  },
  {
   "cell_type": "code",
   "execution_count": 5,
   "metadata": {},
   "outputs": [],
   "source": [
    "# Get the inception model without last layer and disable training\n",
    "with tf.device('/CPU:0'):\n",
    "    base_model = keras.applications.inception_v3.InceptionV3(include_top=False, \n",
    "                                                            weights='imagenet', \n",
    "                                                            input_shape=Xsq_train[0].shape\n",
    "                                                            )\n",
    "\n",
    "    base_model.trainable = False"
   ]
  },
  {
   "cell_type": "code",
   "execution_count": 6,
   "metadata": {},
   "outputs": [],
   "source": [
    "# Get the embedded data and normalize\n",
    "global_avg_layer = tf.keras.layers.GlobalAveragePooling2D()\n",
    "Xsq_train_emb, Xsq_test_emb = global_avg_layer(base_model.predict(Xsq_train)), global_avg_layer(base_model.predict(Xsq_test))\n",
    "Xsq_train_emb, Xsq_test_emb = Xsq_train_emb.numpy()/Xsq_train_emb.numpy().max(), Xsq_test_emb.numpy()/Xsq_test_emb.numpy().max()"
   ]
  },
  {
   "cell_type": "code",
   "execution_count": 7,
   "metadata": {},
   "outputs": [],
   "source": [
    "class small_FNN:\n",
    "    def __init__(self):\n",
    "        model = self\n",
    "    \n",
    "    @staticmethod\n",
    "    def build(num_classes, channels_first=False):\n",
    "        model = tf.keras.Sequential()\n",
    "        model.add(tf.keras.layers.Dense(612, activation='relu'))\n",
    "        model.add(tf.keras.layers.Dropout(0.5))\n",
    "        model.add(tf.keras.layers.Dense(32, activation='relu'))\n",
    "        model.add(tf.keras.layers.BatchNormalization())\n",
    "        model.add(tf.keras.layers.Dense(num_classes, activation='softmax'))\n",
    "        \n",
    "        return model\n",
    "    \n",
    "    def get_layers():\n",
    "        layers = [\n",
    "        tf.keras.layers.Dense(612, activation='relu'),\n",
    "        tf.keras.layers.Dropout(0.5),\n",
    "        tf.keras.layers.Dense(32, activation='relu'),\n",
    "        tf.keras.layers.BatchNormalization(),\n",
    "        tf.keras.layers.Dense(num_classes, activation='softmax')\n",
    "        ]\n",
    "        return layers"
   ]
  },
  {
   "cell_type": "code",
   "execution_count": 8,
   "metadata": {},
   "outputs": [],
   "source": [
    "def train_model(input_model, train_data, train_lbls, test_data, test_lbls, \n",
    "                          num_classes, input_shape, hyperparams):\n",
    "    x_train = train_data\n",
    "    x_test = test_data\n",
    "    \n",
    "    # Create categorical labels\n",
    "    y_train = keras.utils.to_categorical(train_lbls, num_classes)\n",
    "    y_test = keras.utils.to_categorical(test_lbls, num_classes)\n",
    "    \n",
    "    # Instantiate the model\n",
    "    model = input_model\n",
    "    \n",
    "    # Set hyperparameters\n",
    "    INIT_LR = hyperparams[0]# learning rate\n",
    "    EPOCHS = hyperparams[1] # number of epochs\n",
    "    BS = hyperparams[2] # batch size\n",
    "    OPT = tf.keras.optimizers.Adagrad(lr=INIT_LR) # optimizing function\n",
    "    \n",
    "    # Compile the model\n",
    "    model.compile(loss='categorical_crossentropy', optimizer=OPT, metrics=['accuracy'])\n",
    "    \n",
    "    # Train the model\n",
    "    H = model.fit(x_train, y_train, validation_data=(x_test, y_test), epochs=EPOCHS,\n",
    "                  batch_size=BS)\n",
    "    \n",
    "    return H, model"
   ]
  },
  {
   "cell_type": "code",
   "execution_count": 10,
   "metadata": {},
   "outputs": [
    {
     "name": "stdout",
     "output_type": "stream",
     "text": [
      "Train on 800 samples, validate on 200 samples\n",
      "Epoch 1/50\n",
      "800/800 [==============================] - 0s 458us/sample - loss: 1.0688 - accuracy: 0.5450 - val_loss: 1.2557 - val_accuracy: 0.7950\n",
      "Epoch 2/50\n",
      "800/800 [==============================] - 0s 80us/sample - loss: 0.6910 - accuracy: 0.7325 - val_loss: 1.1851 - val_accuracy: 0.9150\n",
      "Epoch 3/50\n",
      "800/800 [==============================] - 0s 78us/sample - loss: 0.5100 - accuracy: 0.8138 - val_loss: 1.1187 - val_accuracy: 0.9200\n",
      "Epoch 4/50\n",
      "800/800 [==============================] - 0s 76us/sample - loss: 0.4678 - accuracy: 0.8338 - val_loss: 1.0598 - val_accuracy: 0.9350\n",
      "Epoch 5/50\n",
      "800/800 [==============================] - 0s 76us/sample - loss: 0.4188 - accuracy: 0.8550 - val_loss: 1.0014 - val_accuracy: 0.9300\n",
      "Epoch 6/50\n",
      "800/800 [==============================] - 0s 83us/sample - loss: 0.3630 - accuracy: 0.8825 - val_loss: 0.9408 - val_accuracy: 0.9400\n",
      "Epoch 7/50\n",
      "800/800 [==============================] - 0s 80us/sample - loss: 0.3347 - accuracy: 0.8788 - val_loss: 0.8817 - val_accuracy: 0.9400\n",
      "Epoch 8/50\n",
      "800/800 [==============================] - 0s 80us/sample - loss: 0.3034 - accuracy: 0.9087 - val_loss: 0.8157 - val_accuracy: 0.9400\n",
      "Epoch 9/50\n",
      "800/800 [==============================] - 0s 81us/sample - loss: 0.3108 - accuracy: 0.9087 - val_loss: 0.7563 - val_accuracy: 0.9450\n",
      "Epoch 10/50\n",
      "800/800 [==============================] - 0s 74us/sample - loss: 0.3051 - accuracy: 0.9000 - val_loss: 0.6873 - val_accuracy: 0.9400\n",
      "Epoch 11/50\n",
      "800/800 [==============================] - 0s 75us/sample - loss: 0.2769 - accuracy: 0.9137 - val_loss: 0.6250 - val_accuracy: 0.9400\n",
      "Epoch 12/50\n",
      "800/800 [==============================] - 0s 82us/sample - loss: 0.2959 - accuracy: 0.9025 - val_loss: 0.5641 - val_accuracy: 0.9500\n",
      "Epoch 13/50\n",
      "800/800 [==============================] - 0s 82us/sample - loss: 0.2628 - accuracy: 0.9087 - val_loss: 0.5051 - val_accuracy: 0.9550\n",
      "Epoch 14/50\n",
      "800/800 [==============================] - 0s 83us/sample - loss: 0.2490 - accuracy: 0.9225 - val_loss: 0.4498 - val_accuracy: 0.9400\n",
      "Epoch 15/50\n",
      "800/800 [==============================] - 0s 80us/sample - loss: 0.2314 - accuracy: 0.9312 - val_loss: 0.4075 - val_accuracy: 0.9550\n",
      "Epoch 16/50\n",
      "800/800 [==============================] - 0s 99us/sample - loss: 0.2299 - accuracy: 0.9225 - val_loss: 0.3615 - val_accuracy: 0.9450\n",
      "Epoch 17/50\n",
      "800/800 [==============================] - 0s 78us/sample - loss: 0.2244 - accuracy: 0.9400 - val_loss: 0.3282 - val_accuracy: 0.9500\n",
      "Epoch 18/50\n",
      "800/800 [==============================] - 0s 80us/sample - loss: 0.2262 - accuracy: 0.9312 - val_loss: 0.2985 - val_accuracy: 0.9500\n",
      "Epoch 19/50\n",
      "800/800 [==============================] - 0s 91us/sample - loss: 0.2122 - accuracy: 0.9350 - val_loss: 0.2741 - val_accuracy: 0.9450\n",
      "Epoch 20/50\n",
      "800/800 [==============================] - 0s 83us/sample - loss: 0.2212 - accuracy: 0.9287 - val_loss: 0.2517 - val_accuracy: 0.9500\n",
      "Epoch 21/50\n",
      "800/800 [==============================] - 0s 78us/sample - loss: 0.2141 - accuracy: 0.9375 - val_loss: 0.2394 - val_accuracy: 0.9400\n",
      "Epoch 22/50\n",
      "800/800 [==============================] - 0s 79us/sample - loss: 0.1953 - accuracy: 0.9475 - val_loss: 0.2285 - val_accuracy: 0.9400\n",
      "Epoch 23/50\n",
      "800/800 [==============================] - 0s 80us/sample - loss: 0.1914 - accuracy: 0.9463 - val_loss: 0.2153 - val_accuracy: 0.9400\n",
      "Epoch 24/50\n",
      "800/800 [==============================] - 0s 75us/sample - loss: 0.1933 - accuracy: 0.9375 - val_loss: 0.2059 - val_accuracy: 0.9450\n",
      "Epoch 25/50\n",
      "800/800 [==============================] - 0s 80us/sample - loss: 0.1988 - accuracy: 0.9287 - val_loss: 0.2036 - val_accuracy: 0.9400\n",
      "Epoch 26/50\n",
      "800/800 [==============================] - 0s 79us/sample - loss: 0.1885 - accuracy: 0.9400 - val_loss: 0.1984 - val_accuracy: 0.9400\n",
      "Epoch 27/50\n",
      "800/800 [==============================] - 0s 80us/sample - loss: 0.1716 - accuracy: 0.9550 - val_loss: 0.1902 - val_accuracy: 0.9450\n",
      "Epoch 28/50\n",
      "800/800 [==============================] - 0s 79us/sample - loss: 0.1806 - accuracy: 0.9513 - val_loss: 0.1862 - val_accuracy: 0.9450\n",
      "Epoch 29/50\n",
      "800/800 [==============================] - 0s 80us/sample - loss: 0.1740 - accuracy: 0.9475 - val_loss: 0.1817 - val_accuracy: 0.9450\n",
      "Epoch 30/50\n",
      "800/800 [==============================] - 0s 83us/sample - loss: 0.1900 - accuracy: 0.9463 - val_loss: 0.1812 - val_accuracy: 0.9400\n",
      "Epoch 31/50\n",
      "800/800 [==============================] - 0s 86us/sample - loss: 0.1582 - accuracy: 0.9663 - val_loss: 0.1781 - val_accuracy: 0.9400\n",
      "Epoch 32/50\n",
      "800/800 [==============================] - 0s 80us/sample - loss: 0.1699 - accuracy: 0.9550 - val_loss: 0.1753 - val_accuracy: 0.9450\n",
      "Epoch 33/50\n",
      "800/800 [==============================] - 0s 82us/sample - loss: 0.1601 - accuracy: 0.9588 - val_loss: 0.1753 - val_accuracy: 0.9400\n",
      "Epoch 34/50\n",
      "800/800 [==============================] - 0s 81us/sample - loss: 0.1613 - accuracy: 0.9525 - val_loss: 0.1733 - val_accuracy: 0.9450\n",
      "Epoch 35/50\n",
      "800/800 [==============================] - 0s 84us/sample - loss: 0.1492 - accuracy: 0.9625 - val_loss: 0.1762 - val_accuracy: 0.9450\n",
      "Epoch 36/50\n",
      "800/800 [==============================] - 0s 80us/sample - loss: 0.1713 - accuracy: 0.9550 - val_loss: 0.1755 - val_accuracy: 0.9450\n",
      "Epoch 37/50\n",
      "800/800 [==============================] - 0s 82us/sample - loss: 0.1541 - accuracy: 0.9575 - val_loss: 0.1725 - val_accuracy: 0.9450\n",
      "Epoch 38/50\n",
      "800/800 [==============================] - 0s 82us/sample - loss: 0.1401 - accuracy: 0.9600 - val_loss: 0.1698 - val_accuracy: 0.9400\n",
      "Epoch 39/50\n",
      "800/800 [==============================] - 0s 79us/sample - loss: 0.1687 - accuracy: 0.9575 - val_loss: 0.1695 - val_accuracy: 0.9450\n",
      "Epoch 40/50\n",
      "800/800 [==============================] - 0s 78us/sample - loss: 0.1598 - accuracy: 0.9513 - val_loss: 0.1697 - val_accuracy: 0.9450\n",
      "Epoch 41/50\n",
      "800/800 [==============================] - 0s 76us/sample - loss: 0.1469 - accuracy: 0.9613 - val_loss: 0.1672 - val_accuracy: 0.9450\n",
      "Epoch 42/50\n",
      "800/800 [==============================] - 0s 81us/sample - loss: 0.1546 - accuracy: 0.9550 - val_loss: 0.1675 - val_accuracy: 0.9450\n",
      "Epoch 43/50\n",
      "800/800 [==============================] - 0s 81us/sample - loss: 0.1267 - accuracy: 0.9737 - val_loss: 0.1625 - val_accuracy: 0.9400\n",
      "Epoch 44/50\n",
      "800/800 [==============================] - 0s 77us/sample - loss: 0.1377 - accuracy: 0.9663 - val_loss: 0.1605 - val_accuracy: 0.9400\n",
      "Epoch 45/50\n",
      "800/800 [==============================] - 0s 75us/sample - loss: 0.1371 - accuracy: 0.9650 - val_loss: 0.1615 - val_accuracy: 0.9400\n",
      "Epoch 46/50\n",
      "800/800 [==============================] - 0s 71us/sample - loss: 0.1326 - accuracy: 0.9700 - val_loss: 0.1611 - val_accuracy: 0.9400\n",
      "Epoch 47/50\n",
      "800/800 [==============================] - 0s 76us/sample - loss: 0.1299 - accuracy: 0.9625 - val_loss: 0.1598 - val_accuracy: 0.9400\n",
      "Epoch 48/50\n",
      "800/800 [==============================] - 0s 74us/sample - loss: 0.1317 - accuracy: 0.9688 - val_loss: 0.1589 - val_accuracy: 0.9400\n",
      "Epoch 49/50\n",
      "800/800 [==============================] - 0s 72us/sample - loss: 0.1329 - accuracy: 0.9700 - val_loss: 0.1601 - val_accuracy: 0.9450\n",
      "Epoch 50/50\n",
      "800/800 [==============================] - 0s 71us/sample - loss: 0.1313 - accuracy: 0.9675 - val_loss: 0.1575 - val_accuracy: 0.9400\n"
     ]
    }
   ],
   "source": [
    "input_shape = (2048,)\n",
    "num_classes = 4\n",
    "fnn_model = small_FNN.build(4)\n",
    "\n",
    "# hyperparams should be a tuple of: INIT_LR, EPOCHS, BS\n",
    "hyperparams = (0.001, 50, 32)\n",
    "H_sq_FNN, sq_FNN_model = train_model(fnn_model, Xsq_train_emb, ysq_train,\n",
    "                                     Xsq_test_emb, ysq_test, num_classes, input_shape, hyperparams)"
   ]
  },
  {
   "cell_type": "markdown",
   "metadata": {
    "colab_type": "text",
    "id": "_CnhTWD1ZYQ7"
   },
   "source": [
    "## (b)  [Rayleigh-Bénard Convection](https://en.wikipedia.org/wiki/Rayleigh%E2%80%93B%C3%A9nard_convection)\n",
    "\n",
    "RB convection, in which a flow is heated from below and cooled  from  top,  is  one  of  the  paradigmatic  system  in  fluid  dynamics. When the temperature difference between the two plates (in dimensionless form Rayleigh number Ra) is beyond certain threshold, hot fluid tends to go up and cold fluid tends to go down, thus forming convection cells. What we supply here are the temperature snapshots from four different Ra, i.e., $Ra=10^{14}$ as `class0`,$Ra= 10^{13}$ as `class1`, $Ra= 10^{12}$ as `class2`,and $Ra= 10^{11}$ as `class3`.  The flow you see is highly turbulent; not only there are big convection cells but also lots of small vortices.  The original dataset  is  around  4000*2000.   We  have  already  downsampled  the  data into the zip file `fluid_org.zip`."
   ]
  },
  {
   "cell_type": "markdown",
   "metadata": {
    "colab_type": "text",
    "id": "EyHNtp3wZYQ8"
   },
   "source": [
    "### (1) Train the data in `fluid_org.zip` with inception.  Show that these images can be classified  into  different $Ra$ nicely  with  inception.  \n",
    "\n",
    "Take the length 2048 embeddings from the Inception model first. Then visualizing how the embeddings distribute using a two component PCA or two component T-SNE, whichever you prefer. Then use any of the previously learned method to train a classifier using the embeddings as input. **Note that T-SNE normally gives you better separation**"
   ]
  },
  {
   "cell_type": "code",
   "execution_count": 2,
   "metadata": {},
   "outputs": [
    {
     "ename": "NameError",
     "evalue": "name 'gc' is not defined",
     "output_type": "error",
     "traceback": [
      "\u001b[0;31m---------------------------------------------------------------------------\u001b[0m",
      "\u001b[0;31mNameError\u001b[0m                                 Traceback (most recent call last)",
      "\u001b[0;32m<ipython-input-2-3d6daf7cbe5d>\u001b[0m in \u001b[0;36m<module>\u001b[0;34m\u001b[0m\n\u001b[0;32m----> 1\u001b[0;31m \u001b[0mgc\u001b[0m\u001b[0;34m.\u001b[0m\u001b[0mcollect\u001b[0m\u001b[0;34m(\u001b[0m\u001b[0;34m)\u001b[0m\u001b[0;34m\u001b[0m\u001b[0;34m\u001b[0m\u001b[0m\n\u001b[0m\u001b[1;32m      2\u001b[0m \u001b[0mget_ipython\u001b[0m\u001b[0;34m(\u001b[0m\u001b[0;34m)\u001b[0m\u001b[0;34m.\u001b[0m\u001b[0mrun_line_magic\u001b[0m\u001b[0;34m(\u001b[0m\u001b[0;34m'reset'\u001b[0m\u001b[0;34m,\u001b[0m \u001b[0;34m'-f'\u001b[0m\u001b[0;34m)\u001b[0m\u001b[0;34m\u001b[0m\u001b[0;34m\u001b[0m\u001b[0m\n",
      "\u001b[0;31mNameError\u001b[0m: name 'gc' is not defined"
     ]
    }
   ],
   "source": [
    "gc.collect()\n",
    "%reset -f"
   ]
  },
  {
   "cell_type": "code",
   "execution_count": 1,
   "metadata": {},
   "outputs": [],
   "source": [
    "import numpy as np\n",
    "from numpy.random import rand\n",
    "import matplotlib.pyplot as plt\n",
    "\n",
    "import jax.numpy as jnp\n",
    "from jax import jit, vmap\n",
    "\n",
    "import tensorflow as tf\n",
    "import tensorflow_datasets as tfds\n",
    "import tensorflow.keras as keras\n",
    "\n",
    "import sklearn\n",
    "from sklearn.model_selection import train_test_split\n",
    "from sklearn.manifold import TSNE\n",
    "from sklearn.decomposition import PCA\n",
    "\n",
    "\n",
    "from tensorflow.keras.models import Sequential\n",
    "from tensorflow.keras.layers import BatchNormalization\n",
    "from tensorflow.keras.layers import Conv2D\n",
    "from tensorflow.keras.layers import MaxPooling2D\n",
    "from tensorflow.keras.layers import Activation\n",
    "from tensorflow.keras.layers import Flatten\n",
    "from tensorflow.keras.layers import Dropout\n",
    "from tensorflow.keras.layers import Dense\n",
    "from tensorflow.keras import optimizers\n",
    "\n",
    "import gc\n",
    "from numba import cuda"
   ]
  },
  {
   "cell_type": "code",
   "execution_count": 2,
   "metadata": {},
   "outputs": [
    {
     "data": {
      "text/plain": [
       "20"
      ]
     },
     "execution_count": 2,
     "metadata": {},
     "output_type": "execute_result"
    }
   ],
   "source": [
    "gc.collect()"
   ]
  },
  {
   "cell_type": "code",
   "execution_count": 3,
   "metadata": {
    "ExecuteTime": {
     "end_time": "2020-02-24T04:18:40.675119Z",
     "start_time": "2020-02-24T04:18:32.328259Z"
    },
    "colab": {},
    "colab_type": "code",
    "id": "skbbAOw8ZYQ9"
   },
   "outputs": [],
   "source": [
    "import os\n",
    "from PIL import Image\n",
    "\n",
    "with tf.device('/CPU:0'):\n",
    "    imgs = []\n",
    "    lbls = []\n",
    "    for file in os.listdir('./fluid_org/fluid_org/'):\n",
    "        imgs.append(np.array(Image.open('./fluid_org/fluid_org/'+file))/255)\n",
    "        lbls.append(int(file[-5]))"
   ]
  },
  {
   "cell_type": "code",
   "execution_count": 4,
   "metadata": {
    "ExecuteTime": {
     "end_time": "2020-02-24T04:19:30.816271Z",
     "start_time": "2020-02-24T04:19:26.835782Z"
    },
    "colab": {},
    "colab_type": "code",
    "id": "QStrmCBWZYRA"
   },
   "outputs": [],
   "source": [
    "imgs = np.array(imgs)\n",
    "lbls = np.array(lbls)"
   ]
  },
  {
   "cell_type": "code",
   "execution_count": 5,
   "metadata": {},
   "outputs": [
    {
     "data": {
      "text/plain": [
       "(751, 250, 500, 3)"
      ]
     },
     "execution_count": 5,
     "metadata": {},
     "output_type": "execute_result"
    }
   ],
   "source": [
    "imgs.shape"
   ]
  },
  {
   "cell_type": "markdown",
   "metadata": {},
   "source": [
    "Solution to (1):"
   ]
  },
  {
   "cell_type": "code",
   "execution_count": 6,
   "metadata": {},
   "outputs": [
    {
     "name": "stderr",
     "output_type": "stream",
     "text": [
      "/home/zack/anaconda3/envs/am216/lib/python3.7/site-packages/keras_applications/mobilenet_v2.py:294: UserWarning: `input_shape` is undefined or non-square, or `rows` is not in [96, 128, 160, 192, 224]. Weights for input shape (224, 224) will be loaded as the default.\n",
      "  warnings.warn('`input_shape` is undefined or non-square, '\n"
     ]
    }
   ],
   "source": [
    "with tf.device('/CPU:0'):\n",
    "    base_model_2 = keras.applications.MobileNetV2(include_top=False, \n",
    "                                                            weights='imagenet', \n",
    "                                                            input_shape=imgs[0].shape\n",
    "                                                            )\n",
    "\n",
    "    base_model_2.trainable = False"
   ]
  },
  {
   "cell_type": "code",
   "execution_count": 7,
   "metadata": {},
   "outputs": [],
   "source": [
    "global_avg_layer = keras.layers.GlobalAveragePooling2D()\n",
    "imgs_emb = global_avg_layer(base_model_2.predict(imgs))\n",
    "imgs_emb = imgs_emb.numpy()/imgs_emb.numpy().max()"
   ]
  },
  {
   "cell_type": "code",
   "execution_count": 8,
   "metadata": {},
   "outputs": [
    {
     "data": {
      "text/plain": [
       "(751, 1280)"
      ]
     },
     "execution_count": 8,
     "metadata": {},
     "output_type": "execute_result"
    }
   ],
   "source": [
    "imgs_emb.shape"
   ]
  },
  {
   "cell_type": "code",
   "execution_count": 9,
   "metadata": {},
   "outputs": [],
   "source": [
    "tsne = TSNE(n_components=2)\n",
    "pca = PCA(n_components=2)\n",
    "tsne_img_emb = tsne.fit_transform(imgs_emb)\n",
    "pca_img_emb = pca.fit_transform(imgs_emb)"
   ]
  },
  {
   "cell_type": "code",
   "execution_count": 10,
   "metadata": {},
   "outputs": [
    {
     "data": {
      "image/png": "[encoded data removed]",
      "text/plain": [
       "<Figure size 432x288 with 1 Axes>"
      ]
     },
     "metadata": {
      "needs_background": "light"
     },
     "output_type": "display_data"
    }
   ],
   "source": [
    "for i in range(2):\n",
    "    plt.plot(tsne_img_emb.transpose()[0][lbls==i],tsne_img_emb.transpose()[1][lbls==i],'.',markersize=12)\n",
    "plt.title(\"TSNE\")\n",
    "plt.show()"
   ]
  },
  {
   "cell_type": "code",
   "execution_count": 11,
   "metadata": {},
   "outputs": [
    {
     "data": {
      "image/png": "[encoded data removed]",
      "text/plain": [
       "<Figure size 432x288 with 1 Axes>"
      ]
     },
     "metadata": {
      "needs_background": "light"
     },
     "output_type": "display_data"
    }
   ],
   "source": [
    "for i in range(2):\n",
    "    plt.plot(pca_img_emb.transpose()[0][lbls==i],pca_img_emb.transpose()[1][lbls==i],'.',markersize=12)\n",
    "plt.title(\"PCA\")\n",
    "plt.show()"
   ]
  },
  {
   "cell_type": "markdown",
   "metadata": {
    "colab_type": "text",
    "id": "n3Klki-zZYRb"
   },
   "source": [
    "### (2) For advanced use of trainsfer learning from the pre-trained models such as fine-tuning, we need to do the transfer learning in-place, by building a network consists of the Inception and your classifier layers. \n",
    "Freeze the part you take from Inception, train\n",
    "the model and report the accuracy. Then do the fine-tuning. Report\n",
    "how much increase of accuracy you can manage to get. Fine tuning\n",
    "by making the top few layer of the Inception model trainable instead\n",
    "of freezing all the layers. Due to the slowness of training, unleash the\n",
    "layers one by one. Make comments about how the accuracy change. It is\n",
    "highly recommended that you train this on Google Colab with the GPU\n",
    "activated."
   ]
  },
  {
   "cell_type": "markdown",
   "metadata": {},
   "source": [
    "Solution to (2):"
   ]
  },
  {
   "cell_type": "code",
   "execution_count": 12,
   "metadata": {},
   "outputs": [],
   "source": [
    "def train_model_2(input_model, train_data, train_lbls, test_data, \n",
    "                test_lbls, num_classes, input_shape, hyperparams):\n",
    "    # Ensure data is shaped properly, assumes channels last set up\n",
    "    x_train = train_data\n",
    "    x_test = test_data\n",
    "    \n",
    "    # Create categorical labels\n",
    "    y_train = keras.utils.to_categorical(train_lbls, num_classes)\n",
    "    y_test = keras.utils.to_categorical(test_lbls, num_classes)\n",
    "    \n",
    "    # Set hyperparameters\n",
    "    INIT_LR = hyperparams[0]# learning rate\n",
    "    EPOCHS = hyperparams[1] # number of epochs\n",
    "    BS = hyperparams[2] # batch size\n",
    "    OPT = tf.keras.optimizers.Adagrad(lr=INIT_LR) # optimizing function\n",
    "    \n",
    "    model = input_model\n",
    "    \n",
    "    # Compile the model\n",
    "    model.compile(loss='categorical_crossentropy',optimizer=OPT, metrics=['accuracy'])\n",
    "    \n",
    "    \n",
    "    H = model.fit(x_train, y_train, validation_data=(x_test, y_test), epochs=EPOCHS,\n",
    "                  batch_size=BS)\n",
    "    \n",
    "    return H, model"
   ]
  },
  {
   "cell_type": "code",
   "execution_count": 13,
   "metadata": {},
   "outputs": [],
   "source": [
    "class small_FNN:\n",
    "    def __init__(self):\n",
    "        model = self\n",
    "    \n",
    "    @staticmethod\n",
    "    def build(num_classes, channels_first=False):\n",
    "        model = tf.keras.Sequential()\n",
    "        model.add(tf.keras.layers.Dense(612, activation='relu'))\n",
    "        model.add(tf.keras.layers.Dropout(0.5))\n",
    "        model.add(tf.keras.layers.Dense(32, activation='relu'))\n",
    "        model.add(tf.keras.layers.Dropout(0.25))\n",
    "        model.add(tf.keras.layers.BatchNormalization())\n",
    "        model.add(tf.keras.layers.Dense(num_classes, activation='softmax'))\n",
    "        \n",
    "        return model\n",
    "    \n",
    "    def get_layers(num_classes):\n",
    "        layers = [\n",
    "        tf.keras.layers.Dense(612, activation='relu'),\n",
    "        tf.keras.layers.Dropout(0.5),\n",
    "        tf.keras.layers.Dense(32, activation='relu'),\n",
    "        tf.keras.layers.Dropout(0.25),\n",
    "        tf.keras.layers.BatchNormalization(),\n",
    "        tf.keras.layers.Dense(num_classes, activation='softmax')\n",
    "        ]\n",
    "        return layers"
   ]
  },
  {
   "cell_type": "code",
   "execution_count": 14,
   "metadata": {},
   "outputs": [],
   "source": [
    "# Create the full model\n",
    "trainable_model = small_FNN.get_layers(4)\n",
    "layer_list = [base_model_2, global_avg_layer]+trainable_model\n",
    "\n",
    "model = tf.keras.Sequential(layer_list)"
   ]
  },
  {
   "cell_type": "code",
   "execution_count": 15,
   "metadata": {},
   "outputs": [
    {
     "name": "stdout",
     "output_type": "stream",
     "text": [
      "Model: \"sequential\"\n",
      "_________________________________________________________________\n",
      "Layer (type)                 Output Shape              Param #   \n",
      "=================================================================\n",
      "mobilenetv2_1.00_224 (Model) (None, 8, 16, 1280)       2257984   \n",
      "_________________________________________________________________\n",
      "global_average_pooling2d (Gl (None, 1280)              0         \n",
      "_________________________________________________________________\n",
      "dense (Dense)                (None, 612)               783972    \n",
      "_________________________________________________________________\n",
      "dropout (Dropout)            (None, 612)               0         \n",
      "_________________________________________________________________\n",
      "dense_1 (Dense)              (None, 32)                19616     \n",
      "_________________________________________________________________\n",
      "dropout_1 (Dropout)          (None, 32)                0         \n",
      "_________________________________________________________________\n",
      "batch_normalization (BatchNo (None, 32)                128       \n",
      "_________________________________________________________________\n",
      "dense_2 (Dense)              (None, 4)                 132       \n",
      "=================================================================\n",
      "Total params: 3,061,832\n",
      "Trainable params: 803,784\n",
      "Non-trainable params: 2,258,048\n",
      "_________________________________________________________________\n"
     ]
    }
   ],
   "source": [
    "# Look at the model\n",
    "model.summary()"
   ]
  },
  {
   "cell_type": "code",
   "execution_count": 16,
   "metadata": {},
   "outputs": [],
   "source": [
    "# Create train/test splits\n",
    "train_imgs, test_imgs, train_lbls, test_lbls = train_test_split(imgs, lbls, test_size=0.2, random_state=0)"
   ]
  },
  {
   "cell_type": "code",
   "execution_count": 17,
   "metadata": {},
   "outputs": [
    {
     "name": "stdout",
     "output_type": "stream",
     "text": [
      "Train on 600 samples, validate on 151 samples\n",
      "Epoch 1/20\n",
      "600/600 [==============================] - 8s 13ms/sample - loss: 0.9536 - accuracy: 0.6250 - val_loss: 1.1444 - val_accuracy: 0.6689\n",
      "Epoch 2/20\n",
      "600/600 [==============================] - 4s 7ms/sample - loss: 0.3698 - accuracy: 0.8750 - val_loss: 1.0900 - val_accuracy: 0.6755\n",
      "Epoch 3/20\n",
      "600/600 [==============================] - 4s 7ms/sample - loss: 0.2355 - accuracy: 0.9467 - val_loss: 1.0448 - val_accuracy: 0.6623\n",
      "Epoch 4/20\n",
      "600/600 [==============================] - 4s 7ms/sample - loss: 0.1649 - accuracy: 0.9683 - val_loss: 1.0135 - val_accuracy: 0.7351\n",
      "Epoch 5/20\n",
      "600/600 [==============================] - 4s 7ms/sample - loss: 0.1430 - accuracy: 0.9800 - val_loss: 1.0071 - val_accuracy: 0.7086\n",
      "Epoch 6/20\n",
      "600/600 [==============================] - 4s 7ms/sample - loss: 0.1106 - accuracy: 0.9900 - val_loss: 0.9666 - val_accuracy: 0.7616\n",
      "Epoch 7/20\n",
      "600/600 [==============================] - 4s 7ms/sample - loss: 0.0984 - accuracy: 0.9950 - val_loss: 0.9491 - val_accuracy: 0.7550\n",
      "Epoch 8/20\n",
      "600/600 [==============================] - 4s 7ms/sample - loss: 0.1047 - accuracy: 0.9867 - val_loss: 0.9802 - val_accuracy: 0.5960\n",
      "Epoch 9/20\n",
      "600/600 [==============================] - 4s 7ms/sample - loss: 0.0887 - accuracy: 0.9933 - val_loss: 0.9489 - val_accuracy: 0.6490\n",
      "Epoch 10/20\n",
      "600/600 [==============================] - 4s 7ms/sample - loss: 0.0771 - accuracy: 0.9900 - val_loss: 0.9676 - val_accuracy: 0.6291\n",
      "Epoch 11/20\n",
      "600/600 [==============================] - 4s 7ms/sample - loss: 0.0605 - accuracy: 0.9967 - val_loss: 0.9575 - val_accuracy: 0.6026\n",
      "Epoch 12/20\n",
      "600/600 [==============================] - 4s 7ms/sample - loss: 0.0664 - accuracy: 0.9950 - val_loss: 0.9617 - val_accuracy: 0.5430\n",
      "Epoch 13/20\n",
      "600/600 [==============================] - 4s 7ms/sample - loss: 0.0787 - accuracy: 0.9900 - val_loss: 0.9394 - val_accuracy: 0.5629\n",
      "Epoch 14/20\n",
      "600/600 [==============================] - 4s 7ms/sample - loss: 0.0571 - accuracy: 0.9950 - val_loss: 0.9281 - val_accuracy: 0.5497\n",
      "Epoch 15/20\n",
      "600/600 [==============================] - 4s 7ms/sample - loss: 0.0538 - accuracy: 0.9983 - val_loss: 0.9219 - val_accuracy: 0.5563\n",
      "Epoch 16/20\n",
      "600/600 [==============================] - 4s 7ms/sample - loss: 0.0564 - accuracy: 0.9950 - val_loss: 0.8826 - val_accuracy: 0.6291\n",
      "Epoch 17/20\n",
      "600/600 [==============================] - 4s 7ms/sample - loss: 0.0598 - accuracy: 0.9917 - val_loss: 0.8553 - val_accuracy: 0.6954\n",
      "Epoch 18/20\n",
      "600/600 [==============================] - 4s 7ms/sample - loss: 0.0509 - accuracy: 0.9967 - val_loss: 0.8917 - val_accuracy: 0.6026\n",
      "Epoch 19/20\n",
      "600/600 [==============================] - 4s 7ms/sample - loss: 0.0523 - accuracy: 0.9967 - val_loss: 0.9299 - val_accuracy: 0.5828\n",
      "Epoch 20/20\n",
      "600/600 [==============================] - 4s 7ms/sample - loss: 0.0531 - accuracy: 0.9967 - val_loss: 0.9191 - val_accuracy: 0.5629\n"
     ]
    }
   ],
   "source": [
    "hyperparams = (0.01, 20, 64)\n",
    "H, trained_model = train_model_2(model, train_imgs, train_lbls, test_imgs, test_lbls, 4, (250, 500, 3), hyperparams)"
   ]
  },
  {
   "cell_type": "markdown",
   "metadata": {
    "colab_type": "text",
    "id": "PuQscq_aZYRk"
   },
   "source": [
    "### (3) Explore the potential of transfer learning on cropped data `fluid-crop`, which are randomly choosen regions of 100*100 pixels from each original 4000*2000 pictures, i.e.,just around 1% of the original picture! \n",
    "You can use either method you use in (1) or (2)."
   ]
  },
  {
   "cell_type": "markdown",
   "metadata": {},
   "source": [
    "Solution to (3):"
   ]
  },
  {
   "cell_type": "code",
   "execution_count": 45,
   "metadata": {},
   "outputs": [],
   "source": [
    "gc.collect()\n",
    "%reset -f"
   ]
  },
  {
   "cell_type": "code",
   "execution_count": 46,
   "metadata": {},
   "outputs": [],
   "source": [
    "import numpy as np\n",
    "from numpy.random import rand\n",
    "import matplotlib.pyplot as plt\n",
    "\n",
    "import jax.numpy as jnp\n",
    "from jax import jit, vmap\n",
    "\n",
    "import tensorflow as tf\n",
    "import tensorflow_datasets as tfds\n",
    "import tensorflow.keras as keras\n",
    "\n",
    "import sklearn\n",
    "from sklearn.model_selection import train_test_split\n",
    "from sklearn.manifold import TSNE\n",
    "from sklearn.decomposition import PCA\n",
    "\n",
    "\n",
    "from tensorflow.keras.models import Sequential\n",
    "from tensorflow.keras.layers import BatchNormalization\n",
    "from tensorflow.keras.layers import Conv2D\n",
    "from tensorflow.keras.layers import MaxPooling2D\n",
    "from tensorflow.keras.layers import Activation\n",
    "from tensorflow.keras.layers import Flatten\n",
    "from tensorflow.keras.layers import Dropout\n",
    "from tensorflow.keras.layers import Dense\n",
    "from tensorflow.keras import optimizers\n",
    "\n",
    "import gc\n",
    "from numba import cuda"
   ]
  },
  {
   "cell_type": "code",
   "execution_count": 2,
   "metadata": {},
   "outputs": [
    {
     "data": {
      "text/plain": [
       "20"
      ]
     },
     "execution_count": 2,
     "metadata": {},
     "output_type": "execute_result"
    }
   ],
   "source": [
    "gc.collect()"
   ]
  },
  {
   "cell_type": "code",
   "execution_count": 47,
   "metadata": {},
   "outputs": [],
   "source": [
    "import os\n",
    "from PIL import Image\n",
    "\n",
    "with tf.device('/CPU:0'):\n",
    "    imgs = []\n",
    "    lbls = []\n",
    "    for file in os.listdir('./fluid_crop/fluid_crop/'):\n",
    "        imgs.append(np.array(Image.open('./fluid_org/fluid_org/'+file))/255)\n",
    "        lbls.append(int(file[-5]))"
   ]
  },
  {
   "cell_type": "code",
   "execution_count": 48,
   "metadata": {},
   "outputs": [],
   "source": [
    "imgs = np.array(imgs)\n",
    "lbls = np.array(lbls)"
   ]
  },
  {
   "cell_type": "code",
   "execution_count": 49,
   "metadata": {},
   "outputs": [
    {
     "name": "stderr",
     "output_type": "stream",
     "text": [
      "/home/zack/anaconda3/envs/am216/lib/python3.7/site-packages/keras_applications/mobilenet_v2.py:294: UserWarning: `input_shape` is undefined or non-square, or `rows` is not in [96, 128, 160, 192, 224]. Weights for input shape (224, 224) will be loaded as the default.\n",
      "  warnings.warn('`input_shape` is undefined or non-square, '\n"
     ]
    }
   ],
   "source": [
    "with tf.device('/CPU:0'):\n",
    "    base_model_2 = keras.applications.MobileNetV2(include_top=False, \n",
    "                                                            weights='imagenet', \n",
    "                                                            input_shape=imgs[0].shape\n",
    "                                                            )\n",
    "\n",
    "    base_model_2.trainable = False"
   ]
  },
  {
   "cell_type": "code",
   "execution_count": 50,
   "metadata": {},
   "outputs": [],
   "source": [
    "global_avg_layer = keras.layers.GlobalAveragePooling2D()\n",
    "imgs_emb = global_avg_layer(base_model_2.predict(imgs))\n",
    "imgs_emb = imgs_emb.numpy()/imgs_emb.numpy().max()"
   ]
  },
  {
   "cell_type": "code",
   "execution_count": 51,
   "metadata": {},
   "outputs": [],
   "source": [
    "class small_FNN:\n",
    "    def __init__(self):\n",
    "        model = self\n",
    "    \n",
    "    @staticmethod\n",
    "    def build(num_classes, channels_first=False):\n",
    "        model = tf.keras.Sequential()\n",
    "        model.add(tf.keras.layers.Dense(612, activation='relu'))\n",
    "        model.add(tf.keras.layers.Dropout(0.5))\n",
    "        model.add(tf.keras.layers.Dense(32, activation='relu'))\n",
    "        model.add(tf.keras.layers.BatchNormalization())\n",
    "        model.add(tf.keras.layers.Dense(num_classes, activation='softmax'))\n",
    "        \n",
    "        return model\n",
    "    \n",
    "    def get_layers():\n",
    "        layers = [\n",
    "        tf.keras.layers.Dense(612, activation='relu'),\n",
    "        tf.keras.layers.Dropout(0.5),\n",
    "        tf.keras.layers.Dense(32, activation='relu'),\n",
    "        tf.keras.layers.BatchNormalization(),\n",
    "        tf.keras.layers.Dense(num_classes, activation='softmax')\n",
    "        ]\n",
    "        return layers"
   ]
  },
  {
   "cell_type": "code",
   "execution_count": 52,
   "metadata": {},
   "outputs": [],
   "source": [
    "def train_model(input_model, train_data, train_lbls, test_data, test_lbls, \n",
    "                          num_classes, input_shape, hyperparams):\n",
    "    x_train = train_data\n",
    "    x_test = test_data\n",
    "    \n",
    "    # Create categorical labels\n",
    "    y_train = keras.utils.to_categorical(train_lbls, num_classes)\n",
    "    y_test = keras.utils.to_categorical(test_lbls, num_classes)\n",
    "    \n",
    "    # Instantiate the model\n",
    "    model = input_model\n",
    "    \n",
    "    # Set hyperparameters\n",
    "    INIT_LR = hyperparams[0]# learning rate\n",
    "    EPOCHS = hyperparams[1] # number of epochs\n",
    "    BS = hyperparams[2] # batch size\n",
    "    OPT = tf.keras.optimizers.Adagrad(lr=INIT_LR) # optimizing function\n",
    "    \n",
    "    # Compile the model\n",
    "    model.compile(loss='categorical_crossentropy', optimizer=OPT, metrics=['accuracy'])\n",
    "    \n",
    "    # Train the model\n",
    "    H = model.fit(x_train, y_train, validation_data=(x_test, y_test), epochs=EPOCHS,\n",
    "                  batch_size=BS)\n",
    "    \n",
    "    return H, model"
   ]
  },
  {
   "cell_type": "code",
   "execution_count": 53,
   "metadata": {},
   "outputs": [],
   "source": [
    "# Create train/test splits\n",
    "train_imgs, test_imgs, train_lbls, test_lbls = train_test_split(imgs_emb, lbls, test_size=0.2, random_state=0)"
   ]
  },
  {
   "cell_type": "code",
   "execution_count": 54,
   "metadata": {},
   "outputs": [
    {
     "name": "stdout",
     "output_type": "stream",
     "text": [
      "Train on 600 samples, validate on 151 samples\n",
      "Epoch 1/25\n",
      "600/600 [==============================] - 0s 634us/sample - loss: 0.5989 - accuracy: 0.7850 - val_loss: 1.0753 - val_accuracy: 0.9404\n",
      "Epoch 2/25\n",
      "600/600 [==============================] - 0s 79us/sample - loss: 0.1713 - accuracy: 0.9750 - val_loss: 1.0083 - val_accuracy: 0.9868\n",
      "Epoch 3/25\n",
      "600/600 [==============================] - 0s 81us/sample - loss: 0.1131 - accuracy: 0.9917 - val_loss: 0.9198 - val_accuracy: 0.9868\n",
      "Epoch 4/25\n",
      "600/600 [==============================] - 0s 77us/sample - loss: 0.0878 - accuracy: 0.9950 - val_loss: 0.8413 - val_accuracy: 1.0000\n",
      "Epoch 5/25\n",
      "600/600 [==============================] - 0s 79us/sample - loss: 0.0686 - accuracy: 0.9967 - val_loss: 0.7632 - val_accuracy: 1.0000\n",
      "Epoch 6/25\n",
      "600/600 [==============================] - 0s 79us/sample - loss: 0.0571 - accuracy: 0.9967 - val_loss: 0.6827 - val_accuracy: 1.0000\n",
      "Epoch 7/25\n",
      "600/600 [==============================] - 0s 79us/sample - loss: 0.0572 - accuracy: 0.9950 - val_loss: 0.6017 - val_accuracy: 1.0000\n",
      "Epoch 8/25\n",
      "600/600 [==============================] - 0s 78us/sample - loss: 0.0488 - accuracy: 0.9950 - val_loss: 0.5257 - val_accuracy: 1.0000\n",
      "Epoch 9/25\n",
      "600/600 [==============================] - 0s 81us/sample - loss: 0.0534 - accuracy: 0.9933 - val_loss: 0.4598 - val_accuracy: 1.0000\n",
      "Epoch 10/25\n",
      "600/600 [==============================] - 0s 84us/sample - loss: 0.0419 - accuracy: 0.9950 - val_loss: 0.3888 - val_accuracy: 1.0000\n",
      "Epoch 11/25\n",
      "600/600 [==============================] - 0s 86us/sample - loss: 0.0438 - accuracy: 0.9933 - val_loss: 0.3259 - val_accuracy: 1.0000\n",
      "Epoch 12/25\n",
      "600/600 [==============================] - 0s 84us/sample - loss: 0.0329 - accuracy: 0.9967 - val_loss: 0.2623 - val_accuracy: 1.0000\n",
      "Epoch 13/25\n",
      "600/600 [==============================] - ETA: 0s - loss: 0.0311 - accuracy: 1.00 - 0s 79us/sample - loss: 0.0307 - accuracy: 0.9983 - val_loss: 0.2146 - val_accuracy: 1.0000\n",
      "Epoch 14/25\n",
      "600/600 [==============================] - 0s 88us/sample - loss: 0.0276 - accuracy: 1.0000 - val_loss: 0.1734 - val_accuracy: 1.0000\n",
      "Epoch 15/25\n",
      "600/600 [==============================] - 0s 83us/sample - loss: 0.0291 - accuracy: 0.9983 - val_loss: 0.1344 - val_accuracy: 1.0000\n",
      "Epoch 16/25\n",
      "600/600 [==============================] - 0s 81us/sample - loss: 0.0302 - accuracy: 0.9983 - val_loss: 0.1015 - val_accuracy: 1.0000\n",
      "Epoch 17/25\n",
      "600/600 [==============================] - 0s 79us/sample - loss: 0.0359 - accuracy: 0.9950 - val_loss: 0.0868 - val_accuracy: 1.0000\n",
      "Epoch 18/25\n",
      "600/600 [==============================] - 0s 99us/sample - loss: 0.0254 - accuracy: 1.0000 - val_loss: 0.0612 - val_accuracy: 1.0000\n",
      "Epoch 19/25\n",
      "600/600 [==============================] - 0s 80us/sample - loss: 0.0329 - accuracy: 0.9950 - val_loss: 0.0488 - val_accuracy: 1.0000\n",
      "Epoch 20/25\n",
      "600/600 [==============================] - 0s 80us/sample - loss: 0.0184 - accuracy: 1.0000 - val_loss: 0.0332 - val_accuracy: 1.0000\n",
      "Epoch 21/25\n",
      "600/600 [==============================] - 0s 79us/sample - loss: 0.0203 - accuracy: 1.0000 - val_loss: 0.0244 - val_accuracy: 1.0000\n",
      "Epoch 22/25\n",
      "600/600 [==============================] - 0s 80us/sample - loss: 0.0183 - accuracy: 1.0000 - val_loss: 0.0190 - val_accuracy: 1.0000\n",
      "Epoch 23/25\n",
      "600/600 [==============================] - 0s 80us/sample - loss: 0.0248 - accuracy: 0.9983 - val_loss: 0.0143 - val_accuracy: 1.0000\n",
      "Epoch 24/25\n",
      "600/600 [==============================] - 0s 80us/sample - loss: 0.0197 - accuracy: 0.9983 - val_loss: 0.0117 - val_accuracy: 1.0000\n",
      "Epoch 25/25\n",
      "600/600 [==============================] - 0s 76us/sample - loss: 0.0213 - accuracy: 0.9983 - val_loss: 0.0095 - val_accuracy: 1.0000\n"
     ]
    }
   ],
   "source": [
    "input_shape = (1280,)\n",
    "num_classes = 4\n",
    "fnn_model = small_FNN.build(num_classes=num_classes)\n",
    "\n",
    "# hyperparams should be a tuple of: INIT_LR, EPOCHS, BS\n",
    "hyperparams = (0.01, 25, 32)\n",
    "H_3, model_3 = train_model(fnn_model, train_imgs, train_lbls,\n",
    "                                     test_imgs, test_lbls, 4, input_shape, hyperparams)"
   ]
  },
  {
   "cell_type": "markdown",
   "metadata": {
    "colab_type": "text",
    "id": "Hzdh9wTPZYRk"
   },
   "source": [
    "### (4) Build your own classifier for (2) and (3) without using Inception. Compare the performance of your own classifier with the result in (2) and (3)"
   ]
  },
  {
   "cell_type": "markdown",
   "metadata": {},
   "source": [
    "Solution to (4):"
   ]
  },
  {
   "cell_type": "code",
   "execution_count": 1,
   "metadata": {},
   "outputs": [
    {
     "ename": "NameError",
     "evalue": "name 'gc' is not defined",
     "output_type": "error",
     "traceback": [
      "\u001b[0;31m---------------------------------------------------------------------------\u001b[0m",
      "\u001b[0;31mNameError\u001b[0m                                 Traceback (most recent call last)",
      "\u001b[0;32m<ipython-input-1-3d6daf7cbe5d>\u001b[0m in \u001b[0;36m<module>\u001b[0;34m\u001b[0m\n\u001b[0;32m----> 1\u001b[0;31m \u001b[0mgc\u001b[0m\u001b[0;34m.\u001b[0m\u001b[0mcollect\u001b[0m\u001b[0;34m(\u001b[0m\u001b[0;34m)\u001b[0m\u001b[0;34m\u001b[0m\u001b[0;34m\u001b[0m\u001b[0m\n\u001b[0m\u001b[1;32m      2\u001b[0m \u001b[0mget_ipython\u001b[0m\u001b[0;34m(\u001b[0m\u001b[0;34m)\u001b[0m\u001b[0;34m.\u001b[0m\u001b[0mrun_line_magic\u001b[0m\u001b[0;34m(\u001b[0m\u001b[0;34m'reset'\u001b[0m\u001b[0;34m,\u001b[0m \u001b[0;34m'-f'\u001b[0m\u001b[0;34m)\u001b[0m\u001b[0;34m\u001b[0m\u001b[0;34m\u001b[0m\u001b[0m\n",
      "\u001b[0;31mNameError\u001b[0m: name 'gc' is not defined"
     ]
    }
   ],
   "source": [
    "gc.collect()\n",
    "%reset -f"
   ]
  },
  {
   "cell_type": "code",
   "execution_count": 2,
   "metadata": {},
   "outputs": [],
   "source": [
    "import numpy as np\n",
    "from numpy.random import rand\n",
    "import matplotlib.pyplot as plt\n",
    "\n",
    "import jax.numpy as jnp\n",
    "from jax import jit, vmap\n",
    "\n",
    "import tensorflow as tf\n",
    "import tensorflow_datasets as tfds\n",
    "import tensorflow.keras as keras\n",
    "\n",
    "import sklearn\n",
    "from sklearn.model_selection import train_test_split\n",
    "from sklearn.manifold import TSNE\n",
    "from sklearn.decomposition import PCA\n",
    "\n",
    "\n",
    "from tensorflow.keras.models import Sequential\n",
    "from tensorflow.keras.layers import BatchNormalization\n",
    "from tensorflow.keras.layers import Conv2D\n",
    "from tensorflow.keras.layers import MaxPooling2D\n",
    "from tensorflow.keras.layers import Activation\n",
    "from tensorflow.keras.layers import Flatten\n",
    "from tensorflow.keras.layers import Dropout\n",
    "from tensorflow.keras.layers import Dense\n",
    "from tensorflow.keras import optimizers\n",
    "\n",
    "import gc\n",
    "from numba import cuda"
   ]
  },
  {
   "cell_type": "code",
   "execution_count": 3,
   "metadata": {},
   "outputs": [],
   "source": [
    "class SimpleCNN:\n",
    "    def __init__(self):\n",
    "        model = self\n",
    "    \n",
    "    @staticmethod\n",
    "    def build(width, height, depth, num_classes, channels_first=False):\n",
    "        # initialize the model along with the input shape to be\n",
    "        # \"channels last\" and the channels dimension itself\n",
    "        model = Sequential()\n",
    "        \n",
    "        if channels_first == False:\n",
    "            inputShape = (height, width, depth)\n",
    "            chanDim = -1\n",
    "        elif channels_first == True:\n",
    "            inputShape = (depth, height, width)\n",
    "            chanDim = 1\n",
    "            \n",
    "        model.add(Conv2D(32, (5, 5), activation='relu', input_shape=inputShape))\n",
    "        model.add(MaxPooling2D((2, 2)))\n",
    "        model.add(Conv2D(64, (3, 3), activation='relu'))\n",
    "        model.add(MaxPooling2D((2, 2)))\n",
    "        model.add(Conv2D(64, (3, 3), activation='relu'))\n",
    "        model.add(Dropout(0.25))\n",
    "                  \n",
    "        model.add(Flatten())\n",
    "        model.add(Dropout(0.4))\n",
    "        model.add(Dense(64, activation='relu'))\n",
    "        model.add(Dense(num_classes, activation='softmax'))\n",
    "\n",
    "        # return the constructed network architecture\n",
    "        return model"
   ]
  },
  {
   "cell_type": "code",
   "execution_count": 4,
   "metadata": {},
   "outputs": [],
   "source": [
    "def train_model(input_model, train_data, train_lbls, test_data, \n",
    "                test_lbls, num_classes, input_shape, hyperparams):\n",
    "    # Ensure data is shaped properly, assumes channels last set up\n",
    "    x_train = train_data\n",
    "    x_test = test_data\n",
    "    \n",
    "    # Create categorical labels\n",
    "    y_train = keras.utils.to_categorical(train_lbls, num_classes)\n",
    "    y_test = keras.utils.to_categorical(test_lbls, num_classes)\n",
    "     \n",
    "    # Set hyperparameters\n",
    "    INIT_LR = hyperparams[0]# learning rate\n",
    "    EPOCHS = hyperparams[1] # number of epochs\n",
    "    BS = hyperparams[2] # batch size\n",
    "    OPT = optimizers.Adagrad(lr=INIT_LR) # optimizing function\n",
    "    \n",
    "    model = input_model\n",
    "    \n",
    "    # Compile the model\n",
    "    model.compile(loss='categorical_crossentropy', optimizer=OPT, metrics=['accuracy'])\n",
    "    \n",
    "    \n",
    "    H = model.fit(x_train, y_train, validation_data=(x_test, y_test), epochs=EPOCHS,\n",
    "                  batch_size=BS)\n",
    "    \n",
    "    return H, model"
   ]
  },
  {
   "cell_type": "code",
   "execution_count": 5,
   "metadata": {},
   "outputs": [],
   "source": [
    "import os\n",
    "from PIL import Image\n",
    "\n",
    "with tf.device('/CPU:0'):\n",
    "    imgs_reg = []\n",
    "    lbls_reg = []\n",
    "    for file in os.listdir('./fluid_org/fluid_org/'):\n",
    "        imgs_reg.append(np.array(Image.open('./fluid_org/fluid_org/'+file))/255)\n",
    "        lbls_reg.append(int(file[-5]))"
   ]
  },
  {
   "cell_type": "code",
   "execution_count": 6,
   "metadata": {},
   "outputs": [],
   "source": [
    "imgs_reg = np.array(imgs_reg)\n",
    "lbls = np.array(lbls_reg)"
   ]
  },
  {
   "cell_type": "code",
   "execution_count": 7,
   "metadata": {},
   "outputs": [
    {
     "data": {
      "text/plain": [
       "(751, 250, 500, 3)"
      ]
     },
     "execution_count": 7,
     "metadata": {},
     "output_type": "execute_result"
    }
   ],
   "source": [
    "imgs_reg.shape"
   ]
  },
  {
   "cell_type": "code",
   "execution_count": 8,
   "metadata": {},
   "outputs": [],
   "source": [
    "# Create train/test splits\n",
    "x_train_reg, x_test_reg, y_train_reg, y_test_reg = train_test_split(imgs_reg, lbls_reg, test_size=0.2, random_state=0)"
   ]
  },
  {
   "cell_type": "code",
   "execution_count": 9,
   "metadata": {},
   "outputs": [
    {
     "name": "stdout",
     "output_type": "stream",
     "text": [
      "Train on 600 samples, validate on 151 samples\n",
      "Epoch 1/25\n",
      "600/600 [==============================] - 8s 13ms/sample - loss: 2.0621 - accuracy: 0.2350 - val_loss: 1.3806 - val_accuracy: 0.2715\n",
      "Epoch 2/25\n",
      "600/600 [==============================] - 4s 7ms/sample - loss: 1.3830 - accuracy: 0.2517 - val_loss: 1.3803 - val_accuracy: 0.2715\n",
      "Epoch 3/25\n",
      "600/600 [==============================] - 4s 7ms/sample - loss: 1.3751 - accuracy: 0.3333 - val_loss: 1.3987 - val_accuracy: 0.2384\n",
      "Epoch 4/25\n",
      "600/600 [==============================] - 4s 7ms/sample - loss: 1.3785 - accuracy: 0.3533 - val_loss: 1.3487 - val_accuracy: 0.2914\n",
      "Epoch 5/25\n",
      "600/600 [==============================] - 4s 7ms/sample - loss: 1.3776 - accuracy: 0.3283 - val_loss: 1.2797 - val_accuracy: 0.6225\n",
      "Epoch 6/25\n",
      "600/600 [==============================] - 4s 7ms/sample - loss: 1.5294 - accuracy: 0.4283 - val_loss: 1.3428 - val_accuracy: 0.5695\n",
      "Epoch 7/25\n",
      "600/600 [==============================] - 4s 7ms/sample - loss: 1.3164 - accuracy: 0.5500 - val_loss: 0.8112 - val_accuracy: 0.7881\n",
      "Epoch 8/25\n",
      "600/600 [==============================] - 4s 7ms/sample - loss: 1.0121 - accuracy: 0.6133 - val_loss: 0.4500 - val_accuracy: 0.9669\n",
      "Epoch 9/25\n",
      "600/600 [==============================] - 4s 7ms/sample - loss: 1.0819 - accuracy: 0.6817 - val_loss: 0.6895 - val_accuracy: 0.6954\n",
      "Epoch 10/25\n",
      "600/600 [==============================] - 4s 7ms/sample - loss: 0.4288 - accuracy: 0.8567 - val_loss: 0.2758 - val_accuracy: 0.8013\n",
      "Epoch 11/25\n",
      "600/600 [==============================] - 4s 7ms/sample - loss: 0.1083 - accuracy: 0.9683 - val_loss: 0.0442 - val_accuracy: 0.9934\n",
      "Epoch 12/25\n",
      "600/600 [==============================] - 4s 7ms/sample - loss: 0.0438 - accuracy: 0.9900 - val_loss: 0.0152 - val_accuracy: 1.0000\n",
      "Epoch 13/25\n",
      "600/600 [==============================] - 4s 7ms/sample - loss: 0.0093 - accuracy: 1.0000 - val_loss: 0.0073 - val_accuracy: 1.0000\n",
      "Epoch 14/25\n",
      "600/600 [==============================] - 4s 7ms/sample - loss: 0.0053 - accuracy: 1.0000 - val_loss: 0.0058 - val_accuracy: 1.0000\n",
      "Epoch 15/25\n",
      "600/600 [==============================] - 4s 7ms/sample - loss: 0.0042 - accuracy: 1.0000 - val_loss: 0.0037 - val_accuracy: 1.0000\n",
      "Epoch 16/25\n",
      "600/600 [==============================] - 4s 7ms/sample - loss: 0.0027 - accuracy: 1.0000 - val_loss: 0.0030 - val_accuracy: 1.0000\n",
      "Epoch 17/25\n",
      "600/600 [==============================] - 4s 7ms/sample - loss: 0.0024 - accuracy: 1.0000 - val_loss: 0.0023 - val_accuracy: 1.0000\n",
      "Epoch 18/25\n",
      "600/600 [==============================] - 4s 7ms/sample - loss: 0.0020 - accuracy: 1.0000 - val_loss: 0.0020 - val_accuracy: 1.0000\n",
      "Epoch 19/25\n",
      "600/600 [==============================] - 4s 7ms/sample - loss: 0.0015 - accuracy: 1.0000 - val_loss: 0.0017 - val_accuracy: 1.0000\n",
      "Epoch 20/25\n",
      "600/600 [==============================] - 4s 7ms/sample - loss: 0.0011 - accuracy: 1.0000 - val_loss: 0.0015 - val_accuracy: 1.0000\n",
      "Epoch 21/25\n",
      "600/600 [==============================] - 4s 7ms/sample - loss: 0.0011 - accuracy: 1.0000 - val_loss: 0.0013 - val_accuracy: 1.0000\n",
      "Epoch 22/25\n",
      "600/600 [==============================] - 4s 7ms/sample - loss: 0.0010 - accuracy: 1.0000 - val_loss: 0.0012 - val_accuracy: 1.0000\n",
      "Epoch 23/25\n",
      "600/600 [==============================] - 4s 7ms/sample - loss: 9.1481e-04 - accuracy: 1.0000 - val_loss: 0.0011 - val_accuracy: 1.0000\n",
      "Epoch 24/25\n",
      "600/600 [==============================] - 4s 7ms/sample - loss: 7.5602e-04 - accuracy: 1.0000 - val_loss: 0.0010 - val_accuracy: 1.0000\n",
      "Epoch 25/25\n",
      "600/600 [==============================] - 4s 7ms/sample - loss: 7.5659e-04 - accuracy: 1.0000 - val_loss: 9.6175e-04 - val_accuracy: 1.0000\n"
     ]
    }
   ],
   "source": [
    "input_shape = (500, 250, 3)\n",
    "num_classes = 4\n",
    "cnn_model = SimpleCNN.build(width=input_shape[0], height=input_shape[1], depth=input_shape[2],\n",
    "                   num_classes=num_classes)\n",
    "\n",
    "hyperparams = (0.01, 25, 64)\n",
    "H_reg, reg_model = train_model(cnn_model, x_train_reg, y_train_reg, x_test_reg, y_test_reg, num_classes, input_shape, hyperparams)"
   ]
  },
  {
   "cell_type": "markdown",
   "metadata": {
    "colab_type": "text",
    "id": "_xxmW9iPZYRl"
   },
   "source": [
    "### (5) Continue (3), construct two examples where a different layer's output is used as the embedding. There are over 300 layers in Inception. Pick one at around the 100th layer and one at around 200th layer. The exact layer you pick is based on your preference. Show the following.\n",
    "- (i) The distributions of the embeddings similar to what you've done in (1). Together with the result you get in (1), comment the similarity and difference between what you get using the three embedding layers.\n",
    "- (ii) What is the test accuracy of the three classifiers. What is the test accuracy of the three classifiers? For speeding up the training you can choose to get the embeddings first and put those into a classifier, as you did in (1)."
   ]
  },
  {
   "cell_type": "markdown",
   "metadata": {},
   "source": [
    "Solution to (5):"
   ]
  },
  {
   "cell_type": "code",
   "execution_count": null,
   "metadata": {},
   "outputs": [],
   "source": []
  },
  {
   "cell_type": "code",
   "execution_count": null,
   "metadata": {},
   "outputs": [],
   "source": []
  }
 ],
 "metadata": {
  "kernelspec": {
   "display_name": "Python 3",
   "language": "python",
   "name": "python3"
  },
  "language_info": {
   "codemirror_mode": {
    "name": "ipython",
    "version": 3
   },
   "file_extension": ".py",
   "mimetype": "text/x-python",
   "name": "python",
   "nbconvert_exporter": "python",
   "pygments_lexer": "ipython3",
   "version": "3.7.6"
  }
 },
 "nbformat": 4,
 "nbformat_minor": 4
}
