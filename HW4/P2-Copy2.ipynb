{
 "cells": [
  {
   "cell_type": "markdown",
   "metadata": {
    "colab_type": "text",
    "id": "KaOV8WHFZYQy"
   },
   "source": [
    "## Loading the Inception model from the [Applications of Keras](https://keras.io/applications/) or [Transfer learning with a pretrained ConvNet](https://www.tensorflow.org/tutorials/images/transfer_learning)\n",
    "Keras Applications are deep learning models that are made available alongside pre-trained weights. These models can be used for prediction, feature extraction, and fine-tuning.\n",
    "\n",
    "Weights are downloaded automatically when instantiating a model."
   ]
  },
  {
   "cell_type": "markdown",
   "metadata": {
    "colab_type": "text",
    "id": "mt8Ilz-KZYQ6"
   },
   "source": [
    "## (a) The Ising Model – try your show that the square lattice data can be trained perfectly using the embeddings of Inception.\n",
    "\n",
    "Get the embeddings first, then build a classifier"
   ]
  },
  {
   "cell_type": "markdown",
   "metadata": {},
   "source": [
    "Solution to (a):"
   ]
  },
  {
   "cell_type": "code",
   "execution_count": 10,
   "metadata": {},
   "outputs": [
    {
     "name": "stderr",
     "output_type": "stream",
     "text": [
      "Using TensorFlow backend.\n"
     ]
    }
   ],
   "source": [
    "import numpy as np\n",
    "from numpy.random import rand\n",
    "import matplotlib.pyplot as plt\n",
    "\n",
    "import jax.numpy as jnp\n",
    "from jax import jit, vmap\n",
    "\n",
    "import tensorflow as tf\n",
    "import tensorflow_datasets as tfds\n",
    "import tensorflow.keras as keras\n",
    "\n",
    "from sklearn.model_selection import train_test_split\n",
    "\n",
    "#import keras\n",
    "from keras.models import Sequential\n",
    "from keras.layers.normalization import BatchNormalization\n",
    "from keras.layers.convolutional import Conv2D\n",
    "from keras.layers.convolutional import MaxPooling2D\n",
    "from keras.layers.core import Activation\n",
    "from keras.layers.core import Flatten\n",
    "from keras.layers.core import Dropout\n",
    "from keras.layers.core import Dense\n",
    "from keras import optimizers"
   ]
  },
  {
   "cell_type": "code",
   "execution_count": 11,
   "metadata": {},
   "outputs": [],
   "source": [
    "tf.compat.v1.enable_eager_execution()"
   ]
  },
  {
   "cell_type": "code",
   "execution_count": 12,
   "metadata": {},
   "outputs": [],
   "source": [
    "# Import the data and shape it for training\n",
    "with tf.device('/CPU:0'):\n",
    "\n",
    "    N = 250\n",
    "    nx, ny = 32, 32\n",
    "\n",
    "    Xsq = np.ndarray((4*N,nx,ny,1))\n",
    "    ysq = np.ndarray(4*N)\n",
    "\n",
    "    for i in np.arange(N):\n",
    "        Xsq[i + 0*N] = np.loadtxt(\"./square_T1/square_T1/{:03d}\".format(i), delimiter=\",\").reshape(nx,ny,1)\n",
    "        ysq[i + 0*N] = 0\n",
    "        Xsq[i + 1*N] = np.loadtxt(\"./square_T2/square_T2/{:03d}\".format(i), delimiter=\",\").reshape(nx,ny,1)\n",
    "        ysq[i + 1*N] = 1\n",
    "        Xsq[i + 2*N] = np.loadtxt(\"./square_T3/square_T3/{:03d}\".format(i), delimiter=\",\").reshape(nx,ny,1)\n",
    "        ysq[i + 2*N] = 2\n",
    "        Xsq[i + 3*N] = np.loadtxt(\"./square_T4/square_T4/{:03d}\".format(i), delimiter=\",\").reshape(nx,ny,1)\n",
    "        ysq[i + 3*N] = 3\n",
    "\n",
    "    Xsq_train, Xsq_test, ysq_train, ysq_test = train_test_split(Xsq, ysq, test_size=0.2, random_state=0)\n",
    "    Xsq_train, Xsq_test = np.repeat(Xsq_train, 8, 1), np.repeat(Xsq_test, 8, 1)\n",
    "    Xsq_train, Xsq_test = np.repeat(Xsq_train, 8, 2), np.repeat(Xsq_test, 8, 2)\n",
    "    Xsq_train, Xsq_test = np.repeat(Xsq_train, 3, 3), np.repeat(Xsq_test, 3, 3)\n",
    "    Xsq_train, Xsq_test = tf.cast(Xsq_train, tf.float32), tf.cast(Xsq_test, tf.float32)"
   ]
  },
  {
   "cell_type": "code",
   "execution_count": 69,
   "metadata": {},
   "outputs": [],
   "source": [
    "# Get the inception model without last layer and disable training\n",
    "with tf.device('/CPU:0'):\n",
    "    base_model = keras.applications.inception_v3.InceptionV3(include_top=False, \n",
    "                                                            weights='imagenet', \n",
    "                                                            input_shape=Xsq_train[0].shape\n",
    "                                                            )\n",
    "\n",
    "    base_model.trainable = False"
   ]
  },
  {
   "cell_type": "code",
   "execution_count": 70,
   "metadata": {},
   "outputs": [],
   "source": [
    "# Get the embedded data\n",
    "global_avg_layer = keras.layers.GlobalAveragePooling2D()\n",
    "Xsq_train_emb, Xsq_test_emb = global_avg_layer(base_model.predict(Xsq_train)), global_avg_layer(base_model.predict(Xsq_test))\n",
    "#test = base_model(Xsq_train)"
   ]
  },
  {
   "cell_type": "code",
   "execution_count": 71,
   "metadata": {},
   "outputs": [
    {
     "data": {
      "text/plain": [
       "<tf.Tensor: shape=(800, 2048), dtype=float32, numpy=\n",
       "array([[6.8060863e-01, 7.3173773e-03, 0.0000000e+00, ..., 0.0000000e+00,\n",
       "        2.5865093e-01, 2.0735666e-01],\n",
       "       [3.8926208e-01, 1.3012396e-01, 9.8542706e-04, ..., 1.2677726e+00,\n",
       "        2.5907698e-01, 2.1452351e-02],\n",
       "       [1.8170083e-01, 1.6207559e-02, 7.5311237e-04, ..., 1.4652914e+00,\n",
       "        3.1413925e-01, 5.6133777e-01],\n",
       "       ...,\n",
       "       [2.0973858e-01, 0.0000000e+00, 0.0000000e+00, ..., 1.1741548e+00,\n",
       "        3.6734562e-02, 2.3487984e-01],\n",
       "       [7.4135566e-01, 0.0000000e+00, 0.0000000e+00, ..., 6.8261755e-01,\n",
       "        5.0442830e-02, 1.0479007e-02],\n",
       "       [8.2162106e-01, 0.0000000e+00, 0.0000000e+00, ..., 8.7034525e-03,\n",
       "        6.5520979e-02, 5.3103969e-02]], dtype=float32)>"
      ]
     },
     "execution_count": 71,
     "metadata": {},
     "output_type": "execute_result"
    }
   ],
   "source": [
    "Xsq_train_emb"
   ]
  },
  {
   "cell_type": "code",
   "execution_count": 72,
   "metadata": {},
   "outputs": [
    {
     "data": {
      "text/plain": [
       "array([[6.8060863e-01, 7.3173773e-03, 0.0000000e+00, ..., 0.0000000e+00,\n",
       "        2.5865093e-01, 2.0735666e-01],\n",
       "       [3.8926208e-01, 1.3012396e-01, 9.8542706e-04, ..., 1.2677726e+00,\n",
       "        2.5907698e-01, 2.1452351e-02],\n",
       "       [1.8170083e-01, 1.6207559e-02, 7.5311237e-04, ..., 1.4652914e+00,\n",
       "        3.1413925e-01, 5.6133777e-01],\n",
       "       ...,\n",
       "       [2.0973858e-01, 0.0000000e+00, 0.0000000e+00, ..., 1.1741548e+00,\n",
       "        3.6734562e-02, 2.3487984e-01],\n",
       "       [7.4135566e-01, 0.0000000e+00, 0.0000000e+00, ..., 6.8261755e-01,\n",
       "        5.0442830e-02, 1.0479007e-02],\n",
       "       [8.2162106e-01, 0.0000000e+00, 0.0000000e+00, ..., 8.7034525e-03,\n",
       "        6.5520979e-02, 5.3103969e-02]], dtype=float32)"
      ]
     },
     "execution_count": 72,
     "metadata": {},
     "output_type": "execute_result"
    }
   ],
   "source": [
    "# According to documentation, this should work for tensorflow version 2.x\n",
    "Xsq_train_emb.numpy()"
   ]
  },
  {
   "cell_type": "code",
   "execution_count": 73,
   "metadata": {},
   "outputs": [],
   "source": [
    "class classify_FNN:\n",
    "    def __init__(self):\n",
    "        model = self\n",
    "    \n",
    "    @staticmethod\n",
    "    def build(num_classes, channels_first=False):\n",
    "        model = tf.keras.Sequential()\n",
    "        model.add(tf.keras.layers.Dense(128, activation='relu'))\n",
    "        model.add(tf.keras.layers.Dropout(0.5))\n",
    "        model.add(tf.keras.layers.Dense(32, activation='relu'))\n",
    "        model.add(tf.keras.layers.BatchNormalization())\n",
    "        model.add(tf.keras.layers.Dense(num_classes, activation='softmax'))\n",
    "        \n",
    "        return model"
   ]
  },
  {
   "cell_type": "code",
   "execution_count": 74,
   "metadata": {},
   "outputs": [],
   "source": [
    "model = classify_FNN.build(num_classes=4)"
   ]
  },
  {
   "cell_type": "code",
   "execution_count": 75,
   "metadata": {},
   "outputs": [],
   "source": [
    "model = tf.keras.Sequential([\n",
    "    #tf.keras.layers.Flatten(input_shape=(2048, 1)),\n",
    "    tf.keras.layers.Dense(128, activation='relu'),\n",
    "    tf.keras.layers.Dropout(0.25),\n",
    "    tf.keras.layers.Dense(64, activation='relu'),\n",
    "    tf.keras.layers.Dense(4, activation='softmax')\n",
    "])\n"
   ]
  },
  {
   "cell_type": "code",
   "execution_count": 76,
   "metadata": {},
   "outputs": [],
   "source": [
    "model.compile(optimizer=tf.keras.optimizers.RMSprop(),\n",
    "              loss=tf.keras.losses.CategoricalCrossentropy(from_logits=True),\n",
    "              metrics=['accuracy'])\n"
   ]
  },
  {
   "cell_type": "code",
   "execution_count": 77,
   "metadata": {},
   "outputs": [],
   "source": [
    "# fix the labels\n",
    "y_train = keras.utils.to_categorical(ysq_train, 4)\n",
    "y_test = keras.utils.to_categorical(ysq_test, 4)"
   ]
  },
  {
   "cell_type": "code",
   "execution_count": 78,
   "metadata": {},
   "outputs": [
    {
     "name": "stdout",
     "output_type": "stream",
     "text": [
      "Train on 800 samples, validate on 200 samples\n",
      "Epoch 1/50\n",
      "800/800 [==============================] - 0s 430us/sample - loss: 1.0867 - accuracy: 0.6463 - val_loss: 0.9956 - val_accuracy: 0.7250\n",
      "Epoch 2/50\n",
      "800/800 [==============================] - 0s 43us/sample - loss: 0.8880 - accuracy: 0.8737 - val_loss: 0.8387 - val_accuracy: 0.9250\n",
      "Epoch 3/50\n",
      "800/800 [==============================] - 0s 43us/sample - loss: 0.8386 - accuracy: 0.9200 - val_loss: 0.8225 - val_accuracy: 0.9400\n",
      "Epoch 4/50\n",
      "800/800 [==============================] - 0s 42us/sample - loss: 0.8297 - accuracy: 0.9237 - val_loss: 0.8148 - val_accuracy: 0.9350\n",
      "Epoch 5/50\n",
      "800/800 [==============================] - 0s 45us/sample - loss: 0.8066 - accuracy: 0.9475 - val_loss: 0.8411 - val_accuracy: 0.9200\n",
      "Epoch 6/50\n",
      "800/800 [==============================] - 0s 48us/sample - loss: 0.8100 - accuracy: 0.9450 - val_loss: 0.8656 - val_accuracy: 0.8600\n",
      "Epoch 7/50\n",
      "800/800 [==============================] - 0s 47us/sample - loss: 0.7968 - accuracy: 0.9513 - val_loss: 0.8092 - val_accuracy: 0.9250\n",
      "Epoch 8/50\n",
      "800/800 [==============================] - 0s 42us/sample - loss: 0.7869 - accuracy: 0.9625 - val_loss: 0.7960 - val_accuracy: 0.9500\n",
      "Epoch 9/50\n",
      "800/800 [==============================] - 0s 43us/sample - loss: 0.7783 - accuracy: 0.9688 - val_loss: 0.8210 - val_accuracy: 0.9200\n",
      "Epoch 10/50\n",
      "800/800 [==============================] - 0s 55us/sample - loss: 0.7865 - accuracy: 0.9613 - val_loss: 0.8028 - val_accuracy: 0.9300\n",
      "Epoch 11/50\n",
      "800/800 [==============================] - 0s 43us/sample - loss: 0.7868 - accuracy: 0.9575 - val_loss: 0.8011 - val_accuracy: 0.9500\n",
      "Epoch 12/50\n",
      "800/800 [==============================] - 0s 42us/sample - loss: 0.7799 - accuracy: 0.9638 - val_loss: 0.8153 - val_accuracy: 0.9250\n",
      "Epoch 13/50\n",
      "800/800 [==============================] - 0s 45us/sample - loss: 0.7880 - accuracy: 0.9563 - val_loss: 0.8012 - val_accuracy: 0.9450\n",
      "Epoch 14/50\n",
      "800/800 [==============================] - 0s 43us/sample - loss: 0.7718 - accuracy: 0.9750 - val_loss: 0.7965 - val_accuracy: 0.9500\n",
      "Epoch 15/50\n",
      "800/800 [==============================] - 0s 47us/sample - loss: 0.7744 - accuracy: 0.9700 - val_loss: 0.7962 - val_accuracy: 0.9500\n",
      "Epoch 16/50\n",
      "800/800 [==============================] - 0s 45us/sample - loss: 0.7751 - accuracy: 0.9663 - val_loss: 0.7985 - val_accuracy: 0.9500\n",
      "Epoch 17/50\n",
      "800/800 [==============================] - 0s 43us/sample - loss: 0.7688 - accuracy: 0.9762 - val_loss: 0.8105 - val_accuracy: 0.9350\n",
      "Epoch 18/50\n",
      "800/800 [==============================] - 0s 47us/sample - loss: 0.7704 - accuracy: 0.9737 - val_loss: 0.7971 - val_accuracy: 0.9450\n",
      "Epoch 19/50\n",
      "800/800 [==============================] - 0s 46us/sample - loss: 0.7641 - accuracy: 0.9812 - val_loss: 0.8027 - val_accuracy: 0.9450\n",
      "Epoch 20/50\n",
      "800/800 [==============================] - 0s 44us/sample - loss: 0.7664 - accuracy: 0.9775 - val_loss: 0.8070 - val_accuracy: 0.9350\n",
      "Epoch 21/50\n",
      "800/800 [==============================] - 0s 46us/sample - loss: 0.7686 - accuracy: 0.9762 - val_loss: 0.8613 - val_accuracy: 0.8750\n",
      "Epoch 22/50\n",
      "800/800 [==============================] - 0s 44us/sample - loss: 0.7865 - accuracy: 0.9600 - val_loss: 0.7997 - val_accuracy: 0.9500\n",
      "Epoch 23/50\n",
      "800/800 [==============================] - 0s 44us/sample - loss: 0.7640 - accuracy: 0.9800 - val_loss: 0.8051 - val_accuracy: 0.9450\n",
      "Epoch 24/50\n",
      "800/800 [==============================] - 0s 45us/sample - loss: 0.7650 - accuracy: 0.9800 - val_loss: 0.8029 - val_accuracy: 0.9400\n",
      "Epoch 25/50\n",
      "800/800 [==============================] - 0s 47us/sample - loss: 0.7624 - accuracy: 0.9812 - val_loss: 0.8004 - val_accuracy: 0.9400\n",
      "Epoch 26/50\n",
      "800/800 [==============================] - 0s 44us/sample - loss: 0.7616 - accuracy: 0.9837 - val_loss: 0.8014 - val_accuracy: 0.9400\n",
      "Epoch 27/50\n",
      "800/800 [==============================] - 0s 43us/sample - loss: 0.7626 - accuracy: 0.9825 - val_loss: 0.8590 - val_accuracy: 0.8800\n",
      "Epoch 28/50\n",
      "800/800 [==============================] - 0s 44us/sample - loss: 0.7655 - accuracy: 0.9800 - val_loss: 0.8037 - val_accuracy: 0.9350\n",
      "Epoch 29/50\n",
      "800/800 [==============================] - 0s 41us/sample - loss: 0.7557 - accuracy: 0.9887 - val_loss: 0.8920 - val_accuracy: 0.8550\n",
      "Epoch 30/50\n",
      "800/800 [==============================] - 0s 43us/sample - loss: 0.7651 - accuracy: 0.9787 - val_loss: 0.8014 - val_accuracy: 0.9500\n",
      "Epoch 31/50\n",
      "800/800 [==============================] - 0s 44us/sample - loss: 0.7588 - accuracy: 0.9850 - val_loss: 0.7982 - val_accuracy: 0.9450\n",
      "Epoch 32/50\n",
      "800/800 [==============================] - 0s 44us/sample - loss: 0.7588 - accuracy: 0.9862 - val_loss: 0.8528 - val_accuracy: 0.8950\n",
      "Epoch 33/50\n",
      "800/800 [==============================] - 0s 45us/sample - loss: 0.7657 - accuracy: 0.9787 - val_loss: 0.8039 - val_accuracy: 0.9350\n",
      "Epoch 34/50\n",
      "800/800 [==============================] - 0s 44us/sample - loss: 0.7538 - accuracy: 0.9912 - val_loss: 0.8133 - val_accuracy: 0.9400\n",
      "Epoch 35/50\n",
      "800/800 [==============================] - 0s 42us/sample - loss: 0.7540 - accuracy: 0.9912 - val_loss: 0.8080 - val_accuracy: 0.9350\n",
      "Epoch 36/50\n",
      "800/800 [==============================] - 0s 42us/sample - loss: 0.7650 - accuracy: 0.9775 - val_loss: 0.8039 - val_accuracy: 0.9400\n",
      "Epoch 37/50\n",
      "800/800 [==============================] - 0s 44us/sample - loss: 0.7573 - accuracy: 0.9862 - val_loss: 0.8184 - val_accuracy: 0.9200\n",
      "Epoch 38/50\n",
      "800/800 [==============================] - 0s 47us/sample - loss: 0.7565 - accuracy: 0.9887 - val_loss: 0.8156 - val_accuracy: 0.9200\n",
      "Epoch 39/50\n",
      "800/800 [==============================] - 0s 43us/sample - loss: 0.7563 - accuracy: 0.9875 - val_loss: 0.8068 - val_accuracy: 0.9350\n",
      "Epoch 40/50\n",
      "800/800 [==============================] - 0s 42us/sample - loss: 0.7619 - accuracy: 0.9812 - val_loss: 0.8057 - val_accuracy: 0.9400\n",
      "Epoch 41/50\n",
      "800/800 [==============================] - 0s 45us/sample - loss: 0.7591 - accuracy: 0.9862 - val_loss: 0.8082 - val_accuracy: 0.9350\n",
      "Epoch 42/50\n",
      "800/800 [==============================] - 0s 41us/sample - loss: 0.7528 - accuracy: 0.9912 - val_loss: 0.8087 - val_accuracy: 0.9350\n",
      "Epoch 43/50\n",
      "800/800 [==============================] - 0s 43us/sample - loss: 0.7527 - accuracy: 0.9912 - val_loss: 0.8055 - val_accuracy: 0.9350\n",
      "Epoch 44/50\n",
      "800/800 [==============================] - 0s 42us/sample - loss: 0.7592 - accuracy: 0.9825 - val_loss: 0.8091 - val_accuracy: 0.9300\n",
      "Epoch 45/50\n",
      "800/800 [==============================] - 0s 44us/sample - loss: 0.7546 - accuracy: 0.9887 - val_loss: 0.8116 - val_accuracy: 0.9300\n",
      "Epoch 46/50\n",
      "800/800 [==============================] - 0s 41us/sample - loss: 0.7552 - accuracy: 0.9887 - val_loss: 0.8063 - val_accuracy: 0.9300\n",
      "Epoch 47/50\n",
      "800/800 [==============================] - 0s 43us/sample - loss: 0.7582 - accuracy: 0.9862 - val_loss: 0.8031 - val_accuracy: 0.9400\n",
      "Epoch 48/50\n",
      "800/800 [==============================] - 0s 43us/sample - loss: 0.7576 - accuracy: 0.9850 - val_loss: 0.8112 - val_accuracy: 0.9350\n",
      "Epoch 49/50\n",
      "800/800 [==============================] - 0s 42us/sample - loss: 0.7591 - accuracy: 0.9850 - val_loss: 0.8001 - val_accuracy: 0.9450\n",
      "Epoch 50/50\n",
      "800/800 [==============================] - 0s 46us/sample - loss: 0.7551 - accuracy: 0.9900 - val_loss: 0.8072 - val_accuracy: 0.9350\n"
     ]
    }
   ],
   "source": [
    "H = model.fit(Xsq_train_emb.numpy(), y_train, validation_data=(Xsq_test_emb.numpy(), y_test), epochs=50,\n",
    "                  batch_size=64)"
   ]
  },
  {
   "cell_type": "markdown",
   "metadata": {
    "colab_type": "text",
    "id": "_CnhTWD1ZYQ7"
   },
   "source": [
    "## (b)  [Rayleigh-Bénard Convection](https://en.wikipedia.org/wiki/Rayleigh%E2%80%93B%C3%A9nard_convection)\n",
    "\n",
    "RB convection, in which a flow is heated from below and cooled  from  top,  is  one  of  the  paradigmatic  system  in  fluid  dynamics. When the temperature difference between the two plates (in dimensionless form Rayleigh number Ra) is beyond certain threshold, hot fluid tends to go up and cold fluid tends to go down, thus forming convection cells. What we supply here are the temperature snapshots from four different Ra, i.e., $Ra=10^{14}$ as `class0`,$Ra= 10^{13}$ as `class1`, $Ra= 10^{12}$ as `class2`,and $Ra= 10^{11}$ as `class3`.  The flow you see is highly turbulent; not only there are big convection cells but also lots of small vortices.  The original dataset  is  around  4000*2000.   We  have  already  downsampled  the  data into the zip file `fluid_org.zip`."
   ]
  },
  {
   "cell_type": "markdown",
   "metadata": {
    "colab_type": "text",
    "id": "EyHNtp3wZYQ8"
   },
   "source": [
    "### (1) Train the data in `fluid_org.zip` with inception.  Show that these images can be classified  into  different $Ra$ nicely  with  inception.  \n",
    "\n",
    "Take the length 2048 embeddings from the Inception model first. Then visualizing how the embeddings distribute using a two component PCA or two component T-SNE, whichever you prefer. Then use any of the previously learned method to train a classifier using the embeddings as input. **Note that T-SNE normally gives you better separation**"
   ]
  },
  {
   "cell_type": "code",
   "execution_count": null,
   "metadata": {},
   "outputs": [],
   "source": [
    "import tensorflow\n",
    "import numpy as np\n",
    "import matplotlib.pyplot as plt"
   ]
  },
  {
   "cell_type": "code",
   "execution_count": null,
   "metadata": {
    "ExecuteTime": {
     "end_time": "2020-02-24T04:18:40.675119Z",
     "start_time": "2020-02-24T04:18:32.328259Z"
    },
    "colab": {},
    "colab_type": "code",
    "id": "skbbAOw8ZYQ9"
   },
   "outputs": [],
   "source": [
    "import os\n",
    "from PIL import Image\n",
    "imgs = []\n",
    "labels = []\n",
    "for file in os.listdir('./fluid_org/'):\n",
    "    imgs.append(np.array(Image.open('./fluid_org/'+file))/255)\n",
    "    labels.append(int(file[-5]))"
   ]
  },
  {
   "cell_type": "code",
   "execution_count": null,
   "metadata": {
    "ExecuteTime": {
     "end_time": "2020-02-24T04:19:30.816271Z",
     "start_time": "2020-02-24T04:19:26.835782Z"
    },
    "colab": {},
    "colab_type": "code",
    "id": "QStrmCBWZYRA"
   },
   "outputs": [],
   "source": [
    "imgs = np.array(imgs)\n",
    "labels = np.array(labels)"
   ]
  },
  {
   "cell_type": "markdown",
   "metadata": {},
   "source": [
    "Solution to (1):"
   ]
  },
  {
   "cell_type": "markdown",
   "metadata": {
    "colab_type": "text",
    "id": "n3Klki-zZYRb"
   },
   "source": [
    "### (2) For advanced use of trainsfer learning from the pre-trained models such as fine-tuning, we need to do the transfer learning in-place, by building a network consists of the Inception and your classifier layers. \n",
    "Freeze the part you take from Inception, train\n",
    "the model and report the accuracy. Then do the fine-tuning. Report\n",
    "how much increase of accuracy you can manage to get. Fine tuning\n",
    "by making the top few layer of the Inception model trainable instead\n",
    "of freezing all the layers. Due to the slowness of training, unleash the\n",
    "layers one by one. Make comments about how the accuracy change. It is\n",
    "highly recommended that you train this on Google Colab with the GPU\n",
    "activated."
   ]
  },
  {
   "cell_type": "markdown",
   "metadata": {},
   "source": [
    "Solution to (2):"
   ]
  },
  {
   "cell_type": "markdown",
   "metadata": {
    "colab_type": "text",
    "id": "PuQscq_aZYRk"
   },
   "source": [
    "### (3) Explore the potential of transfer learning on cropped data `fluid-crop`, which are randomly choosen regions of 100*100 pixels from each original 4000*2000 pictures, i.e.,just around 1% of the original picture! \n",
    "You can use either method you use in (1) or (2)."
   ]
  },
  {
   "cell_type": "markdown",
   "metadata": {},
   "source": [
    "Solution to (3):"
   ]
  },
  {
   "cell_type": "markdown",
   "metadata": {
    "colab_type": "text",
    "id": "Hzdh9wTPZYRk"
   },
   "source": [
    "### (4) Build your own classifier for (2) and (3) without using Inception. Compare the performance of your own classifier with the result in (2) and (3)"
   ]
  },
  {
   "cell_type": "markdown",
   "metadata": {},
   "source": [
    "Solution to (4):"
   ]
  },
  {
   "cell_type": "markdown",
   "metadata": {
    "colab_type": "text",
    "id": "_xxmW9iPZYRl"
   },
   "source": [
    "### (5) Continue (3), construct two examples where a different layer's output is used as the embedding. There are over 300 layers in Inception. Pick one at around the 100th layer and one at around 200th layer. The exact layer you pick is based on your preference. Show the following.\n",
    "- (i) The distributions of the embeddings similar to what you've done in (1). Together with the result you get in (1), comment the similarity and difference between what you get using the three embedding layers.\n",
    "- (ii) What is the test accuracy of the three classifiers. What is the test accuracy of the three classifiers? For speeding up the training you can choose to get the embeddings first and put those into a classifier, as you did in (1)."
   ]
  },
  {
   "cell_type": "markdown",
   "metadata": {},
   "source": [
    "Solution to (5):"
   ]
  },
  {
   "cell_type": "code",
   "execution_count": null,
   "metadata": {},
   "outputs": [],
   "source": []
  }
 ],
 "metadata": {
  "kernelspec": {
   "display_name": "Python 3",
   "language": "python",
   "name": "python3"
  },
  "language_info": {
   "codemirror_mode": {
    "name": "ipython",
    "version": 3
   },
   "file_extension": ".py",
   "mimetype": "text/x-python",
   "name": "python",
   "nbconvert_exporter": "python",
   "pygments_lexer": "ipython3",
   "version": "3.7.6"
  }
 },
 "nbformat": 4,
 "nbformat_minor": 4
}
