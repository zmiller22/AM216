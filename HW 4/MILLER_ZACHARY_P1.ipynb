{
 "cells": [
  {
   "cell_type": "code",
   "execution_count": 1,
   "metadata": {
    "ExecuteTime": {
     "end_time": "2020-02-24T16:46:46.494051Z",
     "start_time": "2020-02-24T16:46:45.817790Z"
    },
    "code_folding": []
   },
   "outputs": [],
   "source": [
    "from __future__ import division\n",
    "from __future__ import print_function\n",
    "\n",
    "import numpy as np\n",
    "from numpy.random import rand\n",
    "import matplotlib.pyplot as plt\n",
    "import os\n",
    "\n",
    "import tensorflow as tf\n",
    "import tensorflow_datasets as tfds\n",
    "import tensorflow.keras as keras\n",
    "\n",
    "import sklearn\n",
    "from sklearn.model_selection import train_test_split\n",
    "from sklearn.manifold import TSNE\n",
    "from sklearn.decomposition import PCA\n",
    "\n",
    "\n",
    "from tensorflow.keras.models import Sequential\n",
    "from tensorflow.keras.layers import BatchNormalization\n",
    "from tensorflow.keras.layers import Conv2D\n",
    "from tensorflow.keras.layers import MaxPooling2D\n",
    "from tensorflow.keras.layers import Activation\n",
    "from tensorflow.keras.layers import Flatten\n",
    "from tensorflow.keras.layers import Dropout\n",
    "from tensorflow.keras.layers import Dense\n",
    "from tensorflow.keras import optimizers\n",
    "\n",
    "import gc\n",
    "from numba import cuda\n",
    "from numba import jit"
   ]
  },
  {
   "cell_type": "code",
   "execution_count": 2,
   "metadata": {
    "ExecuteTime": {
     "end_time": "2020-02-24T16:46:46.494051Z",
     "start_time": "2020-02-24T16:46:45.817790Z"
    },
    "code_folding": []
   },
   "outputs": [],
   "source": [
    "# This is how the triagle lattice data is generated. You may find it helpful to generate some \n",
    "# of your own data\n",
    "class Ising_tri():\n",
    "    ''' Simulating the Ising model '''  \n",
    "    def __init__(self, size, temp):\n",
    "        self.temp = temp\n",
    "        self.N = int(size)\n",
    "    ## monte carlo moves\n",
    "    \n",
    "    def mcmove(self, config, N, beta):\n",
    "        ''' This is to execute the monte carlo moves using \n",
    "        Metropolis algorithm such that detailed\n",
    "        balance condition is satisified'''\n",
    "        for i in range(N):\n",
    "            for j in range(N):            \n",
    "                    a = np.random.randint(0, N) # select a row\n",
    "                    b = np.random.randint(0, N) # select a column\n",
    "                    s =  config[a, b] # current state at (a, b)\n",
    "                    if a%2:\n",
    "                        nb = config[(a+1)%N,b] +config[(a+1)%N,(b+1)%N] + config[a,(b+1)%N] + \\\n",
    "                        config[(a-1)%N,b] + config[(a-1)%N,(b+1)%N] + config[a,(b-1)%N]\n",
    "                    else:\n",
    "                        nb = config[(a+1)%N,b] +config[(a+1)%N,(b-1)%N] + config[a,(b+1)%N] + \\\n",
    "                        config[(a-1)%N,b] + config[(a-1)%N,(b-1)%N] + config[a,(b-1)%N]\n",
    "                    \n",
    "                    \n",
    "                    cost = 2*s*nb\n",
    "                    if cost < 0:\t\n",
    "                        s *= -1\n",
    "                    elif rand() < np.exp(-cost*beta):\n",
    "                        s *= -1\n",
    "                    config[a, b] = s\n",
    "        return config\n",
    "    \n",
    "    def simulate(self):   \n",
    "        ''' This module simulates the Ising model'''\n",
    "        config = 2*np.random.randint(2, size=(self.N,self.N))-1   \n",
    "        msrmnt = 81\n",
    "        for i in range(msrmnt):\n",
    "            self.mcmove(config, self.N, 1.0/self.temp)\n",
    "        return config\n",
    "\n",
    "class Ising_sq():\n",
    "    ''' Simulating the Ising model '''  \n",
    "    def __init__(self, size, temp):\n",
    "        self.temp = temp\n",
    "        self.N = int(size)\n",
    "    ## monte carlo moves\n",
    "\n",
    "    def mcmove(self, config, N, beta):\n",
    "        ''' This is to execute the monte carlo moves using \n",
    "        Metropolis algorithm such that detailed\n",
    "        balance condition is satisified'''\n",
    "        for i in range(N):\n",
    "            for j in range(N):            \n",
    "                    a = np.random.randint(0, N) # select a row\n",
    "                    b = np.random.randint(0, N) # select a column\n",
    "                    s =  config[a, b] # current state at (a, b)\n",
    "                    # periodic boundary condition imposed\n",
    "                    nb = config[(a+1)%N,b] + config[a,(b+1)%N] + config[(a-1)%N,b] + config[a,(b-1)%N]\n",
    "                    cost = 2*s*nb\n",
    "                    if cost < 0:\n",
    "                        s *= -1\n",
    "                    elif rand() < np.exp(-cost*beta):\n",
    "                        s *= -1\n",
    "                    config[a, b] = s\n",
    "        return config\n",
    "    \n",
    "    def simulate(self):   \n",
    "        ''' This module simulates the Ising model'''\n",
    "        config = 2*np.random.randint(2, size=(self.N,self.N))-1   \n",
    "        times = 100\n",
    "        for i in range(times):\n",
    "            self.mcmove(config, self.N, 1.0/self.temp)\n",
    "        return config"
   ]
  },
  {
   "cell_type": "markdown",
   "metadata": {},
   "source": [
    "You can import 4-temp data for square and triangular lattices as follows"
   ]
  },
  {
   "cell_type": "code",
   "execution_count": 3,
   "metadata": {
    "ExecuteTime": {
     "end_time": "2020-02-20T22:30:37.313572Z",
     "start_time": "2020-02-20T22:30:34.531268Z"
    }
   },
   "outputs": [],
   "source": [
    "N = 250\n",
    "nx, ny = 32, 32\n",
    "\n",
    "Xsq = np.ndarray((4*N,nx,ny,1))\n",
    "ysq = np.ndarray(4*N)\n",
    "\n",
    "for i in np.arange(N):\n",
    "    Xsq[i + 0*N] = np.loadtxt(\"./square_T1/square_T1/{:03d}\".format(i), delimiter=\",\").reshape(nx,ny,1)\n",
    "    ysq[i + 0*N] = 0\n",
    "    Xsq[i + 1*N] = np.loadtxt(\"./square_T2/square_T2/{:03d}\".format(i), delimiter=\",\").reshape(nx,ny,1)\n",
    "    ysq[i + 1*N] = 1\n",
    "    Xsq[i + 2*N] = np.loadtxt(\"./square_T3/square_T3/{:03d}\".format(i), delimiter=\",\").reshape(nx,ny,1)\n",
    "    ysq[i + 2*N] = 2\n",
    "    Xsq[i + 3*N] = np.loadtxt(\"./square_T4/square_T4/{:03d}\".format(i), delimiter=\",\").reshape(nx,ny,1)\n",
    "    ysq[i + 3*N] = 3\n",
    "\n",
    "Xsq_train, Xsq_test, ysq_train, ysq_test = train_test_split(Xsq, ysq, test_size=0.2, random_state=0)"
   ]
  },
  {
   "cell_type": "code",
   "execution_count": 4,
   "metadata": {
    "ExecuteTime": {
     "end_time": "2020-02-20T22:31:02.786262Z",
     "start_time": "2020-02-20T22:31:00.698414Z"
    }
   },
   "outputs": [],
   "source": [
    "N = 250\n",
    "nx, ny = 32, 32\n",
    "\n",
    "Xtri = np.ndarray((4*N,nx,ny,1))\n",
    "ytri = np.ndarray(4*N)\n",
    "\n",
    "for i in np.arange(N):\n",
    "    Xtri[i + 0*N] = np.loadtxt(\"./triangle_T1/triangle_T1/{:03d}\".format(i), delimiter=\",\").reshape(nx,ny,1)\n",
    "    ytri[i + 0*N] = 0\n",
    "    Xtri[i + 1*N] = np.loadtxt(\"./triangle_T2/triangle_T2/{:03d}\".format(i), delimiter=\",\").reshape(nx,ny,1)\n",
    "    ytri[i + 1*N] = 1\n",
    "    Xtri[i + 2*N] = np.loadtxt(\"./triangle_T3/triangle_T3/{:03d}\".format(i), delimiter=\",\").reshape(nx,ny,1)\n",
    "    ytri[i + 2*N] = 2\n",
    "    Xtri[i + 3*N] = np.loadtxt(\"./triangle_T4/triangle_T4/{:03d}\".format(i), delimiter=\",\").reshape(nx,ny,1)\n",
    "    ytri[i + 3*N] = 3\n",
    "\n",
    "Xtri_train, Xtri_test, ytri_train, ytri_test = train_test_split(Xtri, ytri, test_size=0.2, random_state=0)"
   ]
  },
  {
   "cell_type": "markdown",
   "metadata": {},
   "source": [
    "Make sure you know the shape of data."
   ]
  },
  {
   "cell_type": "code",
   "execution_count": 5,
   "metadata": {
    "ExecuteTime": {
     "end_time": "2020-02-20T22:31:05.870456Z",
     "start_time": "2020-02-20T22:31:05.864585Z"
    }
   },
   "outputs": [
    {
     "name": "stdout",
     "output_type": "stream",
     "text": [
      "Shape of training data:\n",
      "(800, 32, 32, 1) (800, 32, 32, 1)\n",
      "(800,) (800,)\n",
      "Shape of test data:\n",
      "(200, 32, 32, 1) (200, 32, 32, 1)\n",
      "(200,) (200,)\n"
     ]
    }
   ],
   "source": [
    "print(\"Shape of training data:\")\n",
    "print(Xsq_train.shape, Xtri_train.shape)\n",
    "print(ysq_train.shape, ytri_train.shape)\n",
    "print(\"Shape of test data:\")\n",
    "print(Xsq_test.shape, Xtri_test.shape)\n",
    "print(ysq_test.shape, ytri_test.shape)"
   ]
  },
  {
   "cell_type": "markdown",
   "metadata": {},
   "source": [
    "### (a) Train a fully connected neural network to do the classification on both datasets. Then, train  a  convolutional  neural  network  to  do  the  classification,  on  both datasets.   Make  a  table  of  your  performance  numbers  for  both  models  and  upload  these  numbers.   This,  together  with  your code,  should be uploaded to the course website when you turn in your homework.\n",
    "\n",
    "The temperatures for square lattice are $T = 1.5, 2.1, 2.4, 3.5$. $T = 2.5, 3.2, 3.8, 5$ for triangle lattice.\n"
   ]
  },
  {
   "cell_type": "markdown",
   "metadata": {},
   "source": [
    "Solution to (a):"
   ]
  },
  {
   "cell_type": "code",
   "execution_count": 6,
   "metadata": {},
   "outputs": [],
   "source": [
    "class small_FNN:\n",
    "    def __init__(self):\n",
    "        model = self\n",
    "    \n",
    "    @staticmethod\n",
    "    def build(width, height, depth, num_classes, channels_first=False):\n",
    "        model = Sequential()\n",
    "\n",
    "        if channels_first == False:\n",
    "            inputShape = (height, width, depth)\n",
    "            chanDim = -1\n",
    "        elif channels_first == True:\n",
    "            inputShape = (depth, height, width)\n",
    "            chanDim = 1\n",
    "            \n",
    "        model.add(Flatten())\n",
    "        \n",
    "        model.add(Dense(256,  activation='relu'))\n",
    "        model.add(Dropout(0.2))\n",
    "        model.add(BatchNormalization())\n",
    "        \n",
    "        model.add(Dense(128,  activation='relu'))\n",
    "        model.add(Dropout(0.2))\n",
    "        model.add(BatchNormalization())\n",
    "        \n",
    "        model.add(Dense(64, activation='relu'))\n",
    "        model.add(Dropout(0.2))\n",
    "        model.add(BatchNormalization())\n",
    "        \n",
    "        model.add(Dense(32, activation='relu'))\n",
    "        model.add(Dropout(0.2))\n",
    "        model.add(BatchNormalization())\n",
    "        \n",
    "        model.add(Dense(16, activation='relu'))\n",
    "        model.add(Dropout(0.2))\n",
    "        model.add(BatchNormalization())\n",
    "        \n",
    "        model.add(Dense(num_classes, activation=\"softmax\"))\n",
    "        \n",
    "        return model"
   ]
  },
  {
   "cell_type": "code",
   "execution_count": 7,
   "metadata": {},
   "outputs": [],
   "source": [
    "def train_model(input_model, train_data, train_lbls, test_data, \n",
    "                test_lbls, num_classes, input_shape, hyperparams):\n",
    "    # Ensure data is shaped properly, assumes channels last set up\n",
    "    x_train = train_data\n",
    "    x_test = test_data\n",
    "    \n",
    "    # Create categorical labels\n",
    "    y_train = keras.utils.to_categorical(train_lbls, num_classes)\n",
    "    y_test = keras.utils.to_categorical(test_lbls, num_classes)\n",
    "     \n",
    "    # Set hyperparameters\n",
    "    INIT_LR = hyperparams[0]# learning rate\n",
    "    EPOCHS = hyperparams[1] # number of epochs\n",
    "    BS = hyperparams[2] # batch size\n",
    "    OPT = optimizers.Adagrad(lr=INIT_LR) # optimizing function\n",
    "    \n",
    "    model = input_model\n",
    "    \n",
    "    # Compile the model\n",
    "    model.compile(loss='categorical_crossentropy', optimizer=OPT, metrics=['accuracy'])\n",
    "    \n",
    "    \n",
    "    H = model.fit(x_train, y_train, validation_data=(x_test, y_test), epochs=EPOCHS,\n",
    "                  batch_size=BS)\n",
    "    \n",
    "    return H, model\n",
    "    "
   ]
  },
  {
   "cell_type": "code",
   "execution_count": 8,
   "metadata": {},
   "outputs": [
    {
     "name": "stdout",
     "output_type": "stream",
     "text": [
      "Train on 800 samples, validate on 200 samples\n",
      "Epoch 1/50\n",
      "800/800 [==============================] - 1s 1ms/sample - loss: 1.7569 - accuracy: 0.2463 - val_loss: 1.4259 - val_accuracy: 0.2350\n",
      "Epoch 2/50\n",
      "800/800 [==============================] - 0s 113us/sample - loss: 1.4908 - accuracy: 0.3200 - val_loss: 1.3649 - val_accuracy: 0.2900\n",
      "Epoch 3/50\n",
      "800/800 [==============================] - 0s 103us/sample - loss: 1.4420 - accuracy: 0.3562 - val_loss: 1.3567 - val_accuracy: 0.3000\n",
      "Epoch 4/50\n",
      "800/800 [==============================] - 0s 129us/sample - loss: 1.2978 - accuracy: 0.4238 - val_loss: 1.3165 - val_accuracy: 0.3600\n",
      "Epoch 5/50\n",
      "800/800 [==============================] - 0s 108us/sample - loss: 1.2472 - accuracy: 0.4363 - val_loss: 1.2665 - val_accuracy: 0.4150\n",
      "Epoch 6/50\n",
      "800/800 [==============================] - 0s 106us/sample - loss: 1.2032 - accuracy: 0.4588 - val_loss: 1.2442 - val_accuracy: 0.4200\n",
      "Epoch 7/50\n",
      "800/800 [==============================] - 0s 105us/sample - loss: 1.1327 - accuracy: 0.4950 - val_loss: 1.1951 - val_accuracy: 0.4400\n",
      "Epoch 8/50\n",
      "800/800 [==============================] - 0s 104us/sample - loss: 1.1519 - accuracy: 0.4850 - val_loss: 1.1572 - val_accuracy: 0.4800\n",
      "Epoch 9/50\n",
      "800/800 [==============================] - 0s 111us/sample - loss: 1.1503 - accuracy: 0.4812 - val_loss: 1.1238 - val_accuracy: 0.5000\n",
      "Epoch 10/50\n",
      "800/800 [==============================] - 0s 111us/sample - loss: 1.0993 - accuracy: 0.5100 - val_loss: 1.0916 - val_accuracy: 0.5250\n",
      "Epoch 11/50\n",
      "800/800 [==============================] - 0s 114us/sample - loss: 1.0720 - accuracy: 0.5312 - val_loss: 1.0763 - val_accuracy: 0.5250\n",
      "Epoch 12/50\n",
      "800/800 [==============================] - 0s 109us/sample - loss: 1.0391 - accuracy: 0.5375 - val_loss: 1.0470 - val_accuracy: 0.5300\n",
      "Epoch 13/50\n",
      "800/800 [==============================] - 0s 108us/sample - loss: 0.9731 - accuracy: 0.5863 - val_loss: 1.0266 - val_accuracy: 0.5350\n",
      "Epoch 14/50\n",
      "800/800 [==============================] - 0s 101us/sample - loss: 0.9803 - accuracy: 0.5688 - val_loss: 1.0150 - val_accuracy: 0.5400\n",
      "Epoch 15/50\n",
      "800/800 [==============================] - 0s 109us/sample - loss: 0.9796 - accuracy: 0.5788 - val_loss: 1.0174 - val_accuracy: 0.5550\n",
      "Epoch 16/50\n",
      "800/800 [==============================] - 0s 104us/sample - loss: 0.9622 - accuracy: 0.5800 - val_loss: 1.0002 - val_accuracy: 0.5550\n",
      "Epoch 17/50\n",
      "800/800 [==============================] - 0s 111us/sample - loss: 0.9050 - accuracy: 0.6112 - val_loss: 0.9806 - val_accuracy: 0.5550\n",
      "Epoch 18/50\n",
      "800/800 [==============================] - 0s 108us/sample - loss: 0.9082 - accuracy: 0.6062 - val_loss: 0.9646 - val_accuracy: 0.5550\n",
      "Epoch 19/50\n",
      "800/800 [==============================] - 0s 114us/sample - loss: 0.9271 - accuracy: 0.6087 - val_loss: 0.9544 - val_accuracy: 0.5550\n",
      "Epoch 20/50\n",
      "800/800 [==============================] - 0s 105us/sample - loss: 0.8774 - accuracy: 0.6212 - val_loss: 0.9487 - val_accuracy: 0.5500\n",
      "Epoch 21/50\n",
      "800/800 [==============================] - 0s 104us/sample - loss: 0.8604 - accuracy: 0.6350 - val_loss: 0.9384 - val_accuracy: 0.5750\n",
      "Epoch 22/50\n",
      "800/800 [==============================] - 0s 113us/sample - loss: 0.8353 - accuracy: 0.6388 - val_loss: 0.9259 - val_accuracy: 0.5450\n",
      "Epoch 23/50\n",
      "800/800 [==============================] - 0s 106us/sample - loss: 0.8348 - accuracy: 0.6737 - val_loss: 0.9122 - val_accuracy: 0.5600\n",
      "Epoch 24/50\n",
      "800/800 [==============================] - 0s 105us/sample - loss: 0.8070 - accuracy: 0.6550 - val_loss: 0.9118 - val_accuracy: 0.5600\n",
      "Epoch 25/50\n",
      "800/800 [==============================] - 0s 103us/sample - loss: 0.7860 - accuracy: 0.6712 - val_loss: 0.9009 - val_accuracy: 0.5700\n",
      "Epoch 26/50\n",
      "800/800 [==============================] - 0s 104us/sample - loss: 0.7781 - accuracy: 0.6775 - val_loss: 0.8983 - val_accuracy: 0.5750\n",
      "Epoch 27/50\n",
      "800/800 [==============================] - 0s 111us/sample - loss: 0.7853 - accuracy: 0.6612 - val_loss: 0.8888 - val_accuracy: 0.5850\n",
      "Epoch 28/50\n",
      "800/800 [==============================] - 0s 109us/sample - loss: 0.7573 - accuracy: 0.6787 - val_loss: 0.8962 - val_accuracy: 0.5550\n",
      "Epoch 29/50\n",
      "800/800 [==============================] - 0s 111us/sample - loss: 0.7573 - accuracy: 0.6712 - val_loss: 0.8925 - val_accuracy: 0.5600\n",
      "Epoch 30/50\n",
      "800/800 [==============================] - 0s 103us/sample - loss: 0.7276 - accuracy: 0.7000 - val_loss: 0.8930 - val_accuracy: 0.5650\n",
      "Epoch 31/50\n",
      "800/800 [==============================] - 0s 104us/sample - loss: 0.7253 - accuracy: 0.6913 - val_loss: 0.8904 - val_accuracy: 0.5800\n",
      "Epoch 32/50\n",
      "800/800 [==============================] - 0s 106us/sample - loss: 0.7219 - accuracy: 0.6913 - val_loss: 0.8932 - val_accuracy: 0.5600\n",
      "Epoch 33/50\n",
      "800/800 [==============================] - 0s 103us/sample - loss: 0.7057 - accuracy: 0.6875 - val_loss: 0.8966 - val_accuracy: 0.5600\n",
      "Epoch 34/50\n",
      "800/800 [==============================] - 0s 107us/sample - loss: 0.6583 - accuracy: 0.7475 - val_loss: 0.8940 - val_accuracy: 0.5650\n",
      "Epoch 35/50\n",
      "800/800 [==============================] - 0s 106us/sample - loss: 0.7127 - accuracy: 0.6888 - val_loss: 0.8849 - val_accuracy: 0.5600\n",
      "Epoch 36/50\n",
      "800/800 [==============================] - 0s 107us/sample - loss: 0.6659 - accuracy: 0.7025 - val_loss: 0.8891 - val_accuracy: 0.5750\n",
      "Epoch 37/50\n",
      "800/800 [==============================] - 0s 103us/sample - loss: 0.6337 - accuracy: 0.7325 - val_loss: 0.8847 - val_accuracy: 0.5550\n",
      "Epoch 38/50\n",
      "800/800 [==============================] - 0s 101us/sample - loss: 0.6558 - accuracy: 0.7312 - val_loss: 0.9024 - val_accuracy: 0.5650\n",
      "Epoch 39/50\n",
      "800/800 [==============================] - 0s 100us/sample - loss: 0.6387 - accuracy: 0.7412 - val_loss: 0.9112 - val_accuracy: 0.5500\n",
      "Epoch 40/50\n",
      "800/800 [==============================] - 0s 103us/sample - loss: 0.6186 - accuracy: 0.7462 - val_loss: 0.9109 - val_accuracy: 0.5600\n",
      "Epoch 41/50\n",
      "800/800 [==============================] - 0s 116us/sample - loss: 0.6163 - accuracy: 0.7412 - val_loss: 0.9166 - val_accuracy: 0.5600\n",
      "Epoch 42/50\n",
      "800/800 [==============================] - 0s 115us/sample - loss: 0.6137 - accuracy: 0.7425 - val_loss: 0.9318 - val_accuracy: 0.5300\n",
      "Epoch 43/50\n",
      "800/800 [==============================] - 0s 115us/sample - loss: 0.5956 - accuracy: 0.7425 - val_loss: 0.9295 - val_accuracy: 0.5400\n",
      "Epoch 44/50\n",
      "800/800 [==============================] - 0s 112us/sample - loss: 0.5861 - accuracy: 0.7462 - val_loss: 0.9242 - val_accuracy: 0.5350\n",
      "Epoch 45/50\n",
      "800/800 [==============================] - 0s 114us/sample - loss: 0.6035 - accuracy: 0.7487 - val_loss: 0.9344 - val_accuracy: 0.5500\n",
      "Epoch 46/50\n",
      "800/800 [==============================] - 0s 115us/sample - loss: 0.5650 - accuracy: 0.7763 - val_loss: 0.9284 - val_accuracy: 0.5450\n",
      "Epoch 47/50\n",
      "800/800 [==============================] - 0s 112us/sample - loss: 0.5805 - accuracy: 0.7663 - val_loss: 0.9172 - val_accuracy: 0.5600\n",
      "Epoch 48/50\n",
      "800/800 [==============================] - 0s 113us/sample - loss: 0.5693 - accuracy: 0.7575 - val_loss: 0.9150 - val_accuracy: 0.5650\n",
      "Epoch 49/50\n",
      "800/800 [==============================] - 0s 126us/sample - loss: 0.5664 - accuracy: 0.7625 - val_loss: 0.9049 - val_accuracy: 0.5650\n",
      "Epoch 50/50\n",
      "800/800 [==============================] - 0s 123us/sample - loss: 0.5390 - accuracy: 0.7525 - val_loss: 0.9051 - val_accuracy: 0.5650\n",
      "Train on 800 samples, validate on 200 samples\n",
      "Epoch 1/50\n",
      "800/800 [==============================] - 1s 1ms/sample - loss: 1.8613 - accuracy: 0.2537 - val_loss: 1.3886 - val_accuracy: 0.2900\n",
      "Epoch 2/50\n",
      "800/800 [==============================] - 0s 103us/sample - loss: 1.6515 - accuracy: 0.2950 - val_loss: 1.4144 - val_accuracy: 0.2450\n",
      "Epoch 3/50\n",
      "800/800 [==============================] - 0s 98us/sample - loss: 1.5381 - accuracy: 0.3200 - val_loss: 1.4045 - val_accuracy: 0.2300\n",
      "Epoch 4/50\n",
      "800/800 [==============================] - 0s 100us/sample - loss: 1.4166 - accuracy: 0.3800 - val_loss: 1.4318 - val_accuracy: 0.2750\n",
      "Epoch 5/50\n",
      "800/800 [==============================] - 0s 101us/sample - loss: 1.3636 - accuracy: 0.3688 - val_loss: 1.4015 - val_accuracy: 0.2650\n",
      "Epoch 6/50\n"
     ]
    },
    {
     "name": "stdout",
     "output_type": "stream",
     "text": [
      "800/800 [==============================] - 0s 102us/sample - loss: 1.3201 - accuracy: 0.4200 - val_loss: 1.3674 - val_accuracy: 0.2650\n",
      "Epoch 7/50\n",
      "800/800 [==============================] - 0s 103us/sample - loss: 1.3033 - accuracy: 0.4162 - val_loss: 1.3276 - val_accuracy: 0.3100\n",
      "Epoch 8/50\n",
      "800/800 [==============================] - 0s 101us/sample - loss: 1.2170 - accuracy: 0.4512 - val_loss: 1.2915 - val_accuracy: 0.3300\n",
      "Epoch 9/50\n",
      "800/800 [==============================] - 0s 99us/sample - loss: 1.1948 - accuracy: 0.4825 - val_loss: 1.2557 - val_accuracy: 0.3400\n",
      "Epoch 10/50\n",
      "800/800 [==============================] - 0s 100us/sample - loss: 1.1633 - accuracy: 0.4613 - val_loss: 1.2197 - val_accuracy: 0.3800\n",
      "Epoch 11/50\n",
      "800/800 [==============================] - 0s 102us/sample - loss: 1.1086 - accuracy: 0.5113 - val_loss: 1.1944 - val_accuracy: 0.4000\n",
      "Epoch 12/50\n",
      "800/800 [==============================] - 0s 100us/sample - loss: 1.0975 - accuracy: 0.5163 - val_loss: 1.1639 - val_accuracy: 0.3950\n",
      "Epoch 13/50\n",
      "800/800 [==============================] - 0s 105us/sample - loss: 1.0663 - accuracy: 0.5238 - val_loss: 1.1353 - val_accuracy: 0.4150\n",
      "Epoch 14/50\n",
      "800/800 [==============================] - 0s 113us/sample - loss: 1.0182 - accuracy: 0.5475 - val_loss: 1.1080 - val_accuracy: 0.4350\n",
      "Epoch 15/50\n",
      "800/800 [==============================] - 0s 105us/sample - loss: 0.9925 - accuracy: 0.5713 - val_loss: 1.1016 - val_accuracy: 0.4550\n",
      "Epoch 16/50\n",
      "800/800 [==============================] - 0s 104us/sample - loss: 0.9882 - accuracy: 0.5625 - val_loss: 1.0930 - val_accuracy: 0.4550\n",
      "Epoch 17/50\n",
      "800/800 [==============================] - 0s 99us/sample - loss: 0.9436 - accuracy: 0.5975 - val_loss: 1.0824 - val_accuracy: 0.4550\n",
      "Epoch 18/50\n",
      "800/800 [==============================] - 0s 102us/sample - loss: 0.9268 - accuracy: 0.6000 - val_loss: 1.0707 - val_accuracy: 0.4600\n",
      "Epoch 19/50\n",
      "800/800 [==============================] - 0s 108us/sample - loss: 0.8995 - accuracy: 0.6162 - val_loss: 1.0614 - val_accuracy: 0.4700\n",
      "Epoch 20/50\n",
      "800/800 [==============================] - 0s 104us/sample - loss: 0.8321 - accuracy: 0.6550 - val_loss: 1.0659 - val_accuracy: 0.4650\n",
      "Epoch 21/50\n",
      "800/800 [==============================] - 0s 101us/sample - loss: 0.8742 - accuracy: 0.6087 - val_loss: 1.0621 - val_accuracy: 0.4300\n",
      "Epoch 22/50\n",
      "800/800 [==============================] - 0s 104us/sample - loss: 0.8345 - accuracy: 0.6325 - val_loss: 1.0577 - val_accuracy: 0.4500\n",
      "Epoch 23/50\n",
      "800/800 [==============================] - 0s 106us/sample - loss: 0.8265 - accuracy: 0.6375 - val_loss: 1.0569 - val_accuracy: 0.4650\n",
      "Epoch 24/50\n",
      "800/800 [==============================] - 0s 102us/sample - loss: 0.8149 - accuracy: 0.6313 - val_loss: 1.0596 - val_accuracy: 0.4450\n",
      "Epoch 25/50\n",
      "800/800 [==============================] - 0s 110us/sample - loss: 0.8166 - accuracy: 0.6475 - val_loss: 1.0590 - val_accuracy: 0.4500\n",
      "Epoch 26/50\n",
      "800/800 [==============================] - 0s 118us/sample - loss: 0.7857 - accuracy: 0.6737 - val_loss: 1.0449 - val_accuracy: 0.4450\n",
      "Epoch 27/50\n",
      "800/800 [==============================] - 0s 107us/sample - loss: 0.7501 - accuracy: 0.6650 - val_loss: 1.0398 - val_accuracy: 0.4450\n",
      "Epoch 28/50\n",
      "800/800 [==============================] - 0s 108us/sample - loss: 0.7604 - accuracy: 0.6775 - val_loss: 1.0580 - val_accuracy: 0.4150\n",
      "Epoch 29/50\n",
      "800/800 [==============================] - 0s 105us/sample - loss: 0.7522 - accuracy: 0.6700 - val_loss: 1.0467 - val_accuracy: 0.4450\n",
      "Epoch 30/50\n",
      "800/800 [==============================] - 0s 110us/sample - loss: 0.7206 - accuracy: 0.6675 - val_loss: 1.0431 - val_accuracy: 0.4450\n",
      "Epoch 31/50\n",
      "800/800 [==============================] - 0s 126us/sample - loss: 0.7181 - accuracy: 0.6750 - val_loss: 1.0418 - val_accuracy: 0.4450\n",
      "Epoch 32/50\n",
      "800/800 [==============================] - 0s 124us/sample - loss: 0.6847 - accuracy: 0.7025 - val_loss: 1.0310 - val_accuracy: 0.4350\n",
      "Epoch 33/50\n",
      "800/800 [==============================] - 0s 117us/sample - loss: 0.6736 - accuracy: 0.7113 - val_loss: 1.0209 - val_accuracy: 0.4450\n",
      "Epoch 34/50\n",
      "800/800 [==============================] - 0s 112us/sample - loss: 0.6411 - accuracy: 0.7188 - val_loss: 1.0268 - val_accuracy: 0.4350\n",
      "Epoch 35/50\n",
      "800/800 [==============================] - 0s 104us/sample - loss: 0.6546 - accuracy: 0.7150 - val_loss: 1.0258 - val_accuracy: 0.4250\n",
      "Epoch 36/50\n",
      "800/800 [==============================] - 0s 100us/sample - loss: 0.6747 - accuracy: 0.7063 - val_loss: 1.0319 - val_accuracy: 0.4200\n",
      "Epoch 37/50\n",
      "800/800 [==============================] - 0s 105us/sample - loss: 0.6542 - accuracy: 0.7025 - val_loss: 1.0162 - val_accuracy: 0.4650\n",
      "Epoch 38/50\n",
      "800/800 [==============================] - 0s 113us/sample - loss: 0.6085 - accuracy: 0.7262 - val_loss: 1.0197 - val_accuracy: 0.4600\n",
      "Epoch 39/50\n",
      "800/800 [==============================] - 0s 107us/sample - loss: 0.6281 - accuracy: 0.7387 - val_loss: 1.0217 - val_accuracy: 0.4550\n",
      "Epoch 40/50\n",
      "800/800 [==============================] - 0s 106us/sample - loss: 0.5860 - accuracy: 0.7462 - val_loss: 1.0195 - val_accuracy: 0.4600\n",
      "Epoch 41/50\n",
      "800/800 [==============================] - 0s 103us/sample - loss: 0.5566 - accuracy: 0.7613 - val_loss: 1.0201 - val_accuracy: 0.4650\n",
      "Epoch 42/50\n",
      "800/800 [==============================] - 0s 104us/sample - loss: 0.6125 - accuracy: 0.7175 - val_loss: 1.0032 - val_accuracy: 0.4700\n",
      "Epoch 43/50\n",
      "800/800 [==============================] - 0s 109us/sample - loss: 0.5782 - accuracy: 0.7513 - val_loss: 1.0087 - val_accuracy: 0.4750\n",
      "Epoch 44/50\n",
      "800/800 [==============================] - 0s 118us/sample - loss: 0.5634 - accuracy: 0.7663 - val_loss: 1.0007 - val_accuracy: 0.4850\n",
      "Epoch 45/50\n",
      "800/800 [==============================] - 0s 106us/sample - loss: 0.6033 - accuracy: 0.7412 - val_loss: 1.0077 - val_accuracy: 0.4900\n",
      "Epoch 46/50\n",
      "800/800 [==============================] - 0s 128us/sample - loss: 0.5537 - accuracy: 0.7725 - val_loss: 1.0068 - val_accuracy: 0.5000\n",
      "Epoch 47/50\n",
      "800/800 [==============================] - 0s 103us/sample - loss: 0.5598 - accuracy: 0.7663 - val_loss: 1.0195 - val_accuracy: 0.5050\n",
      "Epoch 48/50\n",
      "800/800 [==============================] - 0s 106us/sample - loss: 0.5516 - accuracy: 0.7575 - val_loss: 1.0161 - val_accuracy: 0.4900\n",
      "Epoch 49/50\n",
      "800/800 [==============================] - 0s 105us/sample - loss: 0.5660 - accuracy: 0.7475 - val_loss: 1.0223 - val_accuracy: 0.5150\n",
      "Epoch 50/50\n",
      "800/800 [==============================] - 0s 101us/sample - loss: 0.5474 - accuracy: 0.7588 - val_loss: 1.0061 - val_accuracy: 0.5250\n"
     ]
    }
   ],
   "source": [
    "input_shape = (32, 32, 1)\n",
    "num_classes = 4\n",
    "fnn_model_sq = small_FNN.build(width=input_shape[0], height=input_shape[1], depth=input_shape[2],\n",
    "                   num_classes=num_classes)\n",
    "fnn_model_tri = small_FNN.build(width=input_shape[0], height=input_shape[1], depth=input_shape[2],\n",
    "                   num_classes=num_classes)\n",
    "\n",
    "# hyperparams should be a tuple of: INIT_LR, EPOCHS, BS\n",
    "FNN_hyperparams = (0.01, 50, 32)\n",
    "H_sq_FNN, sq_FNN_model = train_model(fnn_model_sq, Xsq_train, ysq_train, Xsq_test, ysq_test, num_classes, input_shape, FNN_hyperparams)\n",
    "H_tri_FNN, tri_FNN_model = train_model(fnn_model_tri, Xtri_train, ytri_train, Xtri_test, ytri_test, num_classes, input_shape, FNN_hyperparams)"
   ]
  },
  {
   "cell_type": "markdown",
   "metadata": {},
   "source": [
    "### (b) Train a convolutional neural network to do the classification, on both datasets. Make a table of your performance numbers for (a) and (b). \n",
    "Try to optimize the performance of your models and compare the result.\n",
    "\n",
    "solution to (b):"
   ]
  },
  {
   "cell_type": "code",
   "execution_count": 9,
   "metadata": {},
   "outputs": [],
   "source": [
    "class SimpleCNN:\n",
    "    def __init__(self):\n",
    "        model = self\n",
    "    \n",
    "    @staticmethod\n",
    "    def build(width, height, depth, num_classes, channels_first=False):\n",
    "        # initialize the model along with the input shape to be\n",
    "        # \"channels last\" and the channels dimension itself\n",
    "        model = Sequential()\n",
    "        \n",
    "        if channels_first == False:\n",
    "            inputShape = (height, width, depth)\n",
    "            chanDim = -1\n",
    "        elif channels_first == True:\n",
    "            inputShape = (depth, height, width)\n",
    "            chanDim = 1\n",
    "            \n",
    "        model.add(Conv2D(32, (5, 5), activation='relu', input_shape=inputShape))\n",
    "        model.add(MaxPooling2D((2, 2)))\n",
    "        model.add(Conv2D(64, (3, 3), activation='relu'))\n",
    "        model.add(MaxPooling2D((2, 2)))\n",
    "        model.add(Conv2D(64, (3, 3), activation='relu'))\n",
    "        model.add(Dropout(0.25))\n",
    "                  \n",
    "        model.add(Flatten())\n",
    "        model.add(Dropout(0.4))\n",
    "        model.add(Dense(64, activation='relu'))\n",
    "        model.add(Dense(num_classes, activation='softmax'))\n",
    "\n",
    "        # return the constructed network architecture\n",
    "        return model"
   ]
  },
  {
   "cell_type": "code",
   "execution_count": 10,
   "metadata": {},
   "outputs": [
    {
     "name": "stdout",
     "output_type": "stream",
     "text": [
      "Train on 800 samples, validate on 200 samples\n",
      "Epoch 1/50\n",
      "800/800 [==============================] - 1s 2ms/sample - loss: 1.3636 - accuracy: 0.2763 - val_loss: 1.2995 - val_accuracy: 0.2600\n",
      "Epoch 2/50\n",
      "800/800 [==============================] - 0s 76us/sample - loss: 1.2683 - accuracy: 0.3850 - val_loss: 1.1509 - val_accuracy: 0.5000\n",
      "Epoch 3/50\n",
      "800/800 [==============================] - 0s 76us/sample - loss: 1.0575 - accuracy: 0.5412 - val_loss: 0.8781 - val_accuracy: 0.6300\n",
      "Epoch 4/50\n",
      "800/800 [==============================] - 0s 92us/sample - loss: 0.9009 - accuracy: 0.5900 - val_loss: 0.8027 - val_accuracy: 0.6000\n",
      "Epoch 5/50\n",
      "800/800 [==============================] - 0s 83us/sample - loss: 0.7093 - accuracy: 0.6750 - val_loss: 0.9803 - val_accuracy: 0.4650\n",
      "Epoch 6/50\n",
      "800/800 [==============================] - 0s 80us/sample - loss: 0.7773 - accuracy: 0.6288 - val_loss: 0.7067 - val_accuracy: 0.6400\n",
      "Epoch 7/50\n",
      "800/800 [==============================] - 0s 76us/sample - loss: 0.5538 - accuracy: 0.7600 - val_loss: 0.7735 - val_accuracy: 0.6250\n",
      "Epoch 8/50\n",
      "800/800 [==============================] - 0s 78us/sample - loss: 0.5541 - accuracy: 0.7613 - val_loss: 0.4171 - val_accuracy: 0.8200\n",
      "Epoch 9/50\n",
      "800/800 [==============================] - 0s 80us/sample - loss: 0.5530 - accuracy: 0.7588 - val_loss: 0.4126 - val_accuracy: 0.8300\n",
      "Epoch 10/50\n",
      "800/800 [==============================] - 0s 80us/sample - loss: 0.3848 - accuracy: 0.8487 - val_loss: 0.7852 - val_accuracy: 0.6600\n",
      "Epoch 11/50\n",
      "800/800 [==============================] - 0s 79us/sample - loss: 0.4440 - accuracy: 0.8263 - val_loss: 0.4283 - val_accuracy: 0.8000\n",
      "Epoch 12/50\n",
      "800/800 [==============================] - 0s 90us/sample - loss: 0.3800 - accuracy: 0.8400 - val_loss: 0.3548 - val_accuracy: 0.8600\n",
      "Epoch 13/50\n",
      "800/800 [==============================] - 0s 76us/sample - loss: 0.3421 - accuracy: 0.8725 - val_loss: 0.3458 - val_accuracy: 0.8450\n",
      "Epoch 14/50\n",
      "800/800 [==============================] - 0s 79us/sample - loss: 0.3811 - accuracy: 0.8338 - val_loss: 0.7140 - val_accuracy: 0.7050\n",
      "Epoch 15/50\n",
      "800/800 [==============================] - 0s 81us/sample - loss: 0.4471 - accuracy: 0.8150 - val_loss: 0.3602 - val_accuracy: 0.8400\n",
      "Epoch 16/50\n",
      "800/800 [==============================] - 0s 80us/sample - loss: 0.2830 - accuracy: 0.8863 - val_loss: 0.3259 - val_accuracy: 0.8650\n",
      "Epoch 17/50\n",
      "800/800 [==============================] - 0s 84us/sample - loss: 0.2626 - accuracy: 0.9062 - val_loss: 0.2586 - val_accuracy: 0.8950\n",
      "Epoch 18/50\n",
      "800/800 [==============================] - 0s 80us/sample - loss: 0.2661 - accuracy: 0.8913 - val_loss: 0.3689 - val_accuracy: 0.8400\n",
      "Epoch 19/50\n",
      "800/800 [==============================] - 0s 80us/sample - loss: 0.3087 - accuracy: 0.8800 - val_loss: 0.2864 - val_accuracy: 0.8850\n",
      "Epoch 20/50\n",
      "800/800 [==============================] - 0s 78us/sample - loss: 0.2459 - accuracy: 0.9038 - val_loss: 0.3098 - val_accuracy: 0.8650\n",
      "Epoch 21/50\n",
      "800/800 [==============================] - 0s 77us/sample - loss: 0.2339 - accuracy: 0.9275 - val_loss: 0.2766 - val_accuracy: 0.8850\n",
      "Epoch 22/50\n",
      "800/800 [==============================] - 0s 78us/sample - loss: 0.2317 - accuracy: 0.9225 - val_loss: 0.2489 - val_accuracy: 0.8900\n",
      "Epoch 23/50\n",
      "800/800 [==============================] - 0s 85us/sample - loss: 0.2177 - accuracy: 0.9212 - val_loss: 0.5242 - val_accuracy: 0.7850\n",
      "Epoch 24/50\n",
      "800/800 [==============================] - 0s 89us/sample - loss: 0.2330 - accuracy: 0.9075 - val_loss: 0.3048 - val_accuracy: 0.8700\n",
      "Epoch 25/50\n",
      "800/800 [==============================] - 0s 95us/sample - loss: 0.1911 - accuracy: 0.9337 - val_loss: 0.2194 - val_accuracy: 0.9100\n",
      "Epoch 26/50\n",
      "800/800 [==============================] - 0s 87us/sample - loss: 0.2803 - accuracy: 0.8800 - val_loss: 0.3026 - val_accuracy: 0.8750\n",
      "Epoch 27/50\n",
      "800/800 [==============================] - 0s 92us/sample - loss: 0.1844 - accuracy: 0.9250 - val_loss: 0.3083 - val_accuracy: 0.8650\n",
      "Epoch 28/50\n",
      "800/800 [==============================] - 0s 90us/sample - loss: 0.1911 - accuracy: 0.9325 - val_loss: 0.2177 - val_accuracy: 0.9050\n",
      "Epoch 29/50\n",
      "800/800 [==============================] - 0s 91us/sample - loss: 0.1776 - accuracy: 0.9287 - val_loss: 0.3073 - val_accuracy: 0.8650\n",
      "Epoch 30/50\n",
      "800/800 [==============================] - 0s 90us/sample - loss: 0.1945 - accuracy: 0.9287 - val_loss: 0.2359 - val_accuracy: 0.8800\n",
      "Epoch 31/50\n",
      "800/800 [==============================] - 0s 84us/sample - loss: 0.1687 - accuracy: 0.9438 - val_loss: 0.2356 - val_accuracy: 0.9100\n",
      "Epoch 32/50\n",
      "800/800 [==============================] - 0s 86us/sample - loss: 0.1653 - accuracy: 0.9425 - val_loss: 0.2690 - val_accuracy: 0.8900\n",
      "Epoch 33/50\n",
      "800/800 [==============================] - 0s 85us/sample - loss: 0.1658 - accuracy: 0.9438 - val_loss: 0.2373 - val_accuracy: 0.8800\n",
      "Epoch 34/50\n",
      "800/800 [==============================] - 0s 84us/sample - loss: 0.1758 - accuracy: 0.9287 - val_loss: 0.2393 - val_accuracy: 0.8950\n",
      "Epoch 35/50\n",
      "800/800 [==============================] - 0s 86us/sample - loss: 0.2004 - accuracy: 0.9162 - val_loss: 0.5347 - val_accuracy: 0.8400\n",
      "Epoch 36/50\n",
      "800/800 [==============================] - 0s 87us/sample - loss: 0.2574 - accuracy: 0.8850 - val_loss: 0.1873 - val_accuracy: 0.9200\n",
      "Epoch 37/50\n",
      "800/800 [==============================] - 0s 84us/sample - loss: 0.1413 - accuracy: 0.9525 - val_loss: 0.1623 - val_accuracy: 0.9350\n",
      "Epoch 38/50\n",
      "800/800 [==============================] - 0s 84us/sample - loss: 0.1336 - accuracy: 0.9488 - val_loss: 0.1948 - val_accuracy: 0.9250\n",
      "Epoch 39/50\n",
      "800/800 [==============================] - 0s 84us/sample - loss: 0.1315 - accuracy: 0.9588 - val_loss: 0.1762 - val_accuracy: 0.9350\n",
      "Epoch 40/50\n",
      "800/800 [==============================] - 0s 84us/sample - loss: 0.1310 - accuracy: 0.9488 - val_loss: 0.1656 - val_accuracy: 0.9350\n",
      "Epoch 41/50\n",
      "800/800 [==============================] - 0s 84us/sample - loss: 0.1239 - accuracy: 0.9538 - val_loss: 0.1819 - val_accuracy: 0.9250\n",
      "Epoch 42/50\n",
      "800/800 [==============================] - 0s 90us/sample - loss: 0.1289 - accuracy: 0.9525 - val_loss: 0.2005 - val_accuracy: 0.9150\n",
      "Epoch 43/50\n",
      "800/800 [==============================] - 0s 90us/sample - loss: 0.1262 - accuracy: 0.9550 - val_loss: 0.1974 - val_accuracy: 0.9250\n",
      "Epoch 44/50\n",
      "800/800 [==============================] - 0s 96us/sample - loss: 0.1548 - accuracy: 0.9413 - val_loss: 0.1693 - val_accuracy: 0.9400\n",
      "Epoch 45/50\n",
      "800/800 [==============================] - 0s 92us/sample - loss: 0.1392 - accuracy: 0.9413 - val_loss: 0.4395 - val_accuracy: 0.8300\n",
      "Epoch 46/50\n",
      "800/800 [==============================] - 0s 89us/sample - loss: 0.1523 - accuracy: 0.9413 - val_loss: 0.2021 - val_accuracy: 0.8850\n",
      "Epoch 47/50\n",
      "800/800 [==============================] - 0s 87us/sample - loss: 0.1210 - accuracy: 0.9625 - val_loss: 0.1525 - val_accuracy: 0.9350\n",
      "Epoch 48/50\n",
      "800/800 [==============================] - 0s 89us/sample - loss: 0.1156 - accuracy: 0.9663 - val_loss: 0.2046 - val_accuracy: 0.9150\n",
      "Epoch 49/50\n",
      "800/800 [==============================] - 0s 79us/sample - loss: 0.1342 - accuracy: 0.9450 - val_loss: 0.1572 - val_accuracy: 0.9400\n",
      "Epoch 50/50\n",
      "800/800 [==============================] - 0s 77us/sample - loss: 0.1943 - accuracy: 0.9175 - val_loss: 0.1476 - val_accuracy: 0.9400\n",
      "Train on 800 samples, validate on 200 samples\n",
      "Epoch 1/50\n",
      "800/800 [==============================] - 0s 523us/sample - loss: 1.3757 - accuracy: 0.2750 - val_loss: 1.3169 - val_accuracy: 0.2850\n",
      "Epoch 2/50\n",
      "800/800 [==============================] - 0s 79us/sample - loss: 1.2920 - accuracy: 0.3237 - val_loss: 1.2328 - val_accuracy: 0.3350\n",
      "Epoch 3/50\n",
      "800/800 [==============================] - 0s 77us/sample - loss: 1.1590 - accuracy: 0.4663 - val_loss: 1.0230 - val_accuracy: 0.4450\n",
      "Epoch 4/50\n",
      "800/800 [==============================] - 0s 78us/sample - loss: 0.9322 - accuracy: 0.5688 - val_loss: 1.2588 - val_accuracy: 0.1900\n",
      "Epoch 5/50\n",
      "800/800 [==============================] - 0s 78us/sample - loss: 0.8686 - accuracy: 0.6062 - val_loss: 0.6903 - val_accuracy: 0.6500\n",
      "Epoch 6/50\n"
     ]
    },
    {
     "name": "stdout",
     "output_type": "stream",
     "text": [
      "800/800 [==============================] - 0s 80us/sample - loss: 0.7404 - accuracy: 0.6513 - val_loss: 0.9750 - val_accuracy: 0.4300\n",
      "Epoch 7/50\n",
      "800/800 [==============================] - 0s 79us/sample - loss: 0.6277 - accuracy: 0.7287 - val_loss: 0.8288 - val_accuracy: 0.5650\n",
      "Epoch 8/50\n",
      "800/800 [==============================] - 0s 77us/sample - loss: 0.5838 - accuracy: 0.7163 - val_loss: 0.5379 - val_accuracy: 0.7250\n",
      "Epoch 9/50\n",
      "800/800 [==============================] - 0s 72us/sample - loss: 0.4577 - accuracy: 0.7975 - val_loss: 0.6588 - val_accuracy: 0.6800\n",
      "Epoch 10/50\n",
      "800/800 [==============================] - 0s 80us/sample - loss: 0.6912 - accuracy: 0.6950 - val_loss: 0.4497 - val_accuracy: 0.8150\n",
      "Epoch 11/50\n",
      "800/800 [==============================] - 0s 78us/sample - loss: 0.4255 - accuracy: 0.8238 - val_loss: 0.4866 - val_accuracy: 0.7750\n",
      "Epoch 12/50\n",
      "800/800 [==============================] - 0s 80us/sample - loss: 0.3745 - accuracy: 0.8512 - val_loss: 0.4838 - val_accuracy: 0.7950\n",
      "Epoch 13/50\n",
      "800/800 [==============================] - 0s 98us/sample - loss: 0.4022 - accuracy: 0.8175 - val_loss: 0.4322 - val_accuracy: 0.8100\n",
      "Epoch 14/50\n",
      "800/800 [==============================] - 0s 122us/sample - loss: 0.4418 - accuracy: 0.8050 - val_loss: 0.4513 - val_accuracy: 0.8200\n",
      "Epoch 15/50\n",
      "800/800 [==============================] - 0s 109us/sample - loss: 0.3612 - accuracy: 0.8450 - val_loss: 0.4796 - val_accuracy: 0.7800\n",
      "Epoch 16/50\n",
      "800/800 [==============================] - 0s 97us/sample - loss: 0.3665 - accuracy: 0.8462 - val_loss: 0.3559 - val_accuracy: 0.8550\n",
      "Epoch 17/50\n",
      "800/800 [==============================] - 0s 90us/sample - loss: 0.3186 - accuracy: 0.8675 - val_loss: 0.3401 - val_accuracy: 0.8600\n",
      "Epoch 18/50\n",
      "800/800 [==============================] - 0s 89us/sample - loss: 0.2939 - accuracy: 0.8838 - val_loss: 0.4198 - val_accuracy: 0.8950\n",
      "Epoch 19/50\n",
      "800/800 [==============================] - 0s 89us/sample - loss: 0.4111 - accuracy: 0.8338 - val_loss: 0.4136 - val_accuracy: 0.8150\n",
      "Epoch 20/50\n",
      "800/800 [==============================] - 0s 90us/sample - loss: 0.3130 - accuracy: 0.8587 - val_loss: 0.2821 - val_accuracy: 0.8900\n",
      "Epoch 21/50\n",
      "800/800 [==============================] - 0s 95us/sample - loss: 0.3060 - accuracy: 0.8737 - val_loss: 0.2949 - val_accuracy: 0.8900\n",
      "Epoch 22/50\n",
      "800/800 [==============================] - 0s 85us/sample - loss: 0.2839 - accuracy: 0.8863 - val_loss: 0.3099 - val_accuracy: 0.8800\n",
      "Epoch 23/50\n",
      "800/800 [==============================] - 0s 83us/sample - loss: 0.2403 - accuracy: 0.8975 - val_loss: 0.2606 - val_accuracy: 0.9200\n",
      "Epoch 24/50\n",
      "800/800 [==============================] - 0s 84us/sample - loss: 0.3073 - accuracy: 0.8687 - val_loss: 0.2107 - val_accuracy: 0.9500\n",
      "Epoch 25/50\n",
      "800/800 [==============================] - 0s 83us/sample - loss: 0.2215 - accuracy: 0.9075 - val_loss: 0.2745 - val_accuracy: 0.8900\n",
      "Epoch 26/50\n",
      "800/800 [==============================] - 0s 78us/sample - loss: 0.2568 - accuracy: 0.8963 - val_loss: 0.2276 - val_accuracy: 0.9200\n",
      "Epoch 27/50\n",
      "800/800 [==============================] - 0s 80us/sample - loss: 0.2192 - accuracy: 0.9075 - val_loss: 0.4704 - val_accuracy: 0.8100\n",
      "Epoch 28/50\n",
      "800/800 [==============================] - 0s 82us/sample - loss: 0.2445 - accuracy: 0.9050 - val_loss: 0.2888 - val_accuracy: 0.8750\n",
      "Epoch 29/50\n",
      "800/800 [==============================] - 0s 97us/sample - loss: 0.3360 - accuracy: 0.8737 - val_loss: 0.3689 - val_accuracy: 0.8350\n",
      "Epoch 30/50\n",
      "800/800 [==============================] - 0s 87us/sample - loss: 0.2012 - accuracy: 0.9325 - val_loss: 0.5896 - val_accuracy: 0.8000\n",
      "Epoch 31/50\n",
      "800/800 [==============================] - 0s 95us/sample - loss: 0.2837 - accuracy: 0.8875 - val_loss: 0.1833 - val_accuracy: 0.9400\n",
      "Epoch 32/50\n",
      "800/800 [==============================] - 0s 101us/sample - loss: 0.1942 - accuracy: 0.9350 - val_loss: 0.1812 - val_accuracy: 0.9400\n",
      "Epoch 33/50\n",
      "800/800 [==============================] - 0s 99us/sample - loss: 0.1767 - accuracy: 0.9337 - val_loss: 0.1636 - val_accuracy: 0.9550\n",
      "Epoch 34/50\n",
      "800/800 [==============================] - 0s 101us/sample - loss: 0.1499 - accuracy: 0.9463 - val_loss: 0.2275 - val_accuracy: 0.9400\n",
      "Epoch 35/50\n",
      "800/800 [==============================] - 0s 97us/sample - loss: 0.1900 - accuracy: 0.9312 - val_loss: 0.2006 - val_accuracy: 0.9450\n",
      "Epoch 36/50\n",
      "800/800 [==============================] - 0s 88us/sample - loss: 0.1514 - accuracy: 0.9438 - val_loss: 0.1620 - val_accuracy: 0.9400\n",
      "Epoch 37/50\n",
      "800/800 [==============================] - 0s 88us/sample - loss: 0.1568 - accuracy: 0.9425 - val_loss: 0.3015 - val_accuracy: 0.8800\n",
      "Epoch 38/50\n",
      "800/800 [==============================] - 0s 91us/sample - loss: 0.1839 - accuracy: 0.9300 - val_loss: 0.1502 - val_accuracy: 0.9600\n",
      "Epoch 39/50\n",
      "800/800 [==============================] - 0s 84us/sample - loss: 0.1401 - accuracy: 0.9525 - val_loss: 0.2142 - val_accuracy: 0.9400\n",
      "Epoch 40/50\n",
      "800/800 [==============================] - 0s 85us/sample - loss: 0.1876 - accuracy: 0.9225 - val_loss: 0.1922 - val_accuracy: 0.9250\n",
      "Epoch 41/50\n",
      "800/800 [==============================] - 0s 82us/sample - loss: 0.1451 - accuracy: 0.9362 - val_loss: 0.2629 - val_accuracy: 0.8700\n",
      "Epoch 42/50\n",
      "800/800 [==============================] - 0s 80us/sample - loss: 0.1655 - accuracy: 0.9312 - val_loss: 0.1387 - val_accuracy: 0.9550\n",
      "Epoch 43/50\n",
      "800/800 [==============================] - 0s 84us/sample - loss: 0.1592 - accuracy: 0.9413 - val_loss: 0.1806 - val_accuracy: 0.9600\n",
      "Epoch 44/50\n",
      "800/800 [==============================] - 0s 88us/sample - loss: 0.1314 - accuracy: 0.9513 - val_loss: 0.1852 - val_accuracy: 0.9400\n",
      "Epoch 45/50\n",
      "800/800 [==============================] - 0s 81us/sample - loss: 0.1289 - accuracy: 0.9513 - val_loss: 0.1309 - val_accuracy: 0.9600\n",
      "Epoch 46/50\n",
      "800/800 [==============================] - 0s 100us/sample - loss: 0.1181 - accuracy: 0.9650 - val_loss: 0.1300 - val_accuracy: 0.9600\n",
      "Epoch 47/50\n",
      "800/800 [==============================] - 0s 83us/sample - loss: 0.1115 - accuracy: 0.9650 - val_loss: 0.1262 - val_accuracy: 0.9550\n",
      "Epoch 48/50\n",
      "800/800 [==============================] - 0s 81us/sample - loss: 0.1157 - accuracy: 0.9600 - val_loss: 0.1183 - val_accuracy: 0.9550\n",
      "Epoch 49/50\n",
      "800/800 [==============================] - 0s 75us/sample - loss: 0.1071 - accuracy: 0.9625 - val_loss: 0.1162 - val_accuracy: 0.9500\n",
      "Epoch 50/50\n",
      "800/800 [==============================] - 0s 77us/sample - loss: 0.1398 - accuracy: 0.9475 - val_loss: 0.1168 - val_accuracy: 0.9600\n"
     ]
    }
   ],
   "source": [
    "input_shape = (32, 32, 1)\n",
    "num_classes = 4\n",
    "cnn_model_sq = SimpleCNN.build(width=input_shape[0], height=input_shape[1], depth=input_shape[2],\n",
    "                   num_classes=num_classes)\n",
    "cnn_model_tri = SimpleCNN.build(width=input_shape[0], height=input_shape[1], depth=input_shape[2],\n",
    "                   num_classes=num_classes)\n",
    "\n",
    "CNN_hyperparams = (0.01, 50, 64)\n",
    "H_sq_CNN, sq_CNN_model = train_model(cnn_model_sq, Xsq_train, ysq_train, Xsq_test, ysq_test, num_classes, input_shape, CNN_hyperparams)\n",
    "H_tri_CNN, tri_CNN_model = train_model(cnn_model_tri, Xtri_train, ytri_train, Xtri_test, ytri_test, num_classes, input_shape, CNN_hyperparams)"
   ]
  },
  {
   "cell_type": "markdown",
   "metadata": {},
   "source": [
    "### (c) We have provided a test set of 10 spins configurations for each of the two problems. Each of the spin configurations is not necessarily at the temperatures of the training sets. Calculate your best estimate of the temperatures of these spin configuration. Upload your results to Kaggle.\n",
    "[Hint: A direct fingerprint of temperature is the distribution of spin up\n",
    "and down, because you can image that the spins fluctuate more violently\n",
    "at higher temperature. Although the mothod you use in homework 2 can also work, you may be interested in trying to take distribution into account when you\n",
    "build the model to estimate temperature and see if you can make use of this extra information. This may help you win the\n",
    "kaggle. It is totally fine if you find that the information of distribution is not helpful. Note also that a CNN kind-of does this. One possibility is that you may want a CNN that captures enough distribution information.]"
   ]
  },
  {
   "cell_type": "markdown",
   "metadata": {},
   "source": [
    "Solution to (c)"
   ]
  },
  {
   "cell_type": "code",
   "execution_count": 11,
   "metadata": {},
   "outputs": [
    {
     "data": {
      "text/plain": [
       "'\\nsq_sim_data = []\\ntri_sim_data = []\\nsim_data_temp = []\\n\\nfor temp in temps_vec:    \\n    sq_ising_simu = Ising_sq(32, temp)\\n    tri_ising_simu = Ising_tri(32, temp)\\n    sq_img = sq_ising_simu.simulate()\\n    tri_img = tri_ising_simu.simulate()\\n    \\n    sq_sim_data.append(sq_img)\\n    tri_sim_data.append(tri_img)\\n    \\ncwd = str(os.getcwd())\\nsim_data_path_2 = cwd+\"/sim_data_2.npy\"\\nsim_data_temp_path_2 = cwd+\"/sim_data_temp_2.npy\"\\nsim_data_tot_lv_mean_path = cwd+\"/sim_data_tot_lv_mean.npy\"\\n\\nnp.save(sq_sim_data_path, np.asarray(sq_sim_data))\\nnp.save(tri_sim_data_path, np.asarray(tri_sim_data))\\n'"
      ]
     },
     "execution_count": 11,
     "metadata": {},
     "output_type": "execute_result"
    }
   ],
   "source": [
    "cwd = str(os.getcwd())\n",
    "sq_sim_data_path = cwd+\"/sq_sim_data.npy\"\n",
    "tri_sim_data_path = cwd+\"/tri_sim_data.npy\"\n",
    "\n",
    "temps_vec = np.linspace(0.01,15,num=1500)\n",
    "\n",
    "\"\"\"\n",
    "sq_sim_data = []\n",
    "tri_sim_data = []\n",
    "sim_data_temp = []\n",
    "\n",
    "for temp in temps_vec:    \n",
    "    sq_ising_simu = Ising_sq(32, temp)\n",
    "    tri_ising_simu = Ising_tri(32, temp)\n",
    "    sq_img = sq_ising_simu.simulate()\n",
    "    tri_img = tri_ising_simu.simulate()\n",
    "    \n",
    "    sq_sim_data.append(sq_img)\n",
    "    tri_sim_data.append(tri_img)\n",
    "    \n",
    "cwd = str(os.getcwd())\n",
    "sim_data_path_2 = cwd+\"/sim_data_2.npy\"\n",
    "sim_data_temp_path_2 = cwd+\"/sim_data_temp_2.npy\"\n",
    "sim_data_tot_lv_mean_path = cwd+\"/sim_data_tot_lv_mean.npy\"\n",
    "\n",
    "np.save(sq_sim_data_path, np.asarray(sq_sim_data))\n",
    "np.save(tri_sim_data_path, np.asarray(tri_sim_data))\n",
    "\"\"\""
   ]
  },
  {
   "cell_type": "code",
   "execution_count": 12,
   "metadata": {},
   "outputs": [],
   "source": [
    "# Get the data ready to be embedded\n",
    "sq_sim_img = np.load(sq_sim_data_path).reshape(1500,32,32,-1)\n",
    "tri_sim_img = np.load(tri_sim_data_path).reshape(1500,32,32,-1)"
   ]
  },
  {
   "cell_type": "code",
   "execution_count": 13,
   "metadata": {},
   "outputs": [],
   "source": [
    "sq_sim_img_rs, tri_sim_img_rs = np.repeat(sq_sim_img, 5, 1), np.repeat(tri_sim_img, 5, 1)\n",
    "sq_sim_img_rs, tri_sim_img_rs = np.repeat(sq_sim_img_rs, 5, 2), np.repeat(tri_sim_img_rs, 5, 2)\n",
    "sq_sim_img_rs, tri_sim_img_rs = np.repeat(sq_sim_img_rs, 3, 3), np.repeat(tri_sim_img_rs, 3, 3)"
   ]
  },
  {
   "cell_type": "code",
   "execution_count": 14,
   "metadata": {},
   "outputs": [],
   "source": [
    "# Get pre-trained MobileNetV2 \n",
    "with tf.device('/CPU:0'):\n",
    "    base_model = tf.keras.applications.MobileNetV2(input_shape=(160,160,3),\n",
    "                                                   include_top=False,\n",
    "                                                   weights='imagenet',\n",
    "                                                   classes=4)\n",
    "    base_model.trainable = False"
   ]
  },
  {
   "cell_type": "code",
   "execution_count": 15,
   "metadata": {},
   "outputs": [],
   "source": [
    "# Get the embedded data\n",
    "global_avg_layer = tf.keras.layers.GlobalAveragePooling2D()\n",
    "\n",
    "sq_sim_data_emb = global_avg_layer(base_model.predict(sq_sim_img_rs))\n",
    "sq_sim_data_emb = sq_sim_data_emb.numpy()/sq_sim_data_emb.numpy().max()\n",
    "\n",
    "tri_sim_data_emb = global_avg_layer(base_model.predict(tri_sim_img_rs))\n",
    "tri_sim_data_emb = tri_sim_data_emb.numpy()/tri_sim_data_emb.numpy().max()"
   ]
  },
  {
   "cell_type": "code",
   "execution_count": 16,
   "metadata": {},
   "outputs": [],
   "source": [
    "# Get train/test splits\n",
    "sq_x_train, sq_x_test, sq_y_train, sq_y_test = train_test_split(sq_sim_data_emb, temps_vec, test_size=0.2, random_state=0)\n",
    "tri_x_train, tri_x_test, tri_y_train, tri_y_test = train_test_split(tri_sim_data_emb, temps_vec, test_size=0.2, random_state=0)"
   ]
  },
  {
   "cell_type": "code",
   "execution_count": 17,
   "metadata": {},
   "outputs": [],
   "source": [
    "# Define the model\n",
    "class RegressionHead:\n",
    "    def __init__(self):\n",
    "        model = self\n",
    "    \n",
    "    @staticmethod\n",
    "    def build(channels_first=False):\n",
    "        model = tf.keras.Sequential()\n",
    "        model.add(tf.keras.layers.Dense(612, activation='relu'))\n",
    "        model.add(tf.keras.layers.Dropout(0.25))\n",
    "        model.add(tf.keras.layers.Dense(32, activation='relu'))\n",
    "        model.add(tf.keras.layers.Dropout(0.25))\n",
    "        model.add(tf.keras.layers.BatchNormalization())\n",
    "        model.add(tf.keras.layers.Dense(1, activation='linear'))\n",
    "        \n",
    "        return model"
   ]
  },
  {
   "cell_type": "code",
   "execution_count": 18,
   "metadata": {},
   "outputs": [
    {
     "name": "stdout",
     "output_type": "stream",
     "text": [
      "Train on 1200 samples, validate on 300 samples\n",
      "Epoch 1/50\n",
      "1200/1200 [==============================] - 1s 555us/sample - loss: 55.1380 - MeanSquaredError: 55.1380 - val_loss: 48.3800 - val_MeanSquaredError: 48.3800\n",
      "Epoch 2/50\n",
      "1200/1200 [==============================] - 0s 76us/sample - loss: 41.0185 - MeanSquaredError: 41.0185 - val_loss: 47.6785 - val_MeanSquaredError: 47.6785\n",
      "Epoch 3/50\n",
      "1200/1200 [==============================] - 0s 78us/sample - loss: 32.2175 - MeanSquaredError: 32.2175 - val_loss: 38.0394 - val_MeanSquaredError: 38.0394\n",
      "Epoch 4/50\n",
      "1200/1200 [==============================] - 0s 89us/sample - loss: 25.2200 - MeanSquaredError: 25.2200 - val_loss: 21.8155 - val_MeanSquaredError: 21.8155\n",
      "Epoch 5/50\n",
      "1200/1200 [==============================] - 0s 75us/sample - loss: 19.3599 - MeanSquaredError: 19.3599 - val_loss: 21.1247 - val_MeanSquaredError: 21.1247\n",
      "Epoch 6/50\n",
      "1200/1200 [==============================] - 0s 77us/sample - loss: 15.2664 - MeanSquaredError: 15.2664 - val_loss: 17.7490 - val_MeanSquaredError: 17.7490\n",
      "Epoch 7/50\n",
      "1200/1200 [==============================] - 0s 77us/sample - loss: 12.2131 - MeanSquaredError: 12.2131 - val_loss: 12.0315 - val_MeanSquaredError: 12.0315\n",
      "Epoch 8/50\n",
      "1200/1200 [==============================] - 0s 79us/sample - loss: 9.6683 - MeanSquaredError: 9.6683 - val_loss: 6.9873 - val_MeanSquaredError: 6.9873\n",
      "Epoch 9/50\n",
      "1200/1200 [==============================] - 0s 78us/sample - loss: 7.9075 - MeanSquaredError: 7.9075 - val_loss: 5.3768 - val_MeanSquaredError: 5.3768\n",
      "Epoch 10/50\n",
      "1200/1200 [==============================] - 0s 78us/sample - loss: 6.8129 - MeanSquaredError: 6.8129 - val_loss: 3.5707 - val_MeanSquaredError: 3.5707\n",
      "Epoch 11/50\n",
      "1200/1200 [==============================] - 0s 81us/sample - loss: 6.0616 - MeanSquaredError: 6.0616 - val_loss: 8.8026 - val_MeanSquaredError: 8.8026\n",
      "Epoch 12/50\n",
      "1200/1200 [==============================] - 0s 84us/sample - loss: 5.2790 - MeanSquaredError: 5.2790 - val_loss: 4.5310 - val_MeanSquaredError: 4.5310\n",
      "Epoch 13/50\n",
      "1200/1200 [==============================] - 0s 84us/sample - loss: 5.0387 - MeanSquaredError: 5.0387 - val_loss: 3.5462 - val_MeanSquaredError: 3.5462\n",
      "Epoch 14/50\n",
      "1200/1200 [==============================] - 0s 91us/sample - loss: 4.8690 - MeanSquaredError: 4.8690 - val_loss: 3.9930 - val_MeanSquaredError: 3.9930\n",
      "Epoch 15/50\n",
      "1200/1200 [==============================] - 0s 82us/sample - loss: 4.6469 - MeanSquaredError: 4.6469 - val_loss: 3.4552 - val_MeanSquaredError: 3.4552\n",
      "Epoch 16/50\n",
      "1200/1200 [==============================] - 0s 83us/sample - loss: 4.4669 - MeanSquaredError: 4.4669 - val_loss: 4.0627 - val_MeanSquaredError: 4.0627\n",
      "Epoch 17/50\n",
      "1200/1200 [==============================] - 0s 74us/sample - loss: 4.3871 - MeanSquaredError: 4.3871 - val_loss: 3.0391 - val_MeanSquaredError: 3.0391\n",
      "Epoch 18/50\n",
      "1200/1200 [==============================] - 0s 73us/sample - loss: 4.4579 - MeanSquaredError: 4.4579 - val_loss: 3.4953 - val_MeanSquaredError: 3.4953\n",
      "Epoch 19/50\n",
      "1200/1200 [==============================] - 0s 74us/sample - loss: 4.3641 - MeanSquaredError: 4.3641 - val_loss: 3.0566 - val_MeanSquaredError: 3.0566\n",
      "Epoch 20/50\n",
      "1200/1200 [==============================] - 0s 72us/sample - loss: 4.2131 - MeanSquaredError: 4.2131 - val_loss: 3.6550 - val_MeanSquaredError: 3.6550\n",
      "Epoch 21/50\n",
      "1200/1200 [==============================] - 0s 76us/sample - loss: 4.2691 - MeanSquaredError: 4.2691 - val_loss: 3.8825 - val_MeanSquaredError: 3.8825\n",
      "Epoch 22/50\n",
      "1200/1200 [==============================] - 0s 75us/sample - loss: 4.1357 - MeanSquaredError: 4.1357 - val_loss: 3.2740 - val_MeanSquaredError: 3.2740\n",
      "Epoch 23/50\n",
      "1200/1200 [==============================] - 0s 80us/sample - loss: 3.9110 - MeanSquaredError: 3.9110 - val_loss: 3.0126 - val_MeanSquaredError: 3.0126\n",
      "Epoch 24/50\n",
      "1200/1200 [==============================] - 0s 85us/sample - loss: 4.2097 - MeanSquaredError: 4.2097 - val_loss: 3.0383 - val_MeanSquaredError: 3.0383\n",
      "Epoch 25/50\n",
      "1200/1200 [==============================] - 0s 89us/sample - loss: 4.3222 - MeanSquaredError: 4.3222 - val_loss: 2.9683 - val_MeanSquaredError: 2.9683\n",
      "Epoch 26/50\n",
      "1200/1200 [==============================] - 0s 74us/sample - loss: 3.9191 - MeanSquaredError: 3.9191 - val_loss: 3.1051 - val_MeanSquaredError: 3.1051\n",
      "Epoch 27/50\n",
      "1200/1200 [==============================] - 0s 79us/sample - loss: 4.2670 - MeanSquaredError: 4.2670 - val_loss: 3.1288 - val_MeanSquaredError: 3.1288\n",
      "Epoch 28/50\n",
      "1200/1200 [==============================] - 0s 77us/sample - loss: 4.0772 - MeanSquaredError: 4.0772 - val_loss: 3.5071 - val_MeanSquaredError: 3.5071\n",
      "Epoch 29/50\n",
      "1200/1200 [==============================] - 0s 75us/sample - loss: 3.8748 - MeanSquaredError: 3.8748 - val_loss: 3.7478 - val_MeanSquaredError: 3.7478\n",
      "Epoch 30/50\n",
      "1200/1200 [==============================] - 0s 76us/sample - loss: 3.9814 - MeanSquaredError: 3.9814 - val_loss: 2.9735 - val_MeanSquaredError: 2.9735\n",
      "Epoch 31/50\n",
      "1200/1200 [==============================] - 0s 77us/sample - loss: 3.9403 - MeanSquaredError: 3.9403 - val_loss: 3.0628 - val_MeanSquaredError: 3.0628\n",
      "Epoch 32/50\n",
      "1200/1200 [==============================] - 0s 77us/sample - loss: 4.0167 - MeanSquaredError: 4.0167 - val_loss: 3.0708 - val_MeanSquaredError: 3.0708\n",
      "Epoch 33/50\n",
      "1200/1200 [==============================] - 0s 82us/sample - loss: 4.1995 - MeanSquaredError: 4.1995 - val_loss: 3.1021 - val_MeanSquaredError: 3.1021\n",
      "Epoch 34/50\n",
      "1200/1200 [==============================] - 0s 81us/sample - loss: 3.9783 - MeanSquaredError: 3.9783 - val_loss: 4.9327 - val_MeanSquaredError: 4.9327\n",
      "Epoch 35/50\n",
      "1200/1200 [==============================] - 0s 92us/sample - loss: 3.9043 - MeanSquaredError: 3.9043 - val_loss: 2.9629 - val_MeanSquaredError: 2.9629\n",
      "Epoch 36/50\n",
      "1200/1200 [==============================] - 0s 79us/sample - loss: 3.8265 - MeanSquaredError: 3.8265 - val_loss: 3.0852 - val_MeanSquaredError: 3.0852\n",
      "Epoch 37/50\n",
      "1200/1200 [==============================] - 0s 72us/sample - loss: 3.8953 - MeanSquaredError: 3.8953 - val_loss: 3.8461 - val_MeanSquaredError: 3.8461\n",
      "Epoch 38/50\n",
      "1200/1200 [==============================] - 0s 71us/sample - loss: 3.6987 - MeanSquaredError: 3.6987 - val_loss: 3.1362 - val_MeanSquaredError: 3.1362\n",
      "Epoch 39/50\n",
      "1200/1200 [==============================] - 0s 77us/sample - loss: 3.7687 - MeanSquaredError: 3.7687 - val_loss: 3.1070 - val_MeanSquaredError: 3.1070\n",
      "Epoch 40/50\n",
      "1200/1200 [==============================] - 0s 72us/sample - loss: 3.8549 - MeanSquaredError: 3.8549 - val_loss: 5.1295 - val_MeanSquaredError: 5.1295\n",
      "Epoch 41/50\n",
      "1200/1200 [==============================] - 0s 72us/sample - loss: 3.8055 - MeanSquaredError: 3.8055 - val_loss: 3.0911 - val_MeanSquaredError: 3.0911\n",
      "Epoch 42/50\n",
      "1200/1200 [==============================] - 0s 76us/sample - loss: 3.7764 - MeanSquaredError: 3.7764 - val_loss: 3.4776 - val_MeanSquaredError: 3.4776\n",
      "Epoch 43/50\n",
      "1200/1200 [==============================] - 0s 83us/sample - loss: 3.5817 - MeanSquaredError: 3.5817 - val_loss: 3.1991 - val_MeanSquaredError: 3.1991\n",
      "Epoch 44/50\n",
      "1200/1200 [==============================] - 0s 75us/sample - loss: 3.6708 - MeanSquaredError: 3.6708 - val_loss: 3.0521 - val_MeanSquaredError: 3.0521\n",
      "Epoch 45/50\n",
      "1200/1200 [==============================] - 0s 77us/sample - loss: 3.7106 - MeanSquaredError: 3.7106 - val_loss: 3.6894 - val_MeanSquaredError: 3.6894\n",
      "Epoch 46/50\n",
      "1200/1200 [==============================] - 0s 89us/sample - loss: 3.3119 - MeanSquaredError: 3.3119 - val_loss: 2.9649 - val_MeanSquaredError: 2.9649\n",
      "Epoch 47/50\n",
      "1200/1200 [==============================] - 0s 78us/sample - loss: 3.7362 - MeanSquaredError: 3.7362 - val_loss: 4.1911 - val_MeanSquaredError: 4.1911\n",
      "Epoch 48/50\n",
      "1200/1200 [==============================] - 0s 81us/sample - loss: 3.8204 - MeanSquaredError: 3.8204 - val_loss: 3.0651 - val_MeanSquaredError: 3.0651\n",
      "Epoch 49/50\n",
      "1200/1200 [==============================] - 0s 78us/sample - loss: 3.4878 - MeanSquaredError: 3.4878 - val_loss: 3.5466 - val_MeanSquaredError: 3.5466\n",
      "Epoch 50/50\n"
     ]
    },
    {
     "name": "stdout",
     "output_type": "stream",
     "text": [
      "1200/1200 [==============================] - 0s 79us/sample - loss: 3.8450 - MeanSquaredError: 3.8450 - val_loss: 4.6188 - val_MeanSquaredError: 4.6188\n"
     ]
    }
   ],
   "source": [
    "INIT_LR = 0.01# learning rate\n",
    "EPOCHS = 50 # number of epochs\n",
    "BS = 32 # batch size\n",
    "OPT = optimizers.Adagrad(lr=INIT_LR) # optimizing function\n",
    "LOSS = keras.losses.MeanSquaredError()\n",
    "\n",
    "sq_reg_model = RegressionHead.build()\n",
    "sq_reg_model.compile(optimizer=OPT, loss=LOSS, metrics=['MeanSquaredError'])\n",
    "sq_reg_H = sq_reg_model.fit(sq_x_train, sq_y_train, validation_data=(sq_x_test, sq_y_test), epochs=EPOCHS,\n",
    "                  batch_size=BS)"
   ]
  },
  {
   "cell_type": "code",
   "execution_count": 19,
   "metadata": {},
   "outputs": [
    {
     "name": "stdout",
     "output_type": "stream",
     "text": [
      "Train on 1200 samples, validate on 300 samples\n",
      "Epoch 1/50\n",
      "1200/1200 [==============================] - 0s 373us/sample - loss: 52.5781 - MeanSquaredError: 52.5781 - val_loss: 46.2019 - val_MeanSquaredError: 46.2019\n",
      "Epoch 2/50\n",
      "1200/1200 [==============================] - 0s 81us/sample - loss: 39.2319 - MeanSquaredError: 39.2319 - val_loss: 36.2275 - val_MeanSquaredError: 36.2275\n",
      "Epoch 3/50\n",
      "1200/1200 [==============================] - 0s 78us/sample - loss: 29.8982 - MeanSquaredError: 29.8982 - val_loss: 31.5353 - val_MeanSquaredError: 31.5353\n",
      "Epoch 4/50\n",
      "1200/1200 [==============================] - 0s 79us/sample - loss: 22.9369 - MeanSquaredError: 22.9369 - val_loss: 26.8321 - val_MeanSquaredError: 26.8321\n",
      "Epoch 5/50\n",
      "1200/1200 [==============================] - 0s 78us/sample - loss: 17.5142 - MeanSquaredError: 17.5142 - val_loss: 18.4955 - val_MeanSquaredError: 18.4955\n",
      "Epoch 6/50\n",
      "1200/1200 [==============================] - 0s 74us/sample - loss: 13.8613 - MeanSquaredError: 13.8613 - val_loss: 16.1651 - val_MeanSquaredError: 16.1651\n",
      "Epoch 7/50\n",
      "1200/1200 [==============================] - 0s 72us/sample - loss: 11.0519 - MeanSquaredError: 11.0519 - val_loss: 9.4677 - val_MeanSquaredError: 9.4677\n",
      "Epoch 8/50\n",
      "1200/1200 [==============================] - 0s 74us/sample - loss: 8.5148 - MeanSquaredError: 8.5148 - val_loss: 6.5422 - val_MeanSquaredError: 6.5422\n",
      "Epoch 9/50\n",
      "1200/1200 [==============================] - 0s 74us/sample - loss: 7.1458 - MeanSquaredError: 7.1458 - val_loss: 9.1191 - val_MeanSquaredError: 9.1191\n",
      "Epoch 10/50\n",
      "1200/1200 [==============================] - 0s 79us/sample - loss: 6.1809 - MeanSquaredError: 6.1809 - val_loss: 3.6445 - val_MeanSquaredError: 3.6445\n",
      "Epoch 11/50\n",
      "1200/1200 [==============================] - 0s 74us/sample - loss: 5.4390 - MeanSquaredError: 5.4390 - val_loss: 3.9419 - val_MeanSquaredError: 3.9419\n",
      "Epoch 12/50\n",
      "1200/1200 [==============================] - 0s 72us/sample - loss: 4.8986 - MeanSquaredError: 4.8986 - val_loss: 3.7188 - val_MeanSquaredError: 3.7188\n",
      "Epoch 13/50\n",
      "1200/1200 [==============================] - 0s 79us/sample - loss: 4.4667 - MeanSquaredError: 4.4667 - val_loss: 5.3109 - val_MeanSquaredError: 5.3109\n",
      "Epoch 14/50\n",
      "1200/1200 [==============================] - 0s 74us/sample - loss: 4.0998 - MeanSquaredError: 4.0998 - val_loss: 2.1552 - val_MeanSquaredError: 2.1552\n",
      "Epoch 15/50\n",
      "1200/1200 [==============================] - 0s 81us/sample - loss: 3.6021 - MeanSquaredError: 3.6021 - val_loss: 1.7251 - val_MeanSquaredError: 1.7251\n",
      "Epoch 16/50\n",
      "1200/1200 [==============================] - 0s 80us/sample - loss: 3.5103 - MeanSquaredError: 3.5103 - val_loss: 1.8746 - val_MeanSquaredError: 1.8746\n",
      "Epoch 17/50\n",
      "1200/1200 [==============================] - 0s 76us/sample - loss: 3.5991 - MeanSquaredError: 3.5991 - val_loss: 2.8931 - val_MeanSquaredError: 2.8931\n",
      "Epoch 18/50\n",
      "1200/1200 [==============================] - 0s 73us/sample - loss: 3.6034 - MeanSquaredError: 3.6034 - val_loss: 2.0302 - val_MeanSquaredError: 2.0302\n",
      "Epoch 19/50\n",
      "1200/1200 [==============================] - 0s 76us/sample - loss: 3.2109 - MeanSquaredError: 3.2109 - val_loss: 2.1801 - val_MeanSquaredError: 2.1801\n",
      "Epoch 20/50\n",
      "1200/1200 [==============================] - 0s 81us/sample - loss: 3.6039 - MeanSquaredError: 3.6039 - val_loss: 1.7491 - val_MeanSquaredError: 1.7491\n",
      "Epoch 21/50\n",
      "1200/1200 [==============================] - 0s 85us/sample - loss: 3.7020 - MeanSquaredError: 3.7020 - val_loss: 2.0736 - val_MeanSquaredError: 2.0736\n",
      "Epoch 22/50\n",
      "1200/1200 [==============================] - 0s 85us/sample - loss: 3.4286 - MeanSquaredError: 3.4286 - val_loss: 1.6808 - val_MeanSquaredError: 1.6808\n",
      "Epoch 23/50\n",
      "1200/1200 [==============================] - 0s 88us/sample - loss: 3.2945 - MeanSquaredError: 3.2945 - val_loss: 2.0668 - val_MeanSquaredError: 2.0668\n",
      "Epoch 24/50\n",
      "1200/1200 [==============================] - 0s 86us/sample - loss: 3.2011 - MeanSquaredError: 3.2011 - val_loss: 1.9077 - val_MeanSquaredError: 1.9077\n",
      "Epoch 25/50\n",
      "1200/1200 [==============================] - 0s 80us/sample - loss: 3.6755 - MeanSquaredError: 3.6755 - val_loss: 2.0117 - val_MeanSquaredError: 2.0117\n",
      "Epoch 26/50\n",
      "1200/1200 [==============================] - 0s 85us/sample - loss: 2.8987 - MeanSquaredError: 2.8987 - val_loss: 1.7875 - val_MeanSquaredError: 1.7875\n",
      "Epoch 27/50\n",
      "1200/1200 [==============================] - 0s 85us/sample - loss: 3.1229 - MeanSquaredError: 3.1229 - val_loss: 1.7162 - val_MeanSquaredError: 1.7162\n",
      "Epoch 28/50\n",
      "1200/1200 [==============================] - 0s 83us/sample - loss: 3.2071 - MeanSquaredError: 3.2071 - val_loss: 1.6594 - val_MeanSquaredError: 1.6594\n",
      "Epoch 29/50\n",
      "1200/1200 [==============================] - 0s 78us/sample - loss: 3.4438 - MeanSquaredError: 3.4438 - val_loss: 1.8599 - val_MeanSquaredError: 1.8599\n",
      "Epoch 30/50\n",
      "1200/1200 [==============================] - 0s 77us/sample - loss: 3.3555 - MeanSquaredError: 3.3555 - val_loss: 1.9769 - val_MeanSquaredError: 1.9769\n",
      "Epoch 31/50\n",
      "1200/1200 [==============================] - 0s 80us/sample - loss: 3.2935 - MeanSquaredError: 3.2935 - val_loss: 1.8481 - val_MeanSquaredError: 1.8481\n",
      "Epoch 32/50\n",
      "1200/1200 [==============================] - 0s 81us/sample - loss: 3.1326 - MeanSquaredError: 3.1326 - val_loss: 1.7701 - val_MeanSquaredError: 1.7701\n",
      "Epoch 33/50\n",
      "1200/1200 [==============================] - 0s 78us/sample - loss: 3.0422 - MeanSquaredError: 3.0422 - val_loss: 1.8933 - val_MeanSquaredError: 1.8933\n",
      "Epoch 34/50\n",
      "1200/1200 [==============================] - 0s 78us/sample - loss: 3.3343 - MeanSquaredError: 3.3343 - val_loss: 2.0502 - val_MeanSquaredError: 2.0502\n",
      "Epoch 35/50\n",
      "1200/1200 [==============================] - 0s 79us/sample - loss: 2.9907 - MeanSquaredError: 2.9907 - val_loss: 2.1843 - val_MeanSquaredError: 2.1843\n",
      "Epoch 36/50\n",
      "1200/1200 [==============================] - 0s 92us/sample - loss: 3.4993 - MeanSquaredError: 3.4993 - val_loss: 1.7502 - val_MeanSquaredError: 1.7502\n",
      "Epoch 37/50\n",
      "1200/1200 [==============================] - 0s 77us/sample - loss: 3.0685 - MeanSquaredError: 3.0685 - val_loss: 1.9192 - val_MeanSquaredError: 1.9192\n",
      "Epoch 38/50\n",
      "1200/1200 [==============================] - 0s 77us/sample - loss: 2.9644 - MeanSquaredError: 2.9644 - val_loss: 1.8845 - val_MeanSquaredError: 1.8845\n",
      "Epoch 39/50\n",
      "1200/1200 [==============================] - 0s 72us/sample - loss: 2.9201 - MeanSquaredError: 2.9201 - val_loss: 1.9204 - val_MeanSquaredError: 1.9204\n",
      "Epoch 40/50\n",
      "1200/1200 [==============================] - 0s 84us/sample - loss: 2.9531 - MeanSquaredError: 2.9531 - val_loss: 2.6273 - val_MeanSquaredError: 2.6273\n",
      "Epoch 41/50\n",
      "1200/1200 [==============================] - 0s 89us/sample - loss: 3.2907 - MeanSquaredError: 3.2907 - val_loss: 1.6796 - val_MeanSquaredError: 1.6796\n",
      "Epoch 42/50\n",
      "1200/1200 [==============================] - 0s 86us/sample - loss: 3.0060 - MeanSquaredError: 3.0060 - val_loss: 2.0972 - val_MeanSquaredError: 2.0972\n",
      "Epoch 43/50\n",
      "1200/1200 [==============================] - 0s 88us/sample - loss: 3.1087 - MeanSquaredError: 3.1087 - val_loss: 2.0878 - val_MeanSquaredError: 2.0878\n",
      "Epoch 44/50\n",
      "1200/1200 [==============================] - 0s 86us/sample - loss: 2.8091 - MeanSquaredError: 2.8091 - val_loss: 1.5979 - val_MeanSquaredError: 1.5979\n",
      "Epoch 45/50\n",
      "1200/1200 [==============================] - 0s 78us/sample - loss: 2.9909 - MeanSquaredError: 2.9909 - val_loss: 1.6273 - val_MeanSquaredError: 1.6273\n",
      "Epoch 46/50\n",
      "1200/1200 [==============================] - 0s 75us/sample - loss: 3.0507 - MeanSquaredError: 3.0507 - val_loss: 1.6457 - val_MeanSquaredError: 1.6457\n",
      "Epoch 47/50\n",
      "1200/1200 [==============================] - 0s 79us/sample - loss: 3.1196 - MeanSquaredError: 3.1196 - val_loss: 1.6480 - val_MeanSquaredError: 1.6480\n",
      "Epoch 48/50\n",
      "1200/1200 [==============================] - 0s 84us/sample - loss: 3.2092 - MeanSquaredError: 3.2092 - val_loss: 1.8157 - val_MeanSquaredError: 1.8157\n",
      "Epoch 49/50\n",
      "1200/1200 [==============================] - 0s 84us/sample - loss: 3.0685 - MeanSquaredError: 3.0685 - val_loss: 2.1077 - val_MeanSquaredError: 2.1077\n",
      "Epoch 50/50\n"
     ]
    },
    {
     "name": "stdout",
     "output_type": "stream",
     "text": [
      "1200/1200 [==============================] - 0s 86us/sample - loss: 3.0658 - MeanSquaredError: 3.0658 - val_loss: 1.8976 - val_MeanSquaredError: 1.8976\n"
     ]
    }
   ],
   "source": [
    "INIT_LR = 0.01# learning rate\n",
    "EPOCHS = 50 # number of epochs\n",
    "BS = 32 # batch size\n",
    "OPT = optimizers.Adagrad(lr=INIT_LR) # optimizing function\n",
    "LOSS = keras.losses.MeanSquaredError()\n",
    "\n",
    "tri_reg_model = RegressionHead.build()\n",
    "tri_reg_model.compile(optimizer=OPT, loss=LOSS, metrics=['MeanSquaredError'])\n",
    "tri_reg_H = tri_reg_model.fit(tri_x_train, tri_y_train, validation_data=(tri_x_test, tri_y_test), epochs=EPOCHS,\n",
    "                  batch_size=BS)"
   ]
  },
  {
   "cell_type": "code",
   "execution_count": 20,
   "metadata": {},
   "outputs": [],
   "source": [
    "sq_sim_data_probas = sq_CNN_model.predict_proba(sq_sim_img)\n",
    "tri_sim_data_probas = sq_CNN_model.predict_proba(tri_sim_img)"
   ]
  },
  {
   "cell_type": "code",
   "execution_count": 21,
   "metadata": {},
   "outputs": [],
   "source": [
    "def T_import(dir):\n",
    "    temp = []\n",
    "    for i in range(len(os.listdir(dir+'/'))):\n",
    "        temp.append(np.loadtxt((dir+'/')+str(i).zfill(3), delimiter=','))\n",
    "    return np.array(temp)\n",
    "\n",
    "def T10_import(dir):\n",
    "    temp = []\n",
    "    for i in range(0,10):\n",
    "        for j in range(0,10):\n",
    "            temp.append(np.loadtxt((dir+'/T0'+str(i)+'#')+str(j).zfill(2), delimiter=','))\n",
    "    return np.array(temp)"
   ]
  },
  {
   "cell_type": "code",
   "execution_count": 22,
   "metadata": {},
   "outputs": [],
   "source": [
    "tri_t10_img = T10_import(cwd+'/triangle_10T').reshape(100,32,32,-1)\n",
    "sq_t10_img = T10_import(cwd+'/square_10T').reshape(100,32,32,-1)"
   ]
  },
  {
   "cell_type": "code",
   "execution_count": 23,
   "metadata": {},
   "outputs": [],
   "source": [
    "sq_t10_img_rs, tri_t10_img_rs = np.repeat(sq_t10_img, 5, 1), np.repeat(tri_t10_img, 5, 1)\n",
    "sq_t10_img_rs, tri_t10_img_rs = np.repeat(sq_t10_img_rs, 5, 2), np.repeat(tri_t10_img_rs, 5, 2)\n",
    "sq_t10_img_rs, tri_t10_img_rs = np.repeat(sq_t10_img_rs, 3, 3), np.repeat(tri_t10_img_rs, 3, 3)"
   ]
  },
  {
   "cell_type": "code",
   "execution_count": 24,
   "metadata": {},
   "outputs": [],
   "source": [
    "sq_t10_data_emb = global_avg_layer(base_model.predict(sq_t10_img_rs))\n",
    "sq_t10_data_emb = sq_t10_data_emb.numpy()/sq_t10_data_emb.numpy().max()\n",
    "\n",
    "tri_t10_data_emb = global_avg_layer(base_model.predict(tri_t10_img_rs))\n",
    "tri_t10_data_emb = tri_t10_data_emb.numpy()/tri_t10_data_emb.numpy().max()"
   ]
  },
  {
   "cell_type": "code",
   "execution_count": 25,
   "metadata": {},
   "outputs": [],
   "source": [
    "from sklearn.manifold import TSNE\n",
    "from sklearn.decomposition import PCA\n",
    "\n",
    "tsne = TSNE(n_components=2)\n",
    "pca = PCA(n_components=2)\n",
    "tsne_img_emb = tsne.fit_transform(tri_t10_data_emb)\n",
    "pca_img_emb = pca.fit_transform(tri_t10_data_emb)"
   ]
  },
  {
   "cell_type": "code",
   "execution_count": 26,
   "metadata": {},
   "outputs": [
    {
     "data": {
      "image/png": "[encoded data removed]",
      "text/plain": [
       "<Figure size 432x288 with 1 Axes>"
      ]
     },
     "metadata": {
      "needs_background": "light"
     },
     "output_type": "display_data"
    }
   ],
   "source": [
    "for i in range(2):\n",
    "    plt.plot(tsne_img_emb.transpose()[0],tsne_img_emb.transpose()[1],'.',markersize=12)\n",
    "plt.title(\"TSNE\")\n",
    "plt.show()"
   ]
  },
  {
   "cell_type": "code",
   "execution_count": 27,
   "metadata": {},
   "outputs": [
    {
     "data": {
      "image/png": "[encoded data removed]",
      "text/plain": [
       "<Figure size 432x288 with 1 Axes>"
      ]
     },
     "metadata": {
      "needs_background": "light"
     },
     "output_type": "display_data"
    }
   ],
   "source": [
    "for i in range(2):\n",
    "    plt.plot(pca_img_emb.transpose()[0], pca_img_emb.transpose()[1],'.',markersize=12)\n",
    "plt.title(\"PCA\")\n",
    "plt.show()"
   ]
  },
  {
   "cell_type": "code",
   "execution_count": 28,
   "metadata": {},
   "outputs": [],
   "source": [
    "tri_pred_temps = tri_reg_model.predict(tri_t10_data_emb).reshape(10,-1)\n",
    "sq_pred_temps = tri_reg_model.predict(sq_t10_data_emb).reshape(10,-1)"
   ]
  },
  {
   "cell_type": "code",
   "execution_count": 29,
   "metadata": {},
   "outputs": [],
   "source": [
    "all_tri_class_probas = tri_CNN_model.predict_proba(tri_t10_img).reshape(10,-1,4)\n",
    "all_sq_class_probas = sq_CNN_model.predict_proba(sq_t10_img).reshape(10,-1,4)"
   ]
  },
  {
   "cell_type": "code",
   "execution_count": 30,
   "metadata": {},
   "outputs": [],
   "source": [
    "avg_tri_class_probas = np.mean(all_tri_class_probas, axis=1)\n",
    "avg_sq_class_probas = np.mean(all_sq_class_probas, axis=1)"
   ]
  },
  {
   "cell_type": "code",
   "execution_count": 31,
   "metadata": {},
   "outputs": [],
   "source": [
    "from scipy.spatial import distance\n",
    "\n",
    "tri_temp_list = []\n",
    "sq_temp_list = []\n",
    "\n",
    "for proba in avg_tri_class_probas:\n",
    "    dist_list = []\n",
    "    for proba_2 in tri_sim_data_probas:\n",
    "        dist_list.append(distance.euclidean(proba, proba_2))\n",
    "    max_idx = dist_list.index(min(dist_list))\n",
    "    tri_temp_list.append(temps_vec[max_idx])\n",
    "    \n",
    "for proba in avg_sq_class_probas:\n",
    "    dist_list = []\n",
    "    for proba_2 in sq_sim_data_probas:\n",
    "        dist_list.append(distance.euclidean(proba, proba_2))\n",
    "    max_idx = dist_list.index(min(dist_list))\n",
    "    sq_temp_list.append(temps_vec[max_idx])"
   ]
  },
  {
   "cell_type": "code",
   "execution_count": 32,
   "metadata": {},
   "outputs": [
    {
     "data": {
      "text/plain": [
       "[4.47,\n",
       " 2.53,\n",
       " 2.1199999999999997,\n",
       " 1.23,\n",
       " 0.5800000000000001,\n",
       " 2.94,\n",
       " 2.8299999999999996,\n",
       " 1.9100000000000001,\n",
       " 3.86,\n",
       " 1.35]"
      ]
     },
     "execution_count": 32,
     "metadata": {},
     "output_type": "execute_result"
    }
   ],
   "source": [
    "sq_temp_list"
   ]
  },
  {
   "cell_type": "code",
   "execution_count": 33,
   "metadata": {},
   "outputs": [
    {
     "data": {
      "text/plain": [
       "[4.89,\n",
       " 3.59,\n",
       " 4.28,\n",
       " 3.8899999999999997,\n",
       " 4.4399999999999995,\n",
       " 4.43,\n",
       " 4.79,\n",
       " 2.42,\n",
       " 5.06,\n",
       " 3.1399999999999997]"
      ]
     },
     "execution_count": 33,
     "metadata": {},
     "output_type": "execute_result"
    }
   ],
   "source": [
    "tri_temp_list"
   ]
  },
  {
   "cell_type": "markdown",
   "metadata": {},
   "source": [
    "### (d) *Transfer Learning*.  \n",
    "As we emphasize in class, one can freeze the training of the bottom layers of a network and retrain the top part of the network to adopt to a new situation. Use your CNN that you trained on the squarelattice data to do transfer learning on the triangular lattice data.  How does the performance compare to that of the direct methods?  Add the performance numbers for transfer learning in your table from Part (a). Note that the training time and number of training examples needed for transfer learning is far less than that for the direct  optimization. For  example,  is  50  triangle  example  sufficient  for the re-training process?  Use your transfer learning result to predict the transition temperature of triangle lattice Ising model, as demonstrated in this [Nature Physics](https://www-nature-com.ezp-prod1.hul.harvard.edu/articles/nphys4035.pdf) publication.\n",
    "\n",
    "As a guideline, you may like to just change the last `Dense` layer with `softmax` activation when you do the transfer learning. Other choices are also OK."
   ]
  },
  {
   "cell_type": "markdown",
   "metadata": {
    "ExecuteTime": {
     "end_time": "2020-02-24T16:51:16.394160Z",
     "start_time": "2020-02-24T16:51:16.390887Z"
    }
   },
   "source": [
    "Solution to (d):"
   ]
  },
  {
   "cell_type": "code",
   "execution_count": 34,
   "metadata": {},
   "outputs": [],
   "source": [
    "base_model = sq_CNN_model"
   ]
  },
  {
   "cell_type": "code",
   "execution_count": 35,
   "metadata": {},
   "outputs": [
    {
     "name": "stdout",
     "output_type": "stream",
     "text": [
      "Model: \"sequential_2\"\n",
      "_________________________________________________________________\n",
      "Layer (type)                 Output Shape              Param #   \n",
      "=================================================================\n",
      "conv2d (Conv2D)              (None, 28, 28, 32)        832       \n",
      "_________________________________________________________________\n",
      "max_pooling2d (MaxPooling2D) (None, 14, 14, 32)        0         \n",
      "_________________________________________________________________\n",
      "conv2d_1 (Conv2D)            (None, 12, 12, 64)        18496     \n",
      "_________________________________________________________________\n",
      "max_pooling2d_1 (MaxPooling2 (None, 6, 6, 64)          0         \n",
      "_________________________________________________________________\n",
      "conv2d_2 (Conv2D)            (None, 4, 4, 64)          36928     \n",
      "_________________________________________________________________\n",
      "dropout_10 (Dropout)         (None, 4, 4, 64)          0         \n",
      "_________________________________________________________________\n",
      "flatten_2 (Flatten)          (None, 1024)              0         \n",
      "_________________________________________________________________\n",
      "dropout_11 (Dropout)         (None, 1024)              0         \n",
      "_________________________________________________________________\n",
      "dense_12 (Dense)             (None, 64)                65600     \n",
      "_________________________________________________________________\n",
      "dense_13 (Dense)             (None, 4)                 260       \n",
      "=================================================================\n",
      "Total params: 122,116\n",
      "Trainable params: 122,116\n",
      "Non-trainable params: 0\n",
      "_________________________________________________________________\n"
     ]
    }
   ],
   "source": [
    "base_model.summary()"
   ]
  },
  {
   "cell_type": "code",
   "execution_count": 36,
   "metadata": {},
   "outputs": [],
   "source": [
    "base_layers = base_model.layers[0:5]\n",
    "trainable_layers = [\n",
    "     Flatten(),\n",
    "     Dropout(0.25),\n",
    "     Dense(32, activation='relu'),\n",
    "     Dense(num_classes, activation='softmax')\n",
    "]"
   ]
  },
  {
   "cell_type": "code",
   "execution_count": 37,
   "metadata": {},
   "outputs": [
    {
     "name": "stdout",
     "output_type": "stream",
     "text": [
      "Model: \"sequential_6\"\n",
      "_________________________________________________________________\n",
      "Layer (type)                 Output Shape              Param #   \n",
      "=================================================================\n",
      "conv2d (Conv2D)              (None, 28, 28, 32)        832       \n",
      "_________________________________________________________________\n",
      "max_pooling2d (MaxPooling2D) (None, 14, 14, 32)        0         \n",
      "_________________________________________________________________\n",
      "conv2d_1 (Conv2D)            (None, 12, 12, 64)        18496     \n",
      "_________________________________________________________________\n",
      "max_pooling2d_1 (MaxPooling2 (None, 6, 6, 64)          0         \n",
      "_________________________________________________________________\n",
      "conv2d_2 (Conv2D)            (None, 4, 4, 64)          36928     \n",
      "_________________________________________________________________\n",
      "flatten_4 (Flatten)          (None, 1024)              0         \n",
      "_________________________________________________________________\n",
      "dropout_18 (Dropout)         (None, 1024)              0         \n",
      "_________________________________________________________________\n",
      "dense_22 (Dense)             (None, 32)                32800     \n",
      "_________________________________________________________________\n",
      "dense_23 (Dense)             (None, 4)                 132       \n",
      "=================================================================\n",
      "Total params: 89,188\n",
      "Trainable params: 89,188\n",
      "Non-trainable params: 0\n",
      "_________________________________________________________________\n"
     ]
    }
   ],
   "source": [
    "trans_model = keras.Sequential(base_layers+trainable_layers)\n",
    "trans_model.summary()"
   ]
  },
  {
   "cell_type": "code",
   "execution_count": 38,
   "metadata": {},
   "outputs": [
    {
     "name": "stdout",
     "output_type": "stream",
     "text": [
      "Train on 800 samples, validate on 200 samples\n",
      "Epoch 1/25\n",
      "800/800 [==============================] - 0s 456us/sample - loss: 0.7291 - accuracy: 0.6862 - val_loss: 0.4746 - val_accuracy: 0.8000\n",
      "Epoch 2/25\n",
      "800/800 [==============================] - 0s 100us/sample - loss: 0.4772 - accuracy: 0.7825 - val_loss: 1.2475 - val_accuracy: 0.3600\n",
      "Epoch 3/25\n",
      "800/800 [==============================] - 0s 116us/sample - loss: 0.3944 - accuracy: 0.8363 - val_loss: 0.4983 - val_accuracy: 0.7600\n",
      "Epoch 4/25\n",
      "800/800 [==============================] - 0s 111us/sample - loss: 0.3043 - accuracy: 0.8737 - val_loss: 0.2966 - val_accuracy: 0.8850\n",
      "Epoch 5/25\n",
      "800/800 [==============================] - 0s 106us/sample - loss: 0.2616 - accuracy: 0.8900 - val_loss: 0.3586 - val_accuracy: 0.8600\n",
      "Epoch 6/25\n",
      "800/800 [==============================] - 0s 110us/sample - loss: 0.2762 - accuracy: 0.8863 - val_loss: 0.2119 - val_accuracy: 0.9300\n",
      "Epoch 7/25\n",
      "800/800 [==============================] - 0s 122us/sample - loss: 0.2361 - accuracy: 0.9000 - val_loss: 0.2551 - val_accuracy: 0.9150\n",
      "Epoch 8/25\n",
      "800/800 [==============================] - 0s 123us/sample - loss: 0.2055 - accuracy: 0.9275 - val_loss: 0.2553 - val_accuracy: 0.9100\n",
      "Epoch 9/25\n",
      "800/800 [==============================] - 0s 125us/sample - loss: 0.2282 - accuracy: 0.9062 - val_loss: 0.1779 - val_accuracy: 0.9500\n",
      "Epoch 10/25\n",
      "800/800 [==============================] - 0s 122us/sample - loss: 0.1631 - accuracy: 0.9463 - val_loss: 0.1640 - val_accuracy: 0.9550\n",
      "Epoch 11/25\n",
      "800/800 [==============================] - 0s 120us/sample - loss: 0.1652 - accuracy: 0.9413 - val_loss: 0.1521 - val_accuracy: 0.9450\n",
      "Epoch 12/25\n",
      "800/800 [==============================] - 0s 121us/sample - loss: 0.1538 - accuracy: 0.9500 - val_loss: 0.1467 - val_accuracy: 0.9550\n",
      "Epoch 13/25\n",
      "800/800 [==============================] - 0s 121us/sample - loss: 0.2107 - accuracy: 0.9275 - val_loss: 0.1362 - val_accuracy: 0.9550\n",
      "Epoch 14/25\n",
      "800/800 [==============================] - 0s 121us/sample - loss: 0.1527 - accuracy: 0.9325 - val_loss: 0.1144 - val_accuracy: 0.9600\n",
      "Epoch 15/25\n",
      "800/800 [==============================] - 0s 118us/sample - loss: 0.1315 - accuracy: 0.9525 - val_loss: 0.1313 - val_accuracy: 0.9500\n",
      "Epoch 16/25\n",
      "800/800 [==============================] - 0s 126us/sample - loss: 0.1166 - accuracy: 0.9563 - val_loss: 0.1061 - val_accuracy: 0.9600\n",
      "Epoch 17/25\n",
      "800/800 [==============================] - 0s 121us/sample - loss: 0.1347 - accuracy: 0.9488 - val_loss: 0.1222 - val_accuracy: 0.9600\n",
      "Epoch 18/25\n",
      "800/800 [==============================] - 0s 121us/sample - loss: 0.1423 - accuracy: 0.9500 - val_loss: 0.1386 - val_accuracy: 0.9650\n",
      "Epoch 19/25\n",
      "800/800 [==============================] - 0s 108us/sample - loss: 0.0957 - accuracy: 0.9675 - val_loss: 0.1726 - val_accuracy: 0.9650\n",
      "Epoch 20/25\n",
      "800/800 [==============================] - 0s 106us/sample - loss: 0.1211 - accuracy: 0.9550 - val_loss: 0.1077 - val_accuracy: 0.9650\n",
      "Epoch 21/25\n",
      "800/800 [==============================] - 0s 113us/sample - loss: 0.0837 - accuracy: 0.9712 - val_loss: 0.1012 - val_accuracy: 0.9650\n",
      "Epoch 22/25\n",
      "800/800 [==============================] - 0s 105us/sample - loss: 0.0838 - accuracy: 0.9675 - val_loss: 0.1324 - val_accuracy: 0.9700\n",
      "Epoch 23/25\n",
      "800/800 [==============================] - 0s 103us/sample - loss: 0.1024 - accuracy: 0.9650 - val_loss: 0.1063 - val_accuracy: 0.9600\n",
      "Epoch 24/25\n",
      "800/800 [==============================] - 0s 104us/sample - loss: 0.0745 - accuracy: 0.9688 - val_loss: 0.1095 - val_accuracy: 0.9750\n",
      "Epoch 25/25\n",
      "800/800 [==============================] - 0s 104us/sample - loss: 0.0830 - accuracy: 0.9725 - val_loss: 0.1057 - val_accuracy: 0.9700\n"
     ]
    }
   ],
   "source": [
    "input_shape = (32, 32, 1)\n",
    "num_classes = 4\n",
    "hyperparams = (0.01, 25, 32)\n",
    "H_trans, trained_trans_model = train_model(trans_model, Xtri_train, ytri_train, Xtri_test, ytri_test, num_classes, input_shape, hyperparams)"
   ]
  },
  {
   "cell_type": "code",
   "execution_count": 39,
   "metadata": {},
   "outputs": [],
   "source": [
    "proba_ests = trained_trans_model.predict_proba(tri_sim_img)"
   ]
  },
  {
   "cell_type": "code",
   "execution_count": 54,
   "metadata": {},
   "outputs": [],
   "source": [
    "dist_from_chance = []\n",
    "for proba in proba_ests:\n",
    "    dist_from_chance.append(distance.euclidean(proba,[0.25, 0.25, 0.25, 0.25]))\n",
    "    \n",
    "min_idx = dist_from_chance.index(min(dist_from_chance))"
   ]
  },
  {
   "cell_type": "code",
   "execution_count": 57,
   "metadata": {},
   "outputs": [
    {
     "name": "stdout",
     "output_type": "stream",
     "text": [
      "Estimated Transition Tempurature: 2.94\n"
     ]
    }
   ],
   "source": [
    "print(\"Estimated Transition Tempurature:\", temps_vec[min_idx])"
   ]
  },
  {
   "cell_type": "code",
   "execution_count": 41,
   "metadata": {},
   "outputs": [
    {
     "data": {
      "text/plain": [
       "[<matplotlib.lines.Line2D at 0x7f241c0cce10>]"
      ]
     },
     "execution_count": 41,
     "metadata": {},
     "output_type": "execute_result"
    },
    {
     "data": {
      "image/png": "[encoded data removed]",
      "text/plain": [
       "<Figure size 432x288 with 1 Axes>"
      ]
     },
     "metadata": {
      "needs_background": "light"
     },
     "output_type": "display_data"
    }
   ],
   "source": [
    "plt.plot(proba_ests[:,0])"
   ]
  },
  {
   "cell_type": "code",
   "execution_count": 42,
   "metadata": {},
   "outputs": [
    {
     "data": {
      "text/plain": [
       "[<matplotlib.lines.Line2D at 0x7f241c09e310>]"
      ]
     },
     "execution_count": 42,
     "metadata": {},
     "output_type": "execute_result"
    },
    {
     "data": {
      "image/png": "[encoded data removed]",
      "text/plain": [
       "<Figure size 432x288 with 1 Axes>"
      ]
     },
     "metadata": {
      "needs_background": "light"
     },
     "output_type": "display_data"
    }
   ],
   "source": [
    "plt.plot(proba_ests[:,1])"
   ]
  },
  {
   "cell_type": "code",
   "execution_count": 43,
   "metadata": {},
   "outputs": [
    {
     "data": {
      "text/plain": [
       "[<matplotlib.lines.Line2D at 0x7f23fc7c24d0>]"
      ]
     },
     "execution_count": 43,
     "metadata": {},
     "output_type": "execute_result"
    },
    {
     "data": {
      "image/png": "[encoded data removed]",
      "text/plain": [
       "<Figure size 432x288 with 1 Axes>"
      ]
     },
     "metadata": {
      "needs_background": "light"
     },
     "output_type": "display_data"
    }
   ],
   "source": [
    "plt.plot(proba_ests[:,2])"
   ]
  },
  {
   "cell_type": "code",
   "execution_count": 44,
   "metadata": {},
   "outputs": [
    {
     "data": {
      "text/plain": [
       "[<matplotlib.lines.Line2D at 0x7f23fc7a8610>]"
      ]
     },
     "execution_count": 44,
     "metadata": {},
     "output_type": "execute_result"
    },
    {
     "data": {
      "image/png": "[encoded data removed]",
      "text/plain": [
       "<Figure size 432x288 with 1 Axes>"
      ]
     },
     "metadata": {
      "needs_background": "light"
     },
     "output_type": "display_data"
    }
   ],
   "source": [
    "plt.plot(proba_ests[:,3])"
   ]
  }
 ],
 "metadata": {
  "kernelspec": {
   "display_name": "Python 3",
   "language": "python",
   "name": "python3"
  },
  "language_info": {
   "codemirror_mode": {
    "name": "ipython",
    "version": 3
   },
   "file_extension": ".py",
   "mimetype": "text/x-python",
   "name": "python",
   "nbconvert_exporter": "python",
   "pygments_lexer": "ipython3",
   "version": "3.7.6"
  }
 },
 "nbformat": 4,
 "nbformat_minor": 4
}
